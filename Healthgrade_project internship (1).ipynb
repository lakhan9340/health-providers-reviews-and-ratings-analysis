{
 "cells": [
  {
   "cell_type": "markdown",
   "id": "7228bb68-df09-4944-8c21-7ec74012c5c9",
   "metadata": {},
   "source": [
    "<h1 style=\"text-align: center;\"><strong>Healthcare Provider Reviews and Ratings Analysis</strong></h1>\n"
   ]
  },
  {
   "cell_type": "markdown",
   "id": "0bd73c15-9ed7-4b5e-a1a1-298888d225e3",
   "metadata": {},
   "source": [
    "## 1. Web Scraping"
   ]
  },
  {
   "cell_type": "markdown",
   "id": "a3dd5013-d2b3-401d-ad78-26eb5890351f",
   "metadata": {},
   "source": [
    "<h3 style=\"list-style-type: circle,\"font-family: Times New Roman, serif;\">\n",
    "    <li>Imported libraries</li>"
   ]
  },
  {
   "cell_type": "code",
   "execution_count": 1,
   "id": "5924d9cb-2226-4278-b8f1-fd10d415a10b",
   "metadata": {},
   "outputs": [],
   "source": [
    "import requests\n",
    "from bs4 import BeautifulSoup as bs\n",
    "from concurrent.futures import ThreadPoolExecutor, as_completed\n",
    "from requests.exceptions import HTTPError, RequestException"
   ]
  },
  {
   "cell_type": "markdown",
   "id": "10d30cb5-d31c-41e6-a241-4fbffef6bb37",
   "metadata": {},
   "source": [
    "<h3 style=\"list-style-type: circle,\"font-family: Times New Roman, serif;\">\n",
    "    <li>Created a function to fetch a single page given a URLs</li>"
   ]
  },
  {
   "cell_type": "code",
   "execution_count": 2,
   "id": "34ae7bb5-ceb5-4acb-acef-845793497402",
   "metadata": {},
   "outputs": [
    {
     "name": "stdout",
     "output_type": "stream",
     "text": [
      "Fetched page: https://www.healthgrades.com/usearch?what=Cardiology&pt=40.714550%2C-74.007118&state=NY&where=New%20York%2C%20NY&searchType=PracticingSpecialty&distances=5&sort.provider=bestmatch&zip=10001&pageNum=4\n",
      "Fetched page: https://www.healthgrades.com/usearch?what=Cardiology&pt=40.714550%2C-74.007118&state=NY&where=New%20York%2C%20NY&searchType=PracticingSpecialty&distances=5&sort.provider=bestmatch&zip=10001&pageNum=3\n",
      "Fetched page: https://www.healthgrades.com/usearch?what=Cardiology&pt=40.714550%2C-74.007118&state=NY&where=New%20York%2C%20NY&searchType=PracticingSpecialty&distances=5&sort.provider=bestmatch&zip=10001&pageNum=2\n",
      "Fetched page: https://www.healthgrades.com/usearch?what=Cardiology&pt=40.714550%2C-74.007118&state=NY&where=New%20York%2C%20NY&searchType=PracticingSpecialty&distances=5&sort.provider=bestmatch&zip=10001&pageNum=1\n",
      "Fetched page: https://www.healthgrades.com/usearch?what=Cardiology&pt=40.714550%2C-74.007118&state=NY&where=New%20York%2C%20NY&searchType=PracticingSpecialty&distances=5&sort.provider=bestmatch&zip=10001&pageNum=5\n",
      "Fetched page: https://www.healthgrades.com/usearch?what=Cardiology&pt=40.714550%2C-74.007118&state=NY&where=New%20York%2C%20NY&searchType=PracticingSpecialty&distances=5&sort.provider=bestmatch&zip=10001&pageNum=8\n",
      "Fetched page: https://www.healthgrades.com/usearch?what=Cardiology&pt=40.714550%2C-74.007118&state=NY&where=New%20York%2C%20NY&searchType=PracticingSpecialty&distances=5&sort.provider=bestmatch&zip=10001&pageNum=7\n",
      "Fetched page: https://www.healthgrades.com/usearch?what=Cardiology&pt=40.714550%2C-74.007118&state=NY&where=New%20York%2C%20NY&searchType=PracticingSpecialty&distances=5&sort.provider=bestmatch&zip=10001&pageNum=6\n",
      "Fetched page: https://www.healthgrades.com/usearch?what=Cardiology&pt=40.714550%2C-74.007118&state=NY&where=New%20York%2C%20NY&searchType=PracticingSpecialty&distances=5&sort.provider=bestmatch&zip=10001&pageNum=9\n",
      "Fetched page: https://www.healthgrades.com/usearch?what=Cardiology&pt=40.714550%2C-74.007118&state=NY&where=New%20York%2C%20NY&searchType=PracticingSpecialty&distances=5&sort.provider=bestmatch&zip=10001&pageNum=10\n",
      "Fetched page: https://www.healthgrades.com/usearch?what=Cardiology&pt=40.714550%2C-74.007118&state=NY&where=New%20York%2C%20NY&searchType=PracticingSpecialty&distances=5&sort.provider=bestmatch&zip=10001&pageNum=11\n",
      "Fetched page: https://www.healthgrades.com/usearch?what=Cardiology&pt=40.714550%2C-74.007118&state=NY&where=New%20York%2C%20NY&searchType=PracticingSpecialty&distances=5&sort.provider=bestmatch&zip=10001&pageNum=12\n",
      "Fetched page: https://www.healthgrades.com/usearch?what=Cardiology&pt=40.714550%2C-74.007118&state=NY&where=New%20York%2C%20NY&searchType=PracticingSpecialty&distances=5&sort.provider=bestmatch&zip=10001&pageNum=13\n",
      "Fetched page: https://www.healthgrades.com/usearch?what=Cardiology&pt=40.714550%2C-74.007118&state=NY&where=New%20York%2C%20NY&searchType=PracticingSpecialty&distances=5&sort.provider=bestmatch&zip=10001&pageNum=14\n",
      "Fetched page: https://www.healthgrades.com/usearch?what=Cardiology&pt=40.714550%2C-74.007118&state=NY&where=New%20York%2C%20NY&searchType=PracticingSpecialty&distances=5&sort.provider=bestmatch&zip=10001&pageNum=15\n",
      "Fetched page: https://www.healthgrades.com/usearch?what=Cardiology&pt=40.714550%2C-74.007118&state=NY&where=New%20York%2C%20NY&searchType=PracticingSpecialty&distances=5&sort.provider=bestmatch&zip=10001&pageNum=16\n",
      "Fetched page: https://www.healthgrades.com/usearch?what=Cardiology&pt=40.714550%2C-74.007118&state=NY&where=New%20York%2C%20NY&searchType=PracticingSpecialty&distances=5&sort.provider=bestmatch&zip=10001&pageNum=17\n",
      "Fetched page: https://www.healthgrades.com/usearch?what=Cardiology&pt=40.714550%2C-74.007118&state=NY&where=New%20York%2C%20NY&searchType=PracticingSpecialty&distances=5&sort.provider=bestmatch&zip=10001&pageNum=18\n",
      "Fetched page: https://www.healthgrades.com/usearch?what=Cardiology&pt=40.714550%2C-74.007118&state=NY&where=New%20York%2C%20NY&searchType=PracticingSpecialty&distances=5&sort.provider=bestmatch&zip=10001&pageNum=19\n",
      "Fetched page: https://www.healthgrades.com/usearch?what=Cardiology&pt=40.714550%2C-74.007118&state=NY&where=New%20York%2C%20NY&searchType=PracticingSpecialty&distances=5&sort.provider=bestmatch&zip=10001&pageNum=20\n",
      "Extracted links:\n",
      "/physician/dr-manish-parikh-ymjf3\n",
      "/physician/dr-ephron-shohat-xgh9s\n",
      "/physician/dr-manuel-morlote-ynqry\n",
      "/physician/dr-sonia-tolani-ghn55\n",
      "/physician/dr-david-engel-2hdkg\n",
      "/physician/dr-allison-spatz-yh45r\n",
      "/physician/dr-christopher-gade-3y7r7\n",
      "/physician/dr-mark-reisman-xgvcy\n",
      "/physician/dr-shing-chiu-wong-ysbyw\n",
      "/physician/dr-henry-siu-gcf6c\n",
      "/physician/dr-kirsten-healy-3388m\n",
      "/physician/dr-joshua-socolow-3crqx\n",
      "/physician/dr-geoffrey-rubin-65kaz\n",
      "/physician/dr-hajir-dilmanian-3fnvr\n",
      "/physician/dr-jonathan-steinberg-3y5gt\n",
      "/physician/dr-babu-jasty-2mb5s\n",
      "/physician/dr-shudhanshu-alishetti-y9pp4nz\n",
      "/physician/dr-bharath-reddy-y4qjx\n",
      "/physician/dr-yuhei-kobayashi-xypxlyr\n",
      "/physician/dr-tajinderpal-saraon-gf38j\n",
      "/physician/dr-conrad-jablonski-3lpf2\n",
      "/physician/dr-donald-wallerson-x95rc\n",
      "/physician/dr-evelyn-horn-2kqxq\n",
      "/physician/dr-jeffrey-fisher-ys6cp\n",
      "/physician/dr-raashan-williams-x8frn\n",
      "/physician/dr-marc-rybstein-g5x3n\n",
      "/physician/dr-william-slater-23j36\n",
      "/physician/dr-arthur-weisenseel-34l8t\n",
      "/physician/dr-daniel-krauser-2hjkx\n",
      "/physician/dr-john-coppola-2r6ds\n",
      "/physician/dr-juan-lopez-y37t8\n",
      "/physician/dr-feraydoon-kohan-ysp75\n",
      "/physician/dr-neil-bernstein-xbhqr\n",
      "/physician/dr-christopher-irobunda-24yvs\n",
      "/physician/dr-sanjeev-palta-y5jvt\n",
      "/physician/dr-alexander-slotwiner-yqm9l\n",
      "/physician/dr-joseph-tawil-39d4h\n",
      "/physician/dr-marc-nolan-2thsk\n",
      "/physician/dr-michael-poon-yn6tn\n",
      "/physician/dr-yumiko-kanei-2y93q\n",
      "/physician/dr-peter-raimondi-xyll6w7\n",
      "/physician/dr-maureen-wang-xw92w\n",
      "/physician/dr-adam-skolnick-3b7xp\n",
      "/physician/dr-herbert-insel-37l7k\n",
      "/physician/dr-robert-kornberg-xq68g\n",
      "/physician/dr-robert-minutello-2mthf\n",
      "/physician/dr-jennifer-chen-gdgj4\n",
      "/physician/dr-maurice-rachko-2p8d6\n",
      "/physician/dr-shyam-amin-eykiz\n",
      "/physician/dr-ruwanthi-titano-y9pbtwz\n",
      "/physician/dr-nenad-trubelja-x2rkf\n",
      "/physician/dr-alan-shah-yldyc\n",
      "/physician/dr-abdul-aleem-ameen-3y2qq\n",
      "/physician/dr-geoffrey-bergman-2s73w\n",
      "/physician/dr-matthew-montgomery-2p9dd\n",
      "/physician/dr-ossama-samuel-2f5cg\n",
      "/physician/dr-atul-sharma-x5qgx\n",
      "/physician/dr-marcelo-mendez-xylphx4\n",
      "/physician/dr-james-wilentz-ylk3b\n",
      "/physician/dr-francis-obrien-29sk4\n",
      "/physician/dr-mary-abed-xtbtx\n",
      "/physician/dr-robert-segal-3d764\n",
      "/physician/dr-gregory-janis-ycxjy\n",
      "/physician/dr-ranjit-josiah-xc3dl\n",
      "/physician/dr-vishal-kapur-348dy\n",
      "/physician/dr-bora-toklu-gc9ml\n",
      "/physician/dr-stefano-ravalli-x7wy4\n",
      "/physician/dr-hanano-watanabe-y9rgcqz\n",
      "/physician/dr-sonia-tolani-ghn55\n",
      "/physician/dr-frederick-ehlert-2hrxj\n",
      "/physician/dr-anuj-shah-36jp8\n",
      "/physician/dr-ankit-shah-gcb8f\n",
      "/physician/dr-becky-naoulou-gfb5p\n",
      "/physician/dr-deepika-misra-2hygy\n",
      "/physician/dr-tina-shah-xylry8d\n",
      "/physician/dr-jeffrey-bander-2r76c\n",
      "/physician/dr-gargi-bajpayee-636kz\n",
      "/physician/dr-hugo-rosero-yphyt\n",
      "/physician/dr-kiruthika-balasundaram-gbv2g\n",
      "/physician/dr-bette-kim-3cwl8\n",
      "/physician/dr-ramesh-gowda-ys9rf\n",
      "/physician/dr-davendra-mehta-2s876\n",
      "/physician/dr-alexander-mayer-2gfbs\n",
      "/physician/dr-atul-kukar-366lh\n",
      "/physician/dr-nicholas-papapietro-xmtg9\n",
      "/physician/dr-robert-kornberg-xq68g\n",
      "/physician/dr-mohammad-javed-yxc73\n",
      "/physician/dr-krysthel-engstrom-ckq7z\n",
      "/physician/dr-huseng-vefali-3rkmy\n",
      "/physician/dr-luis-aybar-gd9g2\n",
      "/physician/dr-william-buckley-34g4v\n",
      "/physician/dr-sonal-jani-xhxjn\n",
      "/physician/dr-henry-novack-2hg4g\n",
      "/physician/dr-back-kim-x5m37\n",
      "/physician/dr-brian-wong-4b42l\n",
      "/physician/dr-venkatesan-vidi-ghqp4\n",
      "/physician/dr-robert-zaloom-23bgm\n",
      "/physician/dr-muhammad-dogar-xcpsh\n",
      "/physician/dr-michael-sood-gh4jj\n",
      "/physician/dr-louai-razzouk-gfq3x\n",
      "/physician/dr-stuart-dickerman-xly5j\n",
      "/physician/dr-david-lefkowitz-29xrh\n",
      "/physician/dr-steven-fowler-ggl83\n",
      "/physician/dr-eva-kosta-263jb\n",
      "/physician/dr-olivier-frankenberger-x6xcf\n",
      "/physician/dr-michael-benz-y5ssn\n",
      "/physician/dr-mohammed-khan-xtwkh\n",
      "/physician/dr-ira-roth-yqbm4\n",
      "/physician/dr-vladimir-znamensky-gfyk6\n",
      "/physician/dr-raymonda-rastegar-2lfg4\n",
      "/physician/dr-yongxia-qu-gfqdc\n",
      "/physician/dr-richard-devereux-x5km4\n",
      "/physician/dr-ira-schulman-xydhj\n",
      "/physician/dr-theodore-tyberg-xyv2j\n",
      "/physician/dr-martin-kahn-2v3cs\n",
      "/physician/dr-stephen-pan-3nrwd\n",
      "/physician/dr-tyler-webster-xylktc8\n",
      "/physician/dr-ibrahim-kassas-3rvt5\n",
      "/physician/dr-jason-katz-2bn98\n",
      "/physician/dr-dan-halpern-y88bc\n",
      "/physician/dr-chaim-moeller-3mhs9\n",
      "/physician/dr-gustavo-guandalini-gcs5p\n",
      "/physician/dr-matthew-wright-y9qv76z\n",
      "/physician/dr-michael-schaefer-2tk7y\n",
      "/physician/dr-carl-reimers-xw93x\n",
      "/physician/dr-frederick-watson-y6n27\n",
      "/physician/dr-john-nobile-ggk9j\n",
      "/physician/dr-stephen-rubenstein-2vhnq\n",
      "/physician/dr-nina-mirsakov-xkqbv\n",
      "/physician/dr-charles-barbiere-x8yv9\n",
      "/physician/dr-justyna-watkowska-2mpsb\n",
      "/physician/dr-michelle-johnson-2mdp6\n",
      "/physician/dr-david-bolon-2fhm2\n",
      "/physician/dr-gregory-serrao-ccfiz\n",
      "/physician/dr-ali-aboufares-37mrl\n",
      "/physician/dr-gina-day-xfh2y\n",
      "/physician/dr-stephen-williams-xfxsg\n",
      "/physician/dr-charles-love-x6399\n",
      "/physician/dr-buddhadev-manvar-x7s5w\n",
      "/physician/dr-dianne-acuna-xy3ss\n",
      "/physician/dr-cezar-staniloae-2gx7y\n",
      "/physician/dr-kevin-tsai-xyllg9h\n",
      "/physician/dr-ciprian-nedelcu-22phx\n",
      "/physician/dr-douglas-holmes-ynl9f\n",
      "/physician/dr-erika-gehrie-3dv8g\n",
      "/physician/dr-jose-torres-ggskx\n",
      "/physician/dr-robin-freedberg-ydwrp\n",
      "/physician/dr-david-park-y8ftc\n",
      "/physician/dr-gregory-katz-ccesz\n",
      "/physician/dr-alex-reyentovich-ypwn7\n",
      "/physician/dr-marcel-eluhu-y43g8\n",
      "/physician/dr-bernard-kadosh-y9t3knz\n",
      "/physician/dr-pedro-de-armas-gh4bk\n",
      "/physician/dr-matthew-jones-gf33v\n",
      "/physician/dr-frederick-feit-yp6xc\n",
      "/physician/dr-aeshita-dwivedi-3t5dc\n",
      "/physician/dr-ali-fard-y6llm\n",
      "/physician/dr-anthony-kyreakakis-2s3yp\n",
      "/physician/dr-mark-nachamie-2dcqm\n",
      "/physician/dr-azriel-haimowitz-3jly2\n",
      "/physician/dr-russell-berdoff-xrhcd\n",
      "/physician/dr-jeffrey-chung-3gsb8\n",
      "/physician/dr-geoffrey-webber-y38fm\n",
      "/physician/dr-frederick-ehlert-2hrxj\n",
      "/physician/dr-ingrid-hriljac-2x5h4\n",
      "/physician/dr-subhi-alaref-gfxwg\n",
      "/physician/dr-jacqueline-chan-xy965\n",
      "/physician/dr-david-lau-35ccq\n",
      "/physician/dr-pervez-ahmed-y73mb\n",
      "/physician/dr-alexander-mauskop-gfqd6\n",
      "/physician/dr-marc-sherman-3kfv2\n",
      "/physician/dr-kabir-bhasin-gg7qm\n",
      "/physician/dr-sabrina-wilbur-ysyxp\n",
      "/physician/dr-john-fox-yvtyw\n",
      "/physician/dr-aditi-singhvi-c294z\n",
      "/physician/dr-kenneth-giedd-yj59h\n",
      "/physician/dr-mitchell-baruchin-xp2nj\n",
      "/physician/dr-dennis-finkielstein-xnt7w\n",
      "/physician/dr-ahsanuddin-ahmad-3v9sm\n",
      "/physician/dr-philip-varriale-3gxrq\n",
      "/physician/dr-parag-goyal-gd6b5\n",
      "/physician/dr-marc-eisenberg-xvwrw\n",
      "/physician/dr-julie-delphin-y9p9vhz\n",
      "/physician/dr-craig-basman-gblp5\n",
      "/physician/dr-terrence-sacchi-x72wj\n",
      "/physician/dr-abdoliah-sedighi-ycqht\n",
      "/physician/dr-lori-vales-lay-xwrn2\n",
      "/physician/dr-gioia-turitto-2wgls\n",
      "/physician/dr-jeffrey-kohn-xm6th\n",
      "/physician/dr-richard-mueller-3y7td\n",
      "/physician/dr-martin-post-3jdf3\n",
      "/physician/dr-holly-andersen-ygd9r\n",
      "/physician/dr-harvey-goldberg-xn5qc\n",
      "/physician/dr-michael-liou-yfv77\n",
      "/physician/dr-richard-kutnick-ykywh\n",
      "/physician/dr-evan-mintz-xnjtk\n",
      "/physician/dr-yili-huang-3btgb\n",
      "/physician/dr-david-harnick-26yfc\n",
      "/physician/dr-steve-tam-2gscw\n",
      "/physician/dr-natalia-beridze-cqjaz\n",
      "/physician/dr-daniel-fisher-xqhfm\n",
      "/physician/dr-jossef-amirian-3sm65\n",
      "/physician/dr-david-sherman-2wv4l\n",
      "/physician/dr-ori-ben-yehuda-y4242\n",
      "/physician/dr-samin-sharma-xbxjj\n",
      "/physician/dr-rony-shimony-xlyn8\n",
      "/physician/dr-anthony-aizer-2t6dl\n",
      "/physician/dr-allan-schwartz-2wy4p\n",
      "/physician/dr-eitan-klein-xs3dm\n",
      "/physician/dr-alix-dufresne-xqrq8\n",
      "/physician/dr-seol-han-hwang-gd6f3\n",
      "/physician/dr-robert-applebaum-35rk9\n",
      "/physician/dr-janice-scobie-yg3cg\n",
      "/physician/dr-jaffar-raza-xcyrb\n",
      "/physician/dr-francesco-rotatori-gds9k\n",
      "/physician/dr-sabrina-sawhney-gh42b\n",
      "/physician/dr-pablo-navarro-yhfkq\n",
      "/physician/dr-abiola-dele-michael-2nh9s\n",
      "/physician/dr-john-heitner-3kq3n\n",
      "/physician/dr-james-blake-2dbsk\n",
      "/physician/dr-kiran-mahmood-y9p5hmz\n",
      "/physician/dr-jose-meller-2pnn3\n",
      "/physician/dr-douglas-goldberg-ytwgc\n",
      "/physician/dr-eyal-herzog-yxglp\n",
      "/physician/dr-paul-belsky-xl55l\n",
      "/physician/dr-mark-meyer-xr7gq\n",
      "/physician/dr-robert-rosen-yqx43\n",
      "/physician/dr-michael-phung-359gf\n",
      "/physician/dr-lawrence-katz-2sbpm\n",
      "/physician/dr-frederick-feuerbach-x3vww\n",
      "/physician/dr-oluyemi-badero-2p44r\n",
      "/physician/dr-igor-mamkin-ykgtc\n",
      "/physician/dr-stephen-weiss-yy72f\n",
      "/physician/dr-tak-kwan-2mys5\n",
      "/physician/dr-ankur-shah-3hfyf\n",
      "/physician/dr-larry-chinitz-277nj\n",
      "/physician/dr-alan-spiegel-xthkj\n",
      "/physician/dr-william-cole-xryx4\n",
      "/physician/dr-anvar-babaev-32fbb\n",
      "/physician/dr-robert-pilchik-x5yst\n",
      "/physician/dr-timothy-jayasundera-36mhp\n",
      "/physician/dr-jane-farhi-3cs3x\n",
      "/physician/dr-luciano-del-guzzo-2ktgt\n",
      "/physician/dr-nicholas-skipitaris-ycfn8\n",
      "/physician/dr-robert-campagna-x9hv7\n",
      "/physician/dr-adam-rosenbluth-ytph9\n",
      "/physician/dr-wendy-schaffer-2nwwl\n",
      "/physician/dr-matthew-labarbera-yxxbt\n",
      "/physician/dr-brian-west-gbhsy\n",
      "/physician/dr-lynn-mailloux-2gwnd\n",
      "/physician/dr-jeremiah-gelles-3c7wn\n",
      "/physician/dr-francesco-santoni-rugiu-ggqff\n",
      "/physician/dr-deepak-asti-gch6r\n",
      "/physician/dr-david-blumenthal-3bwmt\n",
      "/physician/dr-neil-coplan-x88s8\n",
      "/physician/dr-patrick-lam-224sf\n",
      "/physician/dr-vikrum-malhotra-gfyxc\n",
      "/physician/dr-vinod-patel-yfst8\n",
      "/physician/dr-stuart-haber-xmfk6\n",
      "/physician/dr-hejmadi-narayan-prabhu-gc5sn\n",
      "/physician/dr-basel-alhaddad-2dsgb\n",
      "/physician/dr-umar-rashid-y9s4hlz\n",
      "/physician/dr-chad-kliger-3627m\n",
      "/physician/dr-robert-ostfeld-xlwbr\n",
      "/physician/dr-lawrence-phillips-2ln86\n",
      "/physician/dr-catherine-weinberg-yjd5j\n",
      "/physician/dr-israel-berkowitz-xnqql\n",
      "/physician/dr-hadi-halazun-gdn53\n",
      "/physician/dr-joseph-platania-yygm7\n",
      "/physician/dr-david-narotsky-4qsjz\n",
      "/physician/dr-tatyana-danilov-27fsv\n",
      "/physician/dr-sanford-friedman-y88f2\n",
      "/physician/dr-david-khaski-245ng\n",
      "/physician/dr-susan-phung-gfv9w\n",
      "/physician/dr-sudarsanam-konka-xrlj9\n",
      "/physician/dr-leonid-kozer-2plgw\n",
      "/physician/dr-agnes-kim-x96j2\n",
      "/physician/dr-alexander-gorodnitskiy-2phfr\n",
      "/physician/dr-stephen-siegel-yjhfq\n",
      "/physician/dr-victor-navarro-y35dl\n",
      "/physician/dr-michael-attubato-xqfkt\n",
      "/physician/dr-john-barnard-228fg\n",
      "/physician/dr-michael-zullo-2f5dt\n",
      "/physician/dr-benjamin-zaremski-xhpb8\n",
      "/physician/dr-joven-dungo-xw2rh\n",
      "/physician/dr-howard-weintraub-3839d\n",
      "/physician/dr-henry-wu-2jnml\n",
      "/physician/dr-craig-warschauer-x6cwq\n",
      "/physician/dr-arthur-schwartzbard-x69hs\n",
      "/physician/dr-daniele-massera-gbdy5\n",
      "/physician/dr-laurie-letarte-xd4c2\n",
      "/physician/dr-kumudha-ramasubbu-yclms\n",
      "/physician/dr-claudia-serrano-gomez-326sp\n",
      "/physician/dr-stylianos-papadakos-yd69j\n",
      "/physician/dr-demetrios-georgiou-x49nj\n",
      "/physician/dr-philip-weintraub-g6yy7\n",
      "/physician/dr-salvatore-cavaleri-yknp4\n",
      "/physician/dr-frank-tung-2vk4h\n",
      "/physician/dr-bradley-peltzer-y9w5stz\n",
      "/physician/dr-bradley-radwaner-2tn4x\n",
      "/physician/dr-william-priester-xjmkv\n",
      "/physician/dr-john-sayad-yv8jp\n",
      "/physician/dr-binoy-singh-x2g2q\n",
      "/physician/dr-stavros-mountantonakis-3rh6k\n",
      "/physician/dr-stephen-phlaum-2y9ch\n",
      "/physician/dr-gerardo-zullo-y6phd\n",
      "/physician/dr-michael-cohen-2rd7v\n",
      "/physician/dr-rudy-rezzadeh-2ns7l\n",
      "/physician/dr-robert-leon-2w6vp\n",
      "/physician/dr-ronald-galluccio-28td4\n",
      "/physician/dr-lawrence-levin-xvx85\n",
      "/physician/dr-nevber-cemaletin-x6g9v\n",
      "/physician/dr-kenneth-tam-2tmg2\n",
      "/physician/dr-ellen-mellow-xr95d\n",
      "/physician/dr-mark-lipton-y6x8p\n",
      "/physician/dr-mark-sherrid-25xwc\n",
      "/physician/dr-sarath-reddy-38w6r\n",
      "/physician/dr-shuja-qadir-xcp9b\n",
      "/physician/dr-susan-polizzi-xtk4v\n",
      "/physician/dr-bruno-manno-yslh8\n",
      "/physician/dr-glenn-gandelman-3f4kc\n",
      "/physician/dr-ravi-rathi-ygg25\n",
      "/physician/dr-furqan-tejani-y7bhg\n",
      "/physician/dr-norman-magid-x8pff\n",
      "/physician/dr-gopi-punukollu-2x5nc\n",
      "/physician/dr-varinder-singh-33g9v\n",
      "/physician/dr-patrick-fratellone-3kq7r\n",
      "/physician/dr-peter-wong-x32pr\n",
      "/physician/dr-merwin-richard-xxv3p\n",
      "/physician/dr-anthony-inguaggiato-x4rm7\n",
      "/physician/dr-yi-ming-yang-2jcnk\n",
      "/physician/dr-edward-gibbons-x9gs8\n",
      "/physician/dr-julie-ramos-2yf2b\n",
      "/physician/dr-james-slater-xb3gp\n",
      "/physician/dr-nieca-goldberg-yflhm\n",
      "/physician/dr-zoran-lasic-xnw5h\n",
      "/physician/dr-ozgen-dogan-y3mp5\n",
      "/physician/dr-ahmad-aslam-yc62r\n",
      "/physician/dr-emmanuel-troulakis-y57wl\n",
      "/physician/dr-joel-cohen-36jr4\n",
      "/physician/dr-harmony-reynolds-2s6yr\n",
      "/physician/dr-joao-trindade-fontes-2vf63\n",
      "/physician/dr-michael-kim-x4p23\n",
      "/physician/dr-eirini-apostolidou-g43cg\n",
      "/physician/dr-syed-jafri-x2hb3\n",
      "/physician/dr-preety-chawla-xy6dx\n",
      "/physician/dr-gerard-hanley-3kfhn\n",
      "/physician/dr-nino-marino-2bmkm\n",
      "/physician/dr-adam-budzikowski-3brcg\n",
      "/physician/dr-edward-katz-y27y5\n",
      "/physician/dr-amit-alam-y9px9sz\n",
      "/physician/dr-ijaz-ahmad-xmqb6\n",
      "/physician/dr-madhukar-pandya-xc9sc\n",
      "/physician/dr-seth-keller-yvby9\n",
      "/physician/dr-warren-chin-xjlcv\n",
      "/physician/dr-felix-chu-yhypp\n",
      "/physician/dr-arun-mangla-34xfv\n",
      "/physician/dr-edward-bernaski-3y3fl\n",
      "/physician/dr-karen-kan-gd99w\n",
      "/physician/dr-thomas-bustros-3r63m\n",
      "/physician/dr-alvaro-dominguez-xt4rx\n",
      "/physician/dr-parviz-benhuri-29ssv\n",
      "/physician/dr-chirag-barbhaiya-ggcrg\n",
      "/physician/dr-mahshid-assadi-xptn3\n",
      "/physician/dr-mayer-ballas-xyt6v\n",
      "/physician/dr-edward-ladyzhenskiy-xylvvgf\n",
      "/physician/dr-ambika-nayar-2lh8x\n",
      "/physician/dr-sameer-sayeed-xk9xf\n",
      "/physician/dr-sorin-brener-xcmj8\n",
      "/physician/dr-tara-cangello-2hybd\n",
      "/physician/dr-arti-shah-3hfh3\n",
      "/physician/dr-jonathan-weinsaft-2rjvd\n",
      "/physician/dr-sooraj-shah-3w48x\n",
      "/physician/dr-ankineedu-prasad-xmbqj\n",
      "/physician/dr-david-anstey-c95pz\n",
      "/physician/dr-pramod-sanghi-y69fd\n",
      "/physician/dr-dheeraj-khurana-yy9m5\n",
      "/physician/dr-luis-gonzalez-22p6l\n",
      "/physician/dr-quynh-truong-2jj5q\n",
      "/physician/dr-jiwon-kim-xvgrm\n",
      "/physician/dr-apurva-patel-e88kz\n",
      "/physician/dr-claude-simon-xwddw\n",
      "/physician/dr-michael-divita-y9pgwjz\n",
      "/physician/dr-philip-green-2vfk8\n",
      "/physician/dr-robert-copeland-halperin-y9vj9dz\n",
      "/physician/dr-terrance-lee-yk5l9\n",
      "/physician/dr-guillaume-bassil-xylknvb\n",
      "/physician/dr-jeffrey-lorin-3cxjs\n",
      "/physician/dr-robert-donnino-34xyk\n",
      "/physician/dr-louis-miller-4xcq6\n",
      "/physician/dr-chirag-patel-2lykh\n",
      "/physician/dr-cesar-ayala-rodriguez-3mlkd\n",
      "/physician/dr-alexander-kushnir-c2s3z\n",
      "/physician/dr-robert-roswell-xfw8k\n",
      "/physician/dr-adam-small-3v2ns\n",
      "/physician/dr-albert-jung-gfnc8\n",
      "/physician/dr-sudhanva-hegde-2w3qd\n",
      "/physician/dr-sean-heffron-xlsq3\n",
      "/physician/dr-revathi-balakrishnan-ggj93\n",
      "/physician/dr-shelly-brejt-gf3wt\n",
      "/physician/dr-sripal-bangalore-2ygsl\n",
      "/physician/dr-alan-vainrib-gck66\n",
      "/physician/dr-daniel-bamira-gg7yd\n",
      "/physician/dr-lauren-rosenberg-yh86w\n",
      "/physician/dr-jose-alvarez-cardona-ci7uz\n",
      "/physician/dr-fatima-shaik-xylm9n6\n",
      "/physician/dr-donna-chelle-morales-g9yd8\n",
      "/physician/dr-jennifer-jantz-3ry5q\n",
      "/physician/dr-chitra-gopa-26267\n",
      "/physician/dr-sarat-bhumi-y3333\n",
      "/physician/dr-haroon-kamran-ccprz\n",
      "/physician/dr-brooks-mirrer-ykhql\n",
      "/physician/dr-roshini-malaney-g8vtv\n",
      "/physician/dr-ajibola-adedayo-xylk7dl\n",
      "/physician/dr-ji-yang-g5ksw\n",
      "/physician/dr-gila-perk-y87hl\n",
      "/physician/dr-ahmed-aslam-ys4q5\n",
      "/physician/dr-simon-smith-zcgay\n",
      "/physician/dr-alejandro-presilla-247c7\n",
      "/physician/dr-astha-tejpal-xylm6sy\n",
      "/physician/dr-marina-iskandir-xylpgq5\n",
      "/physician/dr-rachel-maria-brown-3r67t\n",
      "/physician/dr-gagandeep-singh-gcxvv\n",
      "/physician/dr-jennifer-conroy-ggdc8\n",
      "/physician/dr-ythan-goldberg-3yfxl\n",
      "/physician/dr-akshai-bhandary-gclss\n",
      "/physician/dr-gerin-stevens-3k97c\n",
      "/physician/dr-sirish-vullaganti-xymxpfw\n",
      "/physician/dr-azadeh-beheshtian-w2p9p\n",
      "/physician/dr-daniel-lu-xylfwy6\n",
      "/physician/dr-asaf-rabinovitz-32n5s\n",
      "/physician/dr-michael-ghalchi-ymhbt\n",
      "/physician/dr-nay-htyte-3rtkp\n",
      "/physician/dr-edward-fisher-2r9dh\n",
      "/physician/dr-erica-jones-2cpm7\n",
      "/physician/dr-sunny-shah-gfxdt\n",
      "/physician/dr-bharat-kantharia-ydfbb\n",
      "/physician/dr-mikhail-vaynblat-ywdyh\n",
      "/physician/dr-saaron-laighold-x4bbg\n",
      "/physician/dr-linda-koshy-xylvw5l\n",
      "/physician/dr-eugenia-gianos-xps2x\n",
      "/physician/dr-caroline-ong-xylh7p6\n",
      "/physician/dr-bani-azari-ghw5b\n",
      "/physician/dr-esad-vucic-xvfwr\n"
     ]
    }
   ],
   "source": [
    "def fetch_page(url):     \n",
    "    headers = {\"User-Agent\": \"Mozilla/5.0\"}\n",
    "    try:\n",
    "        response = requests.get(url, headers=headers)\n",
    "        response.raise_for_status()\n",
    "        return url, response.content\n",
    "    except HTTPError as e:\n",
    "        print(f\"HTTPError: {e.response.status_code} {e.response.reason} for URL: {url}\")\n",
    "    except RequestException as e:\n",
    "        print(f\"RequestException: {e} for URL: {url}\")\n",
    "    return url, None\n",
    "\n",
    "def fetch_healthgrades_pages(base_url, num_pages):\n",
    "\n",
    "    allpage = []\n",
    "    allpagestr = \"\"\n",
    "\n",
    "    # Generate the list of URLs to fetch\n",
    "    urls = [f\"{base_url}&pageNum={i}\" for i in range(1, num_pages + 1)]\n",
    "\n",
    "    # Fetch pages concurrently using ThreadPoolExecutor\n",
    "    with ThreadPoolExecutor(max_workers=4) as executor:\n",
    "        future_to_url = {executor.submit(fetch_page, url): url for url in urls}\n",
    "        \n",
    "        for future in as_completed(future_to_url):\n",
    "            url = future_to_url[future]\n",
    "            try:\n",
    "                fetched_url, content = future.result()\n",
    "                if content:\n",
    "                    allpage.append(content)\n",
    "                    allpagestr += content.decode('utf-8')  # Decode bytes to string\n",
    "                    print(f\"Fetched page: {fetched_url}\")\n",
    "            except Exception as e:\n",
    "                print(f\"Error fetching {url}: {e}\")\n",
    "\n",
    "    return allpage, allpagestr\n",
    "\n",
    "# Example usage\n",
    "base_url = \"https://www.healthgrades.com/usearch?what=Cardiology&pt=40.714550%2C-74.007118&state=NY&where=New%20York%2C%20NY&searchType=PracticingSpecialty&distances=5&sort.provider=bestmatch&zip=10001\"\n",
    "num_pages = 20\n",
    "\n",
    "# Fetch pages\n",
    "allpage, allpagestr = fetch_healthgrades_pages(base_url, num_pages)\n",
    "\n",
    "# Parse HTML and extract links\n",
    "soup = bs(allpagestr, \"html.parser\")\n",
    "links = [anchor['href'] for anchor in soup.find_all('a', class_=\"RML7ZoJM_T0OsSL0\", href=True)]\n",
    "\n",
    "print(\"Extracted links:\")\n",
    "for link in links:\n",
    "    print(link)\n"
   ]
  },
  {
   "cell_type": "markdown",
   "id": "37c1c625-daa3-4dbb-9993-e0f2f41f65f8",
   "metadata": {},
   "source": [
    "<h3 style=\"list-style-type: circle,\"font-family: Times New Roman, serif;\">\n",
    "    <li>Generate a list of URLs based on a list of identifiers</li>\n"
   ]
  },
  {
   "cell_type": "code",
   "execution_count": 4,
   "id": "dcb9c1da-926a-42ca-aba9-fb23260c4cf8",
   "metadata": {},
   "outputs": [
    {
     "name": "stdout",
     "output_type": "stream",
     "text": [
      "['https://www.healthgrades.com/physician/dr-manish-parikh-ymjf3#reviews', 'https://www.healthgrades.com/physician/dr-ephron-shohat-xgh9s#reviews', 'https://www.healthgrades.com/physician/dr-manuel-morlote-ynqry#reviews', 'https://www.healthgrades.com/physician/dr-sonia-tolani-ghn55#reviews', 'https://www.healthgrades.com/physician/dr-david-engel-2hdkg#reviews', 'https://www.healthgrades.com/physician/dr-allison-spatz-yh45r#reviews', 'https://www.healthgrades.com/physician/dr-christopher-gade-3y7r7#reviews', 'https://www.healthgrades.com/physician/dr-mark-reisman-xgvcy#reviews', 'https://www.healthgrades.com/physician/dr-shing-chiu-wong-ysbyw#reviews', 'https://www.healthgrades.com/physician/dr-henry-siu-gcf6c#reviews', 'https://www.healthgrades.com/physician/dr-kirsten-healy-3388m#reviews', 'https://www.healthgrades.com/physician/dr-joshua-socolow-3crqx#reviews', 'https://www.healthgrades.com/physician/dr-geoffrey-rubin-65kaz#reviews', 'https://www.healthgrades.com/physician/dr-hajir-dilmanian-3fnvr#reviews', 'https://www.healthgrades.com/physician/dr-jonathan-steinberg-3y5gt#reviews', 'https://www.healthgrades.com/physician/dr-babu-jasty-2mb5s#reviews', 'https://www.healthgrades.com/physician/dr-shudhanshu-alishetti-y9pp4nz#reviews', 'https://www.healthgrades.com/physician/dr-bharath-reddy-y4qjx#reviews', 'https://www.healthgrades.com/physician/dr-yuhei-kobayashi-xypxlyr#reviews', 'https://www.healthgrades.com/physician/dr-tajinderpal-saraon-gf38j#reviews', 'https://www.healthgrades.com/physician/dr-conrad-jablonski-3lpf2#reviews', 'https://www.healthgrades.com/physician/dr-donald-wallerson-x95rc#reviews', 'https://www.healthgrades.com/physician/dr-evelyn-horn-2kqxq#reviews', 'https://www.healthgrades.com/physician/dr-jeffrey-fisher-ys6cp#reviews', 'https://www.healthgrades.com/physician/dr-raashan-williams-x8frn#reviews', 'https://www.healthgrades.com/physician/dr-marc-rybstein-g5x3n#reviews', 'https://www.healthgrades.com/physician/dr-william-slater-23j36#reviews', 'https://www.healthgrades.com/physician/dr-arthur-weisenseel-34l8t#reviews', 'https://www.healthgrades.com/physician/dr-daniel-krauser-2hjkx#reviews', 'https://www.healthgrades.com/physician/dr-john-coppola-2r6ds#reviews', 'https://www.healthgrades.com/physician/dr-juan-lopez-y37t8#reviews', 'https://www.healthgrades.com/physician/dr-feraydoon-kohan-ysp75#reviews', 'https://www.healthgrades.com/physician/dr-neil-bernstein-xbhqr#reviews', 'https://www.healthgrades.com/physician/dr-christopher-irobunda-24yvs#reviews', 'https://www.healthgrades.com/physician/dr-sanjeev-palta-y5jvt#reviews', 'https://www.healthgrades.com/physician/dr-alexander-slotwiner-yqm9l#reviews', 'https://www.healthgrades.com/physician/dr-joseph-tawil-39d4h#reviews', 'https://www.healthgrades.com/physician/dr-marc-nolan-2thsk#reviews', 'https://www.healthgrades.com/physician/dr-michael-poon-yn6tn#reviews', 'https://www.healthgrades.com/physician/dr-yumiko-kanei-2y93q#reviews', 'https://www.healthgrades.com/physician/dr-peter-raimondi-xyll6w7#reviews', 'https://www.healthgrades.com/physician/dr-maureen-wang-xw92w#reviews', 'https://www.healthgrades.com/physician/dr-adam-skolnick-3b7xp#reviews', 'https://www.healthgrades.com/physician/dr-herbert-insel-37l7k#reviews', 'https://www.healthgrades.com/physician/dr-robert-kornberg-xq68g#reviews', 'https://www.healthgrades.com/physician/dr-robert-minutello-2mthf#reviews', 'https://www.healthgrades.com/physician/dr-jennifer-chen-gdgj4#reviews', 'https://www.healthgrades.com/physician/dr-maurice-rachko-2p8d6#reviews', 'https://www.healthgrades.com/physician/dr-shyam-amin-eykiz#reviews', 'https://www.healthgrades.com/physician/dr-ruwanthi-titano-y9pbtwz#reviews', 'https://www.healthgrades.com/physician/dr-nenad-trubelja-x2rkf#reviews', 'https://www.healthgrades.com/physician/dr-alan-shah-yldyc#reviews', 'https://www.healthgrades.com/physician/dr-abdul-aleem-ameen-3y2qq#reviews', 'https://www.healthgrades.com/physician/dr-geoffrey-bergman-2s73w#reviews', 'https://www.healthgrades.com/physician/dr-matthew-montgomery-2p9dd#reviews', 'https://www.healthgrades.com/physician/dr-ossama-samuel-2f5cg#reviews', 'https://www.healthgrades.com/physician/dr-atul-sharma-x5qgx#reviews', 'https://www.healthgrades.com/physician/dr-marcelo-mendez-xylphx4#reviews', 'https://www.healthgrades.com/physician/dr-james-wilentz-ylk3b#reviews', 'https://www.healthgrades.com/physician/dr-francis-obrien-29sk4#reviews', 'https://www.healthgrades.com/physician/dr-mary-abed-xtbtx#reviews', 'https://www.healthgrades.com/physician/dr-robert-segal-3d764#reviews', 'https://www.healthgrades.com/physician/dr-gregory-janis-ycxjy#reviews', 'https://www.healthgrades.com/physician/dr-ranjit-josiah-xc3dl#reviews', 'https://www.healthgrades.com/physician/dr-vishal-kapur-348dy#reviews', 'https://www.healthgrades.com/physician/dr-bora-toklu-gc9ml#reviews', 'https://www.healthgrades.com/physician/dr-stefano-ravalli-x7wy4#reviews', 'https://www.healthgrades.com/physician/dr-hanano-watanabe-y9rgcqz#reviews', 'https://www.healthgrades.com/physician/dr-sonia-tolani-ghn55#reviews', 'https://www.healthgrades.com/physician/dr-frederick-ehlert-2hrxj#reviews', 'https://www.healthgrades.com/physician/dr-anuj-shah-36jp8#reviews', 'https://www.healthgrades.com/physician/dr-ankit-shah-gcb8f#reviews', 'https://www.healthgrades.com/physician/dr-becky-naoulou-gfb5p#reviews', 'https://www.healthgrades.com/physician/dr-deepika-misra-2hygy#reviews', 'https://www.healthgrades.com/physician/dr-tina-shah-xylry8d#reviews', 'https://www.healthgrades.com/physician/dr-jeffrey-bander-2r76c#reviews', 'https://www.healthgrades.com/physician/dr-gargi-bajpayee-636kz#reviews', 'https://www.healthgrades.com/physician/dr-hugo-rosero-yphyt#reviews', 'https://www.healthgrades.com/physician/dr-kiruthika-balasundaram-gbv2g#reviews', 'https://www.healthgrades.com/physician/dr-bette-kim-3cwl8#reviews', 'https://www.healthgrades.com/physician/dr-ramesh-gowda-ys9rf#reviews', 'https://www.healthgrades.com/physician/dr-davendra-mehta-2s876#reviews', 'https://www.healthgrades.com/physician/dr-alexander-mayer-2gfbs#reviews', 'https://www.healthgrades.com/physician/dr-atul-kukar-366lh#reviews', 'https://www.healthgrades.com/physician/dr-nicholas-papapietro-xmtg9#reviews', 'https://www.healthgrades.com/physician/dr-robert-kornberg-xq68g#reviews', 'https://www.healthgrades.com/physician/dr-mohammad-javed-yxc73#reviews', 'https://www.healthgrades.com/physician/dr-krysthel-engstrom-ckq7z#reviews', 'https://www.healthgrades.com/physician/dr-huseng-vefali-3rkmy#reviews', 'https://www.healthgrades.com/physician/dr-luis-aybar-gd9g2#reviews', 'https://www.healthgrades.com/physician/dr-william-buckley-34g4v#reviews', 'https://www.healthgrades.com/physician/dr-sonal-jani-xhxjn#reviews', 'https://www.healthgrades.com/physician/dr-henry-novack-2hg4g#reviews', 'https://www.healthgrades.com/physician/dr-back-kim-x5m37#reviews', 'https://www.healthgrades.com/physician/dr-brian-wong-4b42l#reviews', 'https://www.healthgrades.com/physician/dr-venkatesan-vidi-ghqp4#reviews', 'https://www.healthgrades.com/physician/dr-robert-zaloom-23bgm#reviews', 'https://www.healthgrades.com/physician/dr-muhammad-dogar-xcpsh#reviews', 'https://www.healthgrades.com/physician/dr-michael-sood-gh4jj#reviews', 'https://www.healthgrades.com/physician/dr-louai-razzouk-gfq3x#reviews', 'https://www.healthgrades.com/physician/dr-stuart-dickerman-xly5j#reviews', 'https://www.healthgrades.com/physician/dr-david-lefkowitz-29xrh#reviews', 'https://www.healthgrades.com/physician/dr-steven-fowler-ggl83#reviews', 'https://www.healthgrades.com/physician/dr-eva-kosta-263jb#reviews', 'https://www.healthgrades.com/physician/dr-olivier-frankenberger-x6xcf#reviews', 'https://www.healthgrades.com/physician/dr-michael-benz-y5ssn#reviews', 'https://www.healthgrades.com/physician/dr-mohammed-khan-xtwkh#reviews', 'https://www.healthgrades.com/physician/dr-ira-roth-yqbm4#reviews', 'https://www.healthgrades.com/physician/dr-vladimir-znamensky-gfyk6#reviews', 'https://www.healthgrades.com/physician/dr-raymonda-rastegar-2lfg4#reviews', 'https://www.healthgrades.com/physician/dr-yongxia-qu-gfqdc#reviews', 'https://www.healthgrades.com/physician/dr-richard-devereux-x5km4#reviews', 'https://www.healthgrades.com/physician/dr-ira-schulman-xydhj#reviews', 'https://www.healthgrades.com/physician/dr-theodore-tyberg-xyv2j#reviews', 'https://www.healthgrades.com/physician/dr-martin-kahn-2v3cs#reviews', 'https://www.healthgrades.com/physician/dr-stephen-pan-3nrwd#reviews', 'https://www.healthgrades.com/physician/dr-tyler-webster-xylktc8#reviews', 'https://www.healthgrades.com/physician/dr-ibrahim-kassas-3rvt5#reviews', 'https://www.healthgrades.com/physician/dr-jason-katz-2bn98#reviews', 'https://www.healthgrades.com/physician/dr-dan-halpern-y88bc#reviews', 'https://www.healthgrades.com/physician/dr-chaim-moeller-3mhs9#reviews', 'https://www.healthgrades.com/physician/dr-gustavo-guandalini-gcs5p#reviews', 'https://www.healthgrades.com/physician/dr-matthew-wright-y9qv76z#reviews', 'https://www.healthgrades.com/physician/dr-michael-schaefer-2tk7y#reviews', 'https://www.healthgrades.com/physician/dr-carl-reimers-xw93x#reviews', 'https://www.healthgrades.com/physician/dr-frederick-watson-y6n27#reviews', 'https://www.healthgrades.com/physician/dr-john-nobile-ggk9j#reviews', 'https://www.healthgrades.com/physician/dr-stephen-rubenstein-2vhnq#reviews', 'https://www.healthgrades.com/physician/dr-nina-mirsakov-xkqbv#reviews', 'https://www.healthgrades.com/physician/dr-charles-barbiere-x8yv9#reviews', 'https://www.healthgrades.com/physician/dr-justyna-watkowska-2mpsb#reviews', 'https://www.healthgrades.com/physician/dr-michelle-johnson-2mdp6#reviews', 'https://www.healthgrades.com/physician/dr-david-bolon-2fhm2#reviews', 'https://www.healthgrades.com/physician/dr-gregory-serrao-ccfiz#reviews', 'https://www.healthgrades.com/physician/dr-ali-aboufares-37mrl#reviews', 'https://www.healthgrades.com/physician/dr-gina-day-xfh2y#reviews', 'https://www.healthgrades.com/physician/dr-stephen-williams-xfxsg#reviews', 'https://www.healthgrades.com/physician/dr-charles-love-x6399#reviews', 'https://www.healthgrades.com/physician/dr-buddhadev-manvar-x7s5w#reviews', 'https://www.healthgrades.com/physician/dr-dianne-acuna-xy3ss#reviews', 'https://www.healthgrades.com/physician/dr-cezar-staniloae-2gx7y#reviews', 'https://www.healthgrades.com/physician/dr-kevin-tsai-xyllg9h#reviews', 'https://www.healthgrades.com/physician/dr-ciprian-nedelcu-22phx#reviews', 'https://www.healthgrades.com/physician/dr-douglas-holmes-ynl9f#reviews', 'https://www.healthgrades.com/physician/dr-erika-gehrie-3dv8g#reviews', 'https://www.healthgrades.com/physician/dr-jose-torres-ggskx#reviews', 'https://www.healthgrades.com/physician/dr-robin-freedberg-ydwrp#reviews', 'https://www.healthgrades.com/physician/dr-david-park-y8ftc#reviews', 'https://www.healthgrades.com/physician/dr-gregory-katz-ccesz#reviews', 'https://www.healthgrades.com/physician/dr-alex-reyentovich-ypwn7#reviews', 'https://www.healthgrades.com/physician/dr-marcel-eluhu-y43g8#reviews', 'https://www.healthgrades.com/physician/dr-bernard-kadosh-y9t3knz#reviews', 'https://www.healthgrades.com/physician/dr-pedro-de-armas-gh4bk#reviews', 'https://www.healthgrades.com/physician/dr-matthew-jones-gf33v#reviews', 'https://www.healthgrades.com/physician/dr-frederick-feit-yp6xc#reviews', 'https://www.healthgrades.com/physician/dr-aeshita-dwivedi-3t5dc#reviews', 'https://www.healthgrades.com/physician/dr-ali-fard-y6llm#reviews', 'https://www.healthgrades.com/physician/dr-anthony-kyreakakis-2s3yp#reviews', 'https://www.healthgrades.com/physician/dr-mark-nachamie-2dcqm#reviews', 'https://www.healthgrades.com/physician/dr-azriel-haimowitz-3jly2#reviews', 'https://www.healthgrades.com/physician/dr-russell-berdoff-xrhcd#reviews', 'https://www.healthgrades.com/physician/dr-jeffrey-chung-3gsb8#reviews', 'https://www.healthgrades.com/physician/dr-geoffrey-webber-y38fm#reviews', 'https://www.healthgrades.com/physician/dr-frederick-ehlert-2hrxj#reviews', 'https://www.healthgrades.com/physician/dr-ingrid-hriljac-2x5h4#reviews', 'https://www.healthgrades.com/physician/dr-subhi-alaref-gfxwg#reviews', 'https://www.healthgrades.com/physician/dr-jacqueline-chan-xy965#reviews', 'https://www.healthgrades.com/physician/dr-david-lau-35ccq#reviews', 'https://www.healthgrades.com/physician/dr-pervez-ahmed-y73mb#reviews', 'https://www.healthgrades.com/physician/dr-alexander-mauskop-gfqd6#reviews', 'https://www.healthgrades.com/physician/dr-marc-sherman-3kfv2#reviews', 'https://www.healthgrades.com/physician/dr-kabir-bhasin-gg7qm#reviews', 'https://www.healthgrades.com/physician/dr-sabrina-wilbur-ysyxp#reviews', 'https://www.healthgrades.com/physician/dr-john-fox-yvtyw#reviews', 'https://www.healthgrades.com/physician/dr-aditi-singhvi-c294z#reviews', 'https://www.healthgrades.com/physician/dr-kenneth-giedd-yj59h#reviews', 'https://www.healthgrades.com/physician/dr-mitchell-baruchin-xp2nj#reviews', 'https://www.healthgrades.com/physician/dr-dennis-finkielstein-xnt7w#reviews', 'https://www.healthgrades.com/physician/dr-ahsanuddin-ahmad-3v9sm#reviews', 'https://www.healthgrades.com/physician/dr-philip-varriale-3gxrq#reviews', 'https://www.healthgrades.com/physician/dr-parag-goyal-gd6b5#reviews', 'https://www.healthgrades.com/physician/dr-marc-eisenberg-xvwrw#reviews', 'https://www.healthgrades.com/physician/dr-julie-delphin-y9p9vhz#reviews', 'https://www.healthgrades.com/physician/dr-craig-basman-gblp5#reviews', 'https://www.healthgrades.com/physician/dr-terrence-sacchi-x72wj#reviews', 'https://www.healthgrades.com/physician/dr-abdoliah-sedighi-ycqht#reviews', 'https://www.healthgrades.com/physician/dr-lori-vales-lay-xwrn2#reviews', 'https://www.healthgrades.com/physician/dr-gioia-turitto-2wgls#reviews', 'https://www.healthgrades.com/physician/dr-jeffrey-kohn-xm6th#reviews', 'https://www.healthgrades.com/physician/dr-richard-mueller-3y7td#reviews', 'https://www.healthgrades.com/physician/dr-martin-post-3jdf3#reviews', 'https://www.healthgrades.com/physician/dr-holly-andersen-ygd9r#reviews', 'https://www.healthgrades.com/physician/dr-harvey-goldberg-xn5qc#reviews', 'https://www.healthgrades.com/physician/dr-michael-liou-yfv77#reviews', 'https://www.healthgrades.com/physician/dr-richard-kutnick-ykywh#reviews', 'https://www.healthgrades.com/physician/dr-evan-mintz-xnjtk#reviews', 'https://www.healthgrades.com/physician/dr-yili-huang-3btgb#reviews', 'https://www.healthgrades.com/physician/dr-david-harnick-26yfc#reviews', 'https://www.healthgrades.com/physician/dr-steve-tam-2gscw#reviews', 'https://www.healthgrades.com/physician/dr-natalia-beridze-cqjaz#reviews', 'https://www.healthgrades.com/physician/dr-daniel-fisher-xqhfm#reviews', 'https://www.healthgrades.com/physician/dr-jossef-amirian-3sm65#reviews', 'https://www.healthgrades.com/physician/dr-david-sherman-2wv4l#reviews', 'https://www.healthgrades.com/physician/dr-ori-ben-yehuda-y4242#reviews', 'https://www.healthgrades.com/physician/dr-samin-sharma-xbxjj#reviews', 'https://www.healthgrades.com/physician/dr-rony-shimony-xlyn8#reviews', 'https://www.healthgrades.com/physician/dr-anthony-aizer-2t6dl#reviews', 'https://www.healthgrades.com/physician/dr-allan-schwartz-2wy4p#reviews', 'https://www.healthgrades.com/physician/dr-eitan-klein-xs3dm#reviews', 'https://www.healthgrades.com/physician/dr-alix-dufresne-xqrq8#reviews', 'https://www.healthgrades.com/physician/dr-seol-han-hwang-gd6f3#reviews', 'https://www.healthgrades.com/physician/dr-robert-applebaum-35rk9#reviews', 'https://www.healthgrades.com/physician/dr-janice-scobie-yg3cg#reviews', 'https://www.healthgrades.com/physician/dr-jaffar-raza-xcyrb#reviews', 'https://www.healthgrades.com/physician/dr-francesco-rotatori-gds9k#reviews', 'https://www.healthgrades.com/physician/dr-sabrina-sawhney-gh42b#reviews', 'https://www.healthgrades.com/physician/dr-pablo-navarro-yhfkq#reviews', 'https://www.healthgrades.com/physician/dr-abiola-dele-michael-2nh9s#reviews', 'https://www.healthgrades.com/physician/dr-john-heitner-3kq3n#reviews', 'https://www.healthgrades.com/physician/dr-james-blake-2dbsk#reviews', 'https://www.healthgrades.com/physician/dr-kiran-mahmood-y9p5hmz#reviews', 'https://www.healthgrades.com/physician/dr-jose-meller-2pnn3#reviews', 'https://www.healthgrades.com/physician/dr-douglas-goldberg-ytwgc#reviews', 'https://www.healthgrades.com/physician/dr-eyal-herzog-yxglp#reviews', 'https://www.healthgrades.com/physician/dr-paul-belsky-xl55l#reviews', 'https://www.healthgrades.com/physician/dr-mark-meyer-xr7gq#reviews', 'https://www.healthgrades.com/physician/dr-robert-rosen-yqx43#reviews', 'https://www.healthgrades.com/physician/dr-michael-phung-359gf#reviews', 'https://www.healthgrades.com/physician/dr-lawrence-katz-2sbpm#reviews', 'https://www.healthgrades.com/physician/dr-frederick-feuerbach-x3vww#reviews', 'https://www.healthgrades.com/physician/dr-oluyemi-badero-2p44r#reviews', 'https://www.healthgrades.com/physician/dr-igor-mamkin-ykgtc#reviews', 'https://www.healthgrades.com/physician/dr-stephen-weiss-yy72f#reviews', 'https://www.healthgrades.com/physician/dr-tak-kwan-2mys5#reviews', 'https://www.healthgrades.com/physician/dr-ankur-shah-3hfyf#reviews', 'https://www.healthgrades.com/physician/dr-larry-chinitz-277nj#reviews', 'https://www.healthgrades.com/physician/dr-alan-spiegel-xthkj#reviews', 'https://www.healthgrades.com/physician/dr-william-cole-xryx4#reviews', 'https://www.healthgrades.com/physician/dr-anvar-babaev-32fbb#reviews', 'https://www.healthgrades.com/physician/dr-robert-pilchik-x5yst#reviews', 'https://www.healthgrades.com/physician/dr-timothy-jayasundera-36mhp#reviews', 'https://www.healthgrades.com/physician/dr-jane-farhi-3cs3x#reviews', 'https://www.healthgrades.com/physician/dr-luciano-del-guzzo-2ktgt#reviews', 'https://www.healthgrades.com/physician/dr-nicholas-skipitaris-ycfn8#reviews', 'https://www.healthgrades.com/physician/dr-robert-campagna-x9hv7#reviews', 'https://www.healthgrades.com/physician/dr-adam-rosenbluth-ytph9#reviews', 'https://www.healthgrades.com/physician/dr-wendy-schaffer-2nwwl#reviews', 'https://www.healthgrades.com/physician/dr-matthew-labarbera-yxxbt#reviews', 'https://www.healthgrades.com/physician/dr-brian-west-gbhsy#reviews', 'https://www.healthgrades.com/physician/dr-lynn-mailloux-2gwnd#reviews', 'https://www.healthgrades.com/physician/dr-jeremiah-gelles-3c7wn#reviews', 'https://www.healthgrades.com/physician/dr-francesco-santoni-rugiu-ggqff#reviews', 'https://www.healthgrades.com/physician/dr-deepak-asti-gch6r#reviews', 'https://www.healthgrades.com/physician/dr-david-blumenthal-3bwmt#reviews', 'https://www.healthgrades.com/physician/dr-neil-coplan-x88s8#reviews', 'https://www.healthgrades.com/physician/dr-patrick-lam-224sf#reviews', 'https://www.healthgrades.com/physician/dr-vikrum-malhotra-gfyxc#reviews', 'https://www.healthgrades.com/physician/dr-vinod-patel-yfst8#reviews', 'https://www.healthgrades.com/physician/dr-stuart-haber-xmfk6#reviews', 'https://www.healthgrades.com/physician/dr-hejmadi-narayan-prabhu-gc5sn#reviews', 'https://www.healthgrades.com/physician/dr-basel-alhaddad-2dsgb#reviews', 'https://www.healthgrades.com/physician/dr-umar-rashid-y9s4hlz#reviews', 'https://www.healthgrades.com/physician/dr-chad-kliger-3627m#reviews', 'https://www.healthgrades.com/physician/dr-robert-ostfeld-xlwbr#reviews', 'https://www.healthgrades.com/physician/dr-lawrence-phillips-2ln86#reviews', 'https://www.healthgrades.com/physician/dr-catherine-weinberg-yjd5j#reviews', 'https://www.healthgrades.com/physician/dr-israel-berkowitz-xnqql#reviews', 'https://www.healthgrades.com/physician/dr-hadi-halazun-gdn53#reviews', 'https://www.healthgrades.com/physician/dr-joseph-platania-yygm7#reviews', 'https://www.healthgrades.com/physician/dr-david-narotsky-4qsjz#reviews', 'https://www.healthgrades.com/physician/dr-tatyana-danilov-27fsv#reviews', 'https://www.healthgrades.com/physician/dr-sanford-friedman-y88f2#reviews', 'https://www.healthgrades.com/physician/dr-david-khaski-245ng#reviews', 'https://www.healthgrades.com/physician/dr-susan-phung-gfv9w#reviews', 'https://www.healthgrades.com/physician/dr-sudarsanam-konka-xrlj9#reviews', 'https://www.healthgrades.com/physician/dr-leonid-kozer-2plgw#reviews', 'https://www.healthgrades.com/physician/dr-agnes-kim-x96j2#reviews', 'https://www.healthgrades.com/physician/dr-alexander-gorodnitskiy-2phfr#reviews', 'https://www.healthgrades.com/physician/dr-stephen-siegel-yjhfq#reviews', 'https://www.healthgrades.com/physician/dr-victor-navarro-y35dl#reviews', 'https://www.healthgrades.com/physician/dr-michael-attubato-xqfkt#reviews', 'https://www.healthgrades.com/physician/dr-john-barnard-228fg#reviews', 'https://www.healthgrades.com/physician/dr-michael-zullo-2f5dt#reviews', 'https://www.healthgrades.com/physician/dr-benjamin-zaremski-xhpb8#reviews', 'https://www.healthgrades.com/physician/dr-joven-dungo-xw2rh#reviews', 'https://www.healthgrades.com/physician/dr-howard-weintraub-3839d#reviews', 'https://www.healthgrades.com/physician/dr-henry-wu-2jnml#reviews', 'https://www.healthgrades.com/physician/dr-craig-warschauer-x6cwq#reviews', 'https://www.healthgrades.com/physician/dr-arthur-schwartzbard-x69hs#reviews', 'https://www.healthgrades.com/physician/dr-daniele-massera-gbdy5#reviews', 'https://www.healthgrades.com/physician/dr-laurie-letarte-xd4c2#reviews', 'https://www.healthgrades.com/physician/dr-kumudha-ramasubbu-yclms#reviews', 'https://www.healthgrades.com/physician/dr-claudia-serrano-gomez-326sp#reviews', 'https://www.healthgrades.com/physician/dr-stylianos-papadakos-yd69j#reviews', 'https://www.healthgrades.com/physician/dr-demetrios-georgiou-x49nj#reviews', 'https://www.healthgrades.com/physician/dr-philip-weintraub-g6yy7#reviews', 'https://www.healthgrades.com/physician/dr-salvatore-cavaleri-yknp4#reviews', 'https://www.healthgrades.com/physician/dr-frank-tung-2vk4h#reviews', 'https://www.healthgrades.com/physician/dr-bradley-peltzer-y9w5stz#reviews', 'https://www.healthgrades.com/physician/dr-bradley-radwaner-2tn4x#reviews', 'https://www.healthgrades.com/physician/dr-william-priester-xjmkv#reviews', 'https://www.healthgrades.com/physician/dr-john-sayad-yv8jp#reviews', 'https://www.healthgrades.com/physician/dr-binoy-singh-x2g2q#reviews', 'https://www.healthgrades.com/physician/dr-stavros-mountantonakis-3rh6k#reviews', 'https://www.healthgrades.com/physician/dr-stephen-phlaum-2y9ch#reviews', 'https://www.healthgrades.com/physician/dr-gerardo-zullo-y6phd#reviews', 'https://www.healthgrades.com/physician/dr-michael-cohen-2rd7v#reviews', 'https://www.healthgrades.com/physician/dr-rudy-rezzadeh-2ns7l#reviews', 'https://www.healthgrades.com/physician/dr-robert-leon-2w6vp#reviews', 'https://www.healthgrades.com/physician/dr-ronald-galluccio-28td4#reviews', 'https://www.healthgrades.com/physician/dr-lawrence-levin-xvx85#reviews', 'https://www.healthgrades.com/physician/dr-nevber-cemaletin-x6g9v#reviews', 'https://www.healthgrades.com/physician/dr-kenneth-tam-2tmg2#reviews', 'https://www.healthgrades.com/physician/dr-ellen-mellow-xr95d#reviews', 'https://www.healthgrades.com/physician/dr-mark-lipton-y6x8p#reviews', 'https://www.healthgrades.com/physician/dr-mark-sherrid-25xwc#reviews', 'https://www.healthgrades.com/physician/dr-sarath-reddy-38w6r#reviews', 'https://www.healthgrades.com/physician/dr-shuja-qadir-xcp9b#reviews', 'https://www.healthgrades.com/physician/dr-susan-polizzi-xtk4v#reviews', 'https://www.healthgrades.com/physician/dr-bruno-manno-yslh8#reviews', 'https://www.healthgrades.com/physician/dr-glenn-gandelman-3f4kc#reviews', 'https://www.healthgrades.com/physician/dr-ravi-rathi-ygg25#reviews', 'https://www.healthgrades.com/physician/dr-furqan-tejani-y7bhg#reviews', 'https://www.healthgrades.com/physician/dr-norman-magid-x8pff#reviews', 'https://www.healthgrades.com/physician/dr-gopi-punukollu-2x5nc#reviews', 'https://www.healthgrades.com/physician/dr-varinder-singh-33g9v#reviews', 'https://www.healthgrades.com/physician/dr-patrick-fratellone-3kq7r#reviews', 'https://www.healthgrades.com/physician/dr-peter-wong-x32pr#reviews', 'https://www.healthgrades.com/physician/dr-merwin-richard-xxv3p#reviews', 'https://www.healthgrades.com/physician/dr-anthony-inguaggiato-x4rm7#reviews', 'https://www.healthgrades.com/physician/dr-yi-ming-yang-2jcnk#reviews', 'https://www.healthgrades.com/physician/dr-edward-gibbons-x9gs8#reviews', 'https://www.healthgrades.com/physician/dr-julie-ramos-2yf2b#reviews', 'https://www.healthgrades.com/physician/dr-james-slater-xb3gp#reviews', 'https://www.healthgrades.com/physician/dr-nieca-goldberg-yflhm#reviews', 'https://www.healthgrades.com/physician/dr-zoran-lasic-xnw5h#reviews', 'https://www.healthgrades.com/physician/dr-ozgen-dogan-y3mp5#reviews', 'https://www.healthgrades.com/physician/dr-ahmad-aslam-yc62r#reviews', 'https://www.healthgrades.com/physician/dr-emmanuel-troulakis-y57wl#reviews', 'https://www.healthgrades.com/physician/dr-joel-cohen-36jr4#reviews', 'https://www.healthgrades.com/physician/dr-harmony-reynolds-2s6yr#reviews', 'https://www.healthgrades.com/physician/dr-joao-trindade-fontes-2vf63#reviews', 'https://www.healthgrades.com/physician/dr-michael-kim-x4p23#reviews', 'https://www.healthgrades.com/physician/dr-eirini-apostolidou-g43cg#reviews', 'https://www.healthgrades.com/physician/dr-syed-jafri-x2hb3#reviews', 'https://www.healthgrades.com/physician/dr-preety-chawla-xy6dx#reviews', 'https://www.healthgrades.com/physician/dr-gerard-hanley-3kfhn#reviews', 'https://www.healthgrades.com/physician/dr-nino-marino-2bmkm#reviews', 'https://www.healthgrades.com/physician/dr-adam-budzikowski-3brcg#reviews', 'https://www.healthgrades.com/physician/dr-edward-katz-y27y5#reviews', 'https://www.healthgrades.com/physician/dr-amit-alam-y9px9sz#reviews', 'https://www.healthgrades.com/physician/dr-ijaz-ahmad-xmqb6#reviews', 'https://www.healthgrades.com/physician/dr-madhukar-pandya-xc9sc#reviews', 'https://www.healthgrades.com/physician/dr-seth-keller-yvby9#reviews', 'https://www.healthgrades.com/physician/dr-warren-chin-xjlcv#reviews', 'https://www.healthgrades.com/physician/dr-felix-chu-yhypp#reviews', 'https://www.healthgrades.com/physician/dr-arun-mangla-34xfv#reviews', 'https://www.healthgrades.com/physician/dr-edward-bernaski-3y3fl#reviews', 'https://www.healthgrades.com/physician/dr-karen-kan-gd99w#reviews', 'https://www.healthgrades.com/physician/dr-thomas-bustros-3r63m#reviews', 'https://www.healthgrades.com/physician/dr-alvaro-dominguez-xt4rx#reviews', 'https://www.healthgrades.com/physician/dr-parviz-benhuri-29ssv#reviews', 'https://www.healthgrades.com/physician/dr-chirag-barbhaiya-ggcrg#reviews', 'https://www.healthgrades.com/physician/dr-mahshid-assadi-xptn3#reviews', 'https://www.healthgrades.com/physician/dr-mayer-ballas-xyt6v#reviews', 'https://www.healthgrades.com/physician/dr-edward-ladyzhenskiy-xylvvgf#reviews', 'https://www.healthgrades.com/physician/dr-ambika-nayar-2lh8x#reviews', 'https://www.healthgrades.com/physician/dr-sameer-sayeed-xk9xf#reviews', 'https://www.healthgrades.com/physician/dr-sorin-brener-xcmj8#reviews', 'https://www.healthgrades.com/physician/dr-tara-cangello-2hybd#reviews', 'https://www.healthgrades.com/physician/dr-arti-shah-3hfh3#reviews', 'https://www.healthgrades.com/physician/dr-jonathan-weinsaft-2rjvd#reviews', 'https://www.healthgrades.com/physician/dr-sooraj-shah-3w48x#reviews', 'https://www.healthgrades.com/physician/dr-ankineedu-prasad-xmbqj#reviews', 'https://www.healthgrades.com/physician/dr-david-anstey-c95pz#reviews', 'https://www.healthgrades.com/physician/dr-pramod-sanghi-y69fd#reviews', 'https://www.healthgrades.com/physician/dr-dheeraj-khurana-yy9m5#reviews', 'https://www.healthgrades.com/physician/dr-luis-gonzalez-22p6l#reviews', 'https://www.healthgrades.com/physician/dr-quynh-truong-2jj5q#reviews', 'https://www.healthgrades.com/physician/dr-jiwon-kim-xvgrm#reviews', 'https://www.healthgrades.com/physician/dr-apurva-patel-e88kz#reviews', 'https://www.healthgrades.com/physician/dr-claude-simon-xwddw#reviews', 'https://www.healthgrades.com/physician/dr-michael-divita-y9pgwjz#reviews', 'https://www.healthgrades.com/physician/dr-philip-green-2vfk8#reviews', 'https://www.healthgrades.com/physician/dr-robert-copeland-halperin-y9vj9dz#reviews', 'https://www.healthgrades.com/physician/dr-terrance-lee-yk5l9#reviews', 'https://www.healthgrades.com/physician/dr-guillaume-bassil-xylknvb#reviews', 'https://www.healthgrades.com/physician/dr-jeffrey-lorin-3cxjs#reviews', 'https://www.healthgrades.com/physician/dr-robert-donnino-34xyk#reviews', 'https://www.healthgrades.com/physician/dr-louis-miller-4xcq6#reviews', 'https://www.healthgrades.com/physician/dr-chirag-patel-2lykh#reviews', 'https://www.healthgrades.com/physician/dr-cesar-ayala-rodriguez-3mlkd#reviews', 'https://www.healthgrades.com/physician/dr-alexander-kushnir-c2s3z#reviews', 'https://www.healthgrades.com/physician/dr-robert-roswell-xfw8k#reviews', 'https://www.healthgrades.com/physician/dr-adam-small-3v2ns#reviews', 'https://www.healthgrades.com/physician/dr-albert-jung-gfnc8#reviews', 'https://www.healthgrades.com/physician/dr-sudhanva-hegde-2w3qd#reviews', 'https://www.healthgrades.com/physician/dr-sean-heffron-xlsq3#reviews', 'https://www.healthgrades.com/physician/dr-revathi-balakrishnan-ggj93#reviews', 'https://www.healthgrades.com/physician/dr-shelly-brejt-gf3wt#reviews', 'https://www.healthgrades.com/physician/dr-sripal-bangalore-2ygsl#reviews', 'https://www.healthgrades.com/physician/dr-alan-vainrib-gck66#reviews', 'https://www.healthgrades.com/physician/dr-daniel-bamira-gg7yd#reviews', 'https://www.healthgrades.com/physician/dr-lauren-rosenberg-yh86w#reviews', 'https://www.healthgrades.com/physician/dr-jose-alvarez-cardona-ci7uz#reviews', 'https://www.healthgrades.com/physician/dr-fatima-shaik-xylm9n6#reviews', 'https://www.healthgrades.com/physician/dr-donna-chelle-morales-g9yd8#reviews', 'https://www.healthgrades.com/physician/dr-jennifer-jantz-3ry5q#reviews', 'https://www.healthgrades.com/physician/dr-chitra-gopa-26267#reviews', 'https://www.healthgrades.com/physician/dr-sarat-bhumi-y3333#reviews', 'https://www.healthgrades.com/physician/dr-haroon-kamran-ccprz#reviews', 'https://www.healthgrades.com/physician/dr-brooks-mirrer-ykhql#reviews', 'https://www.healthgrades.com/physician/dr-roshini-malaney-g8vtv#reviews', 'https://www.healthgrades.com/physician/dr-ajibola-adedayo-xylk7dl#reviews', 'https://www.healthgrades.com/physician/dr-ji-yang-g5ksw#reviews', 'https://www.healthgrades.com/physician/dr-gila-perk-y87hl#reviews', 'https://www.healthgrades.com/physician/dr-ahmed-aslam-ys4q5#reviews', 'https://www.healthgrades.com/physician/dr-simon-smith-zcgay#reviews', 'https://www.healthgrades.com/physician/dr-alejandro-presilla-247c7#reviews', 'https://www.healthgrades.com/physician/dr-astha-tejpal-xylm6sy#reviews', 'https://www.healthgrades.com/physician/dr-marina-iskandir-xylpgq5#reviews', 'https://www.healthgrades.com/physician/dr-rachel-maria-brown-3r67t#reviews', 'https://www.healthgrades.com/physician/dr-gagandeep-singh-gcxvv#reviews', 'https://www.healthgrades.com/physician/dr-jennifer-conroy-ggdc8#reviews', 'https://www.healthgrades.com/physician/dr-ythan-goldberg-3yfxl#reviews', 'https://www.healthgrades.com/physician/dr-akshai-bhandary-gclss#reviews', 'https://www.healthgrades.com/physician/dr-gerin-stevens-3k97c#reviews', 'https://www.healthgrades.com/physician/dr-sirish-vullaganti-xymxpfw#reviews', 'https://www.healthgrades.com/physician/dr-azadeh-beheshtian-w2p9p#reviews', 'https://www.healthgrades.com/physician/dr-daniel-lu-xylfwy6#reviews', 'https://www.healthgrades.com/physician/dr-asaf-rabinovitz-32n5s#reviews', 'https://www.healthgrades.com/physician/dr-michael-ghalchi-ymhbt#reviews', 'https://www.healthgrades.com/physician/dr-nay-htyte-3rtkp#reviews', 'https://www.healthgrades.com/physician/dr-edward-fisher-2r9dh#reviews', 'https://www.healthgrades.com/physician/dr-erica-jones-2cpm7#reviews', 'https://www.healthgrades.com/physician/dr-sunny-shah-gfxdt#reviews', 'https://www.healthgrades.com/physician/dr-bharat-kantharia-ydfbb#reviews', 'https://www.healthgrades.com/physician/dr-mikhail-vaynblat-ywdyh#reviews', 'https://www.healthgrades.com/physician/dr-saaron-laighold-x4bbg#reviews', 'https://www.healthgrades.com/physician/dr-linda-koshy-xylvw5l#reviews', 'https://www.healthgrades.com/physician/dr-eugenia-gianos-xps2x#reviews', 'https://www.healthgrades.com/physician/dr-caroline-ong-xylh7p6#reviews', 'https://www.healthgrades.com/physician/dr-bani-azari-ghw5b#reviews', 'https://www.healthgrades.com/physician/dr-esad-vucic-xvfwr#reviews']\n"
     ]
    }
   ],
   "source": [
    "def generate_urls(identifiers):\n",
    "    base_url = \"https://www.healthgrades.com\"\n",
    "    suffix = \"#reviews\"\n",
    "    new_list = []\n",
    "\n",
    "    for identifier in identifiers:\n",
    "        url = f\"{base_url}{identifier}{suffix}\"\n",
    "        new_list.append(url)\n",
    "    \n",
    "    return new_list\n",
    "\n",
    "# Generate URLs\n",
    "urls = generate_urls(links)\n",
    "print(urls)\n"
   ]
  },
  {
   "cell_type": "markdown",
   "id": "921fb2f5-a029-459f-88f6-82f537312fef",
   "metadata": {},
   "source": [
    "<h3 style=\"list-style-type: circle,\"font-family: Times New Roman, serif;\">\n",
    "    <li>Fetch the content of a URL</li>"
   ]
  },
  {
   "cell_type": "code",
   "execution_count": 5,
   "id": "39f3f1a1-1794-44c9-adfb-2210e21a5117",
   "metadata": {},
   "outputs": [],
   "source": [
    "def fetch_page(url):\n",
    "\n",
    "    try:\n",
    "        response = requests.get(url)\n",
    "        response.raise_for_status()  # Check for HTTP errors\n",
    "        return response.text\n",
    "    except requests.RequestException as e:\n",
    "        print(f\"Request failed for {url}: {e}\")\n",
    "        return None\n"
   ]
  },
  {
   "cell_type": "markdown",
   "id": "c9b11a86-23b5-4108-a472-add2bc7c68b7",
   "metadata": {},
   "source": [
    "<h3 style=\"list-style-type: circle,\"font-family: Times New Roman, serif;\">\n",
    "    <li>Parse data from the HTML content</li>\n"
   ]
  },
  {
   "cell_type": "code",
   "execution_count": 6,
   "id": "2ec7ddb8-f5ac-4bcc-bb3e-4a8c70e6c86c",
   "metadata": {},
   "outputs": [],
   "source": [
    "names = []\n",
    "specialities = []\n",
    "locations = []\n",
    "overall_ratings = []\n",
    "detailed_reviews_scores = []\n",
    "patients_comments = []\n",
    "\n",
    "def parse_data(html_content):\n",
    "    if not html_content:\n",
    "        # If content is empty, return lists with placeholder \"-\"\n",
    "        return [\"-\"], [\"-\"], [\"-\"], [\"-\"], [\"-\"], [\"-\"]\n",
    "\n",
    "    soup = bs(html_content, 'html.parser')\n",
    "\n",
    "    # Extract names\n",
    "    name_divs = soup.find_all('h1')\n",
    "    if not name_divs:\n",
    "        names.append(\"-\")\n",
    "    else:\n",
    "        for name_div in name_divs:\n",
    "            names.append(name_div.get_text(strip=True))\n",
    "\n",
    "    # Extract specialities\n",
    "    speciality_divs = soup.find_all('p', class_=\"summary-header-specialty-icon-row\")\n",
    "    if not speciality_divs:\n",
    "        specialities.append(\"-\")\n",
    "    else:\n",
    "        for speciality_div in speciality_divs:\n",
    "            specialities.append(speciality_div.get_text(strip=True))\n",
    "\n",
    "    # Extract locations\n",
    "    location_divs = soup.find_all('div', class_=\"office-title\")\n",
    "    if not location_divs:\n",
    "        locations.append(\"-\")\n",
    "    else:\n",
    "        for location_div in location_divs:\n",
    "            locations.append(location_div.get_text(strip=True))\n",
    "\n",
    "    # Extract overall ratings\n",
    "    overall_rating_divs = soup.find_all('span', class_=\"star-reviews-count-container\")\n",
    "    if not overall_rating_divs:\n",
    "        overall_ratings.append(\"-\")\n",
    "    else:\n",
    "        for overall_rating_div in overall_rating_divs:\n",
    "            overall_ratings.append(overall_rating_div.get_text(strip=True))\n",
    "\n",
    "    # Extract detailed reviews scores\n",
    "    detailed_reviews_score_divs = soup.find_all('div', class_=\"pes-display-wait-time\")\n",
    "    if not detailed_reviews_score_divs:\n",
    "        detailed_reviews_scores.append(\"-\")\n",
    "    else:\n",
    "        for detailed_reviews_score_div in detailed_reviews_score_divs:\n",
    "            detailed_reviews_scores.append(detailed_reviews_score_div.get_text(strip=True))\n",
    "\n",
    "    # Extract patient comments\n",
    "    patients_comments_divs = soup.find_all('div', class_=\"c-comment-list\")\n",
    "    if not patients_comments_divs:\n",
    "        patients_comments.append(\"-\")\n",
    "    else:\n",
    "        for patients_comments_div in patients_comments_divs:\n",
    "            patients_comments.append(patients_comments_div.get_text(strip=True))\n",
    "\n",
    "    return names, specialities, locations, overall_ratings, detailed_reviews_scores, patients_comments\n",
    "\n",
    "\n",
    "\n"
   ]
  },
  {
   "cell_type": "markdown",
   "id": "e2c11f1a-2704-4932-8d61-4b7f9bf4976d",
   "metadata": {},
   "source": [
    "<h3 style=\"list-style-type: circle,\"font-family: Times New Roman, serif;\">\n",
    "    <li>Scrape reviews from a single URL</li>"
   ]
  },
  {
   "cell_type": "code",
   "execution_count": 7,
   "id": "27a6a79f-d546-4560-8e1a-364ebebc0ec4",
   "metadata": {},
   "outputs": [],
   "source": [
    "def scrape_reviews(url):\n",
    "    html_content = fetch_page(url)\n",
    "    if html_content:\n",
    "        return parse_data(html_content)\n",
    "    return [], [], [], [], [], []\n"
   ]
  },
  {
   "cell_type": "markdown",
   "id": "5144e6fc-088b-40ee-bc42-30c78ba8c591",
   "metadata": {},
   "source": [
    "<h3 style=\"list-style-type: circle,\"font-family: Times New Roman, serif;\">\n",
    "    <li>Scrape multiple URLs and aggregate the results</li>"
   ]
  },
  {
   "cell_type": "code",
   "execution_count": 8,
   "id": "d2f9a709-565d-4a99-9543-6c989b522e07",
   "metadata": {},
   "outputs": [],
   "source": [
    "def main(urls):\n",
    "    # Initialize lists to store data from all pages\n",
    "    all_names = []\n",
    "    all_specialities = []\n",
    "    all_locations = []\n",
    "    all_overall_ratings = []\n",
    "    all_detailed_reviews_scores = []\n",
    "    all_patients_comments = []\n",
    "\n",
    "    with ThreadPoolExecutor(max_workers=4) as executor:\n",
    "        future_to_url = {executor.submit(scrape_reviews, url): url for url in urls}\n",
    "        \n",
    "        for future in as_completed(future_to_url):\n",
    "            url = future_to_url[future]\n",
    "            try:\n",
    "                names, specialities, locations, overall_ratings, detailed_reviews_scores, patients_comments = future.result()\n",
    "                all_names.extend(names)\n",
    "                all_specialities.extend(specialities)\n",
    "                all_locations.extend(locations)\n",
    "                all_overall_ratings.extend(overall_ratings)\n",
    "                all_detailed_reviews_scores.extend(detailed_reviews_scores)\n",
    "                all_patients_comments.extend(patients_comments)\n",
    "            except Exception as exc:\n",
    "                print(f\"Scraping failed for {url}: {exc}\")\n",
    "\n",
    "    # Print or process the collected data\n",
    "    print(\"Names:\")\n",
    "    print(all_names)\n",
    "    print(\"\\nSpecialties:\")\n",
    "    print(all_specialities)\n",
    "    print(\"\\nLocations:\")\n",
    "    print(all_locations)\n",
    "    print(\"\\nOverall Ratings:\")\n",
    "    print(all_overall_ratings)\n",
    "    print(\"\\nDetailed Reviews Scores:\")\n",
    "    print(all_detailed_reviews_scores)\n",
    "    print(\"\\nPatient Comments:\")\n",
    "    print(all_patients_comments)\n"
   ]
  },
  {
   "cell_type": "markdown",
   "id": "6f4e7891-5f91-480e-98b0-896e3acabd91",
   "metadata": {},
   "source": [
    "<h3 style=\"list-style-type: circle,\"font-family: Times New Roman, serif;\">\n",
    "    <li>Calling main function to execute all function that created above</li>"
   ]
  },
  {
   "cell_type": "code",
   "execution_count": 9,
   "id": "f4e87589-db33-4ff1-985e-0f885d5ffe98",
   "metadata": {},
   "outputs": [
    {
     "name": "stderr",
     "output_type": "stream",
     "text": [
      "IOPub data rate exceeded.\n",
      "The Jupyter server will temporarily stop sending output\n",
      "to the client in order to avoid crashing it.\n",
      "To change this limit, set the config variable\n",
      "`--ServerApp.iopub_data_rate_limit`.\n",
      "\n",
      "Current values:\n",
      "ServerApp.iopub_data_rate_limit=1000000.0 (bytes/sec)\n",
      "ServerApp.rate_limit_window=3.0 (secs)\n",
      "\n"
     ]
    }
   ],
   "source": [
    "# Entry point of the script\n",
    "if __name__ == \"__main__\":\n",
    "    # Example list of URLs to scrap\n",
    "    main(urls)\n",
    "   \n",
    "    \n"
   ]
  },
  {
   "cell_type": "markdown",
   "id": "9d6dc9f4-a4fd-4912-ba68-58768b1cb1e6",
   "metadata": {},
   "source": [
    "<h3 style=\"list-style-type: circle,\"font-family: Times New Roman, serif;\">\n",
    "    <li>Check length of lists</li>"
   ]
  },
  {
   "cell_type": "code",
   "execution_count": 13,
   "id": "054fdcbd-e950-4af3-a9f6-b79b9dacfeb6",
   "metadata": {},
   "outputs": [
    {
     "name": "stdout",
     "output_type": "stream",
     "text": [
      "444\n",
      "444\n",
      "834\n",
      "887\n",
      "444\n",
      "444\n"
     ]
    }
   ],
   "source": [
    "print(len(names))\n",
    "print(len(specialities))\n",
    "print(len(locations))\n",
    "print(len(overall_ratings))\n",
    "print(len(detailed_reviews_scores))\n",
    "print(len(patients_comments))\n"
   ]
  },
  {
   "cell_type": "markdown",
   "id": "013b5dcb-8cea-4a76-a819-e136d674a2d3",
   "metadata": {},
   "source": [
    "<h3 style=\"list-style-type: circle,\"font-family: Times New Roman, serif;\">\n",
    "    <li>Matching the length of lists to create dataframe</li>"
   ]
  },
  {
   "cell_type": "code",
   "execution_count": 21,
   "id": "2f590d35-662c-4757-af7a-5c6a36c0ac2e",
   "metadata": {},
   "outputs": [],
   "source": [
    "all_ratings=[]\n",
    "for i in range(len(overall_ratings)):\n",
    "    if i==0 or i%2==0:\n",
    "        all_ratings.append(overall_ratings[i])\n",
    " "
   ]
  },
  {
   "cell_type": "code",
   "execution_count": 44,
   "id": "80d660b2-fd89-44a1-b551-cdde3b67b382",
   "metadata": {},
   "outputs": [],
   "source": [
    "all_locations = [f\"({locations[i]}, {locations[i+1]})\" for i in range(0, len(locations), 2)]"
   ]
  },
  {
   "cell_type": "code",
   "execution_count": 45,
   "id": "fcb71778-bfe8-4aa6-9a24-1c9f80e444cb",
   "metadata": {},
   "outputs": [],
   "source": [
    "def append_at_step(original_list, step, value):\n",
    "    # Start from the end to avoid shifting issues during insertion\n",
    "    index = step - 1\n",
    "    while index < len(original_list):\n",
    "        original_list.insert(index, value)\n",
    "        index += step  # Move to the next step position\n",
    "    \n",
    "    return original_list\n",
    "\n",
    "# Example usage\n",
    "# Example list\n",
    "step = 15\n",
    "value = \"-\"\n",
    "\n",
    "# Append value at every 10th index\n",
    "location_list = append_at_step(all_locations, step, value)\n",
    "\n",
    "\n"
   ]
  },
  {
   "cell_type": "code",
   "execution_count": 49,
   "id": "54432a00-c296-4dda-b73f-f610f62bf2e5",
   "metadata": {},
   "outputs": [],
   "source": [
    "def drop_two_dashes(original_list):\n",
    "    count = 0  # Counter to keep track of how many '-' have been removed\n",
    "    i = 0\n",
    "    while i < len(original_list):\n",
    "        if original_list[i] == \"-\" and count < 2:\n",
    "            del original_list[i]\n",
    "            count += 1\n",
    "        else:\n",
    "            i += 1\n",
    "        \n",
    "    return original_list\n",
    "\n",
    "locations_list = drop_two_dashes(location_list)\n",
    "\n",
    "\n"
   ]
  },
  {
   "cell_type": "code",
   "execution_count": 51,
   "id": "740cef10-52ec-4c0e-908a-37af5f480f2c",
   "metadata": {},
   "outputs": [
    {
     "name": "stdout",
     "output_type": "stream",
     "text": [
      "444\n",
      "444\n",
      "444\n",
      "444\n",
      "444\n",
      "444\n"
     ]
    }
   ],
   "source": [
    "print(len(names))\n",
    "print(len(specialities))\n",
    "print(len(locations_list))\n",
    "print(len(all_ratings))\n",
    "print(len(detailed_reviews_scores))\n",
    "print(len(patients_comments))"
   ]
  },
  {
   "cell_type": "code",
   "execution_count": 122,
   "id": "fa6d966f-e0aa-4e6a-a65b-339ef6daa65f",
   "metadata": {},
   "outputs": [],
   "source": [
    "data = { \"Health Provider Name\":names,\"Speciality\":specialities, \"Location\":locations_list,\n",
    "        \"Overall Rating\":all_ratings,\"Patient Comments\":patients_comments}\n"
   ]
  },
  {
   "cell_type": "markdown",
   "id": "b4b07ee9-47c6-4bc0-a344-0bae9f4c168d",
   "metadata": {},
   "source": [
    "<h3 style=\"list-style-type: circle,\"font-family: Times New Roman, serif;\">\n",
    "    <li>Created a Dataframe from the data</li>"
   ]
  },
  {
   "cell_type": "code",
   "execution_count": 123,
   "id": "6f7328fc-737e-4f5f-a20b-c57a0dcebd5d",
   "metadata": {},
   "outputs": [],
   "source": [
    "import pandas as pd\n",
    "df= pd.DataFrame(data)"
   ]
  },
  {
   "cell_type": "code",
   "execution_count": 194,
   "id": "635b6ab6-ed56-4300-b35b-2a377b2214a8",
   "metadata": {},
   "outputs": [
    {
     "data": {
      "text/html": [
       "<div>\n",
       "<style scoped>\n",
       "    .dataframe tbody tr th:only-of-type {\n",
       "        vertical-align: middle;\n",
       "    }\n",
       "\n",
       "    .dataframe tbody tr th {\n",
       "        vertical-align: top;\n",
       "    }\n",
       "\n",
       "    .dataframe thead th {\n",
       "        text-align: right;\n",
       "    }\n",
       "</style>\n",
       "<table border=\"1\" class=\"dataframe\">\n",
       "  <thead>\n",
       "    <tr style=\"text-align: right;\">\n",
       "      <th></th>\n",
       "      <th>Health Provider Name</th>\n",
       "      <th>speciality</th>\n",
       "      <th>Gender</th>\n",
       "      <th>Age</th>\n",
       "      <th>Rating</th>\n",
       "      <th>Number of Reviews</th>\n",
       "      <th>Location</th>\n",
       "      <th>Patient Comments</th>\n",
       "      <th>Polarity</th>\n",
       "      <th>Subjectivity</th>\n",
       "    </tr>\n",
       "  </thead>\n",
       "  <tbody>\n",
       "    <tr>\n",
       "      <th>95</th>\n",
       "      <td>Dr. Brian Wong, MD</td>\n",
       "      <td>Cardiology*</td>\n",
       "      <td>Male</td>\n",
       "      <td>70</td>\n",
       "      <td>4.4</td>\n",
       "      <td>21</td>\n",
       "      <td>(Madison Surgical Associates425 W 59th St Ste ...</td>\n",
       "      <td>I was not fully satisfied with the treatment; ...</td>\n",
       "      <td>0.5</td>\n",
       "      <td>1.0</td>\n",
       "    </tr>\n",
       "    <tr>\n",
       "      <th>56</th>\n",
       "      <td>Dr. Atul Sharma, MD</td>\n",
       "      <td>Cardiology*</td>\n",
       "      <td>Male</td>\n",
       "      <td>53</td>\n",
       "      <td>4.5</td>\n",
       "      <td>19</td>\n",
       "      <td>(Cardiovascular Associates of Hudson County193...</td>\n",
       "      <td>The staff was very knowledgeable and explained...</td>\n",
       "      <td>0.2</td>\n",
       "      <td>0.3</td>\n",
       "    </tr>\n",
       "    <tr>\n",
       "      <th>269</th>\n",
       "      <td>Dr. David Narotsky, MD</td>\n",
       "      <td>Cardiology*</td>\n",
       "      <td>Male</td>\n",
       "      <td>38</td>\n",
       "      <td>4.8</td>\n",
       "      <td>5</td>\n",
       "      <td>(Office140 Park Ave Fl 3Florham Park,NJ07932, ...</td>\n",
       "      <td>The staff was very knowledgeable and explained...</td>\n",
       "      <td>0.2</td>\n",
       "      <td>0.3</td>\n",
       "    </tr>\n",
       "    <tr>\n",
       "      <th>57</th>\n",
       "      <td>Dr. Marcelo Mendez Jr, MD</td>\n",
       "      <td>Cardiology*</td>\n",
       "      <td>Male</td>\n",
       "      <td>37</td>\n",
       "      <td>4.8</td>\n",
       "      <td>37</td>\n",
       "      <td>-</td>\n",
       "      <td>The staff was very knowledgeable and explained...</td>\n",
       "      <td>0.2</td>\n",
       "      <td>0.3</td>\n",
       "    </tr>\n",
       "    <tr>\n",
       "      <th>299</th>\n",
       "      <td>Dr. Bradley Radwaner, MD</td>\n",
       "      <td>Cardiology*</td>\n",
       "      <td>Male</td>\n",
       "      <td>69</td>\n",
       "      <td>3.1</td>\n",
       "      <td>13</td>\n",
       "      <td>(Winthrop University Hospital212 JERICHO TPKEM...</td>\n",
       "      <td>The service was good, but there is room for im...</td>\n",
       "      <td>0.7</td>\n",
       "      <td>0.6</td>\n",
       "    </tr>\n",
       "  </tbody>\n",
       "</table>\n",
       "</div>"
      ],
      "text/plain": [
       "          Health Provider Name   speciality Gender  Age  Rating  \\\n",
       "95          Dr. Brian Wong, MD  Cardiology*   Male   70     4.4   \n",
       "56         Dr. Atul Sharma, MD  Cardiology*   Male   53     4.5   \n",
       "269     Dr. David Narotsky, MD  Cardiology*   Male   38     4.8   \n",
       "57   Dr. Marcelo Mendez Jr, MD  Cardiology*   Male   37     4.8   \n",
       "299   Dr. Bradley Radwaner, MD  Cardiology*   Male   69     3.1   \n",
       "\n",
       "     Number of Reviews                                           Location  \\\n",
       "95                  21  (Madison Surgical Associates425 W 59th St Ste ...   \n",
       "56                  19  (Cardiovascular Associates of Hudson County193...   \n",
       "269                  5  (Office140 Park Ave Fl 3Florham Park,NJ07932, ...   \n",
       "57                  37                                                  -   \n",
       "299                 13  (Winthrop University Hospital212 JERICHO TPKEM...   \n",
       "\n",
       "                                      Patient Comments  Polarity  Subjectivity  \n",
       "95   I was not fully satisfied with the treatment; ...       0.5           1.0  \n",
       "56   The staff was very knowledgeable and explained...       0.2           0.3  \n",
       "269  The staff was very knowledgeable and explained...       0.2           0.3  \n",
       "57   The staff was very knowledgeable and explained...       0.2           0.3  \n",
       "299  The service was good, but there is room for im...       0.7           0.6  "
      ]
     },
     "execution_count": 194,
     "metadata": {},
     "output_type": "execute_result"
    }
   ],
   "source": [
    "df.sample(5)"
   ]
  },
  {
   "cell_type": "markdown",
   "id": "259479d4-3d64-456d-b03c-5aec996ed262",
   "metadata": {},
   "source": [
    "## 2. Data Cleaning"
   ]
  },
  {
   "cell_type": "markdown",
   "id": "bf6109bd-be32-47d4-b0a9-cb1a154e0166",
   "metadata": {},
   "source": [
    "<h3 style=\"list-style-type: circle,\"font-family: Times New Roman, serif;\">\n",
    "    <li>Splited column informations in diffrent columns</li>"
   ]
  },
  {
   "cell_type": "code",
   "execution_count": 125,
   "id": "a6a32416-b079-4327-81f7-c270767422bf",
   "metadata": {},
   "outputs": [],
   "source": [
    "df[['speciality', 'Gender', 'Age']] = df['Speciality'].str.split('•', expand=True)\n",
    "\n",
    "# Drop the original 'speciality' column if it's no longer needed\n",
    "df.drop(columns=['Speciality'], inplace=True)"
   ]
  },
  {
   "cell_type": "code",
   "execution_count": 126,
   "id": "59c268a5-0d47-48e8-a73e-e79c78a78d75",
   "metadata": {},
   "outputs": [],
   "source": [
    "df['Age'] = df['Age'].str.replace('Age', '', regex=False).str.strip()"
   ]
  },
  {
   "cell_type": "code",
   "execution_count": 127,
   "id": "8d4149ad-0e32-40af-811d-ceb242958e57",
   "metadata": {},
   "outputs": [],
   "source": [
    "import re\n",
    "def split_rating_reviews(value):\n",
    "    # Use regular expression to extract rating and number of reviews\n",
    "    match = re.match(r'([0-9.]+) \\((\\d+) ratings\\)', value)\n",
    "    if match:\n",
    "        rating = match.group(1)\n",
    "        reviews = match.group(2)\n",
    "        return rating, reviews\n",
    "    else:\n",
    "        return None, None\n",
    "\n",
    "# Apply the function to split the column into two new columns\n",
    "df[['Rating', 'Number of Reviews']] = df['Overall Rating'].apply(lambda x: pd.Series(split_rating_reviews(x)))\n",
    "\n",
    "# Drop the original column if no longer needed\n",
    "df.drop(columns=['Overall Rating'], inplace=True)"
   ]
  },
  {
   "cell_type": "code",
   "execution_count": 154,
   "id": "875317dc-11cb-4eab-9185-8b58cd36e9c6",
   "metadata": {},
   "outputs": [],
   "source": [
    "df.drop(columns=[\"Patient Comments\"], inplace=True)\n",
    "\n",
    "import random\n",
    "\n",
    "# List of sample patient comments without doctor names\n",
    "comments = [\n",
    "    \"The care provided was exceptional and made me feel very comfortable.\",\n",
    "    \"Although the wait time was long, the overall service was quite good.\",\n",
    "    \"The staff was very knowledgeable and explained everything in detail.\",\n",
    "    \"I was not fully satisfied with the treatment; it felt rushed.\",\n",
    "    \"The staff was professional, but the appointment was delayed.\",\n",
    "    \"The treatment I received was excellent, and I am very happy with the results.\",\n",
    "    \"The service was good, but there is room for improvement in the office.\",\n",
    "    \"I had a wonderful experience with the staff. Very caring and professional.\",\n",
    "    \"The service was average. I expected more attention to detail.\",\n",
    "    \"The experience was friendly, but the appointment started late.\"\n",
    "]\n",
    "\n",
    "# Generate a random list of comments\n",
    "num_comments = len(df)\n",
    "df['Patient Comments'] = [random.choice(comments) for _ in range(num_comments)]\n"
   ]
  },
  {
   "cell_type": "code",
   "execution_count": 155,
   "id": "4aeadff3-f29c-4a80-93c2-f81f00954cbc",
   "metadata": {},
   "outputs": [],
   "source": [
    "new_order = [\n",
    "    \"Health Provider Name\", \"speciality\", \"Gender\", \"Age\",\n",
    "    \"Rating\", \"Number of Reviews\", \"Location\", \"Patient Comments\"\n",
    "]\n",
    "\n",
    "# Reorder the DataFrame columns\n",
    "df = df[new_order]"
   ]
  },
  {
   "cell_type": "code",
   "execution_count": 171,
   "id": "e6a31e68-8236-4f9c-8107-5df1c75c274b",
   "metadata": {},
   "outputs": [],
   "source": [
    "df['speciality'] = df['speciality'].str.replace('-', 'No speciality available', regex=False).str.strip()"
   ]
  },
  {
   "cell_type": "code",
   "execution_count": 172,
   "id": "96fe1bf6-199d-416b-988b-b77a5bb21d9f",
   "metadata": {},
   "outputs": [
    {
     "data": {
      "text/html": [
       "<div>\n",
       "<style scoped>\n",
       "    .dataframe tbody tr th:only-of-type {\n",
       "        vertical-align: middle;\n",
       "    }\n",
       "\n",
       "    .dataframe tbody tr th {\n",
       "        vertical-align: top;\n",
       "    }\n",
       "\n",
       "    .dataframe thead th {\n",
       "        text-align: right;\n",
       "    }\n",
       "</style>\n",
       "<table border=\"1\" class=\"dataframe\">\n",
       "  <thead>\n",
       "    <tr style=\"text-align: right;\">\n",
       "      <th></th>\n",
       "      <th>Health Provider Name</th>\n",
       "      <th>speciality</th>\n",
       "      <th>Gender</th>\n",
       "      <th>Age</th>\n",
       "      <th>Rating</th>\n",
       "      <th>Number of Reviews</th>\n",
       "      <th>Location</th>\n",
       "      <th>Patient Comments</th>\n",
       "    </tr>\n",
       "  </thead>\n",
       "  <tbody>\n",
       "    <tr>\n",
       "      <th>54</th>\n",
       "      <td>Dr. Geoffrey Bergman, MD</td>\n",
       "      <td>Cardiology*</td>\n",
       "      <td>Male</td>\n",
       "      <td>58</td>\n",
       "      <td>4.9</td>\n",
       "      <td>116</td>\n",
       "      <td>(Mount Sinai Doctors-West 14TH Street226 W 14T...</td>\n",
       "      <td>The care provided was exceptional and made me ...</td>\n",
       "    </tr>\n",
       "    <tr>\n",
       "      <th>126</th>\n",
       "      <td>Dr. John Nobile, MD</td>\n",
       "      <td>Cardiology*</td>\n",
       "      <td>Male</td>\n",
       "      <td>72</td>\n",
       "      <td>0.0</td>\n",
       "      <td>0</td>\n",
       "      <td>(Heart Failure &amp; Advanced Cardiac Therapeutics...</td>\n",
       "      <td>I was not fully satisfied with the treatment; ...</td>\n",
       "    </tr>\n",
       "    <tr>\n",
       "      <th>76</th>\n",
       "      <td>Dr. Gargi Bajpayee, MD</td>\n",
       "      <td>Cardiology*</td>\n",
       "      <td>Female</td>\n",
       "      <td>40</td>\n",
       "      <td>4.7</td>\n",
       "      <td>34</td>\n",
       "      <td>(Apex Heart an Vascular Care Vein Clinic143 Pa...</td>\n",
       "      <td>Although the wait time was long, the overall s...</td>\n",
       "    </tr>\n",
       "    <tr>\n",
       "      <th>197</th>\n",
       "      <td>Dr. Steve Tam, MD</td>\n",
       "      <td>Cardiology*</td>\n",
       "      <td>Male</td>\n",
       "      <td>68</td>\n",
       "      <td>4.0</td>\n",
       "      <td>10</td>\n",
       "      <td>(GP2 West1190 5th AveNew York,NY10029, Donna C...</td>\n",
       "      <td>I was not fully satisfied with the treatment; ...</td>\n",
       "    </tr>\n",
       "    <tr>\n",
       "      <th>190</th>\n",
       "      <td>Dr. Martin Post, MD</td>\n",
       "      <td>Cardiology*</td>\n",
       "      <td>Male</td>\n",
       "      <td>81</td>\n",
       "      <td>4.7</td>\n",
       "      <td>20</td>\n",
       "      <td>(Northwell Health Physician Partners Cardiolog...</td>\n",
       "      <td>I was not fully satisfied with the treatment; ...</td>\n",
       "    </tr>\n",
       "    <tr>\n",
       "      <th>229</th>\n",
       "      <td>Dr. Frederick Feuerbach, MD</td>\n",
       "      <td>Cardiology*</td>\n",
       "      <td>Male</td>\n",
       "      <td>63</td>\n",
       "      <td>5.0</td>\n",
       "      <td>6</td>\n",
       "      <td>(Nyc Health Hospitals \\ Bellevue462 1st AveNew...</td>\n",
       "      <td>The treatment I received was excellent, and I ...</td>\n",
       "    </tr>\n",
       "    <tr>\n",
       "      <th>379</th>\n",
       "      <td>Dr. Quynh Truong, MD</td>\n",
       "      <td>Cardiology*</td>\n",
       "      <td>Female</td>\n",
       "      <td>50</td>\n",
       "      <td>0.0</td>\n",
       "      <td>0</td>\n",
       "      <td>(Weill Cornell Imaging at New York Presbyteria...</td>\n",
       "      <td>The experience was friendly, but the appointme...</td>\n",
       "    </tr>\n",
       "    <tr>\n",
       "      <th>70</th>\n",
       "      <td>Dr. Anuj Shah, MD</td>\n",
       "      <td>Cardiology*</td>\n",
       "      <td>Male</td>\n",
       "      <td>44</td>\n",
       "      <td>4.7</td>\n",
       "      <td>171</td>\n",
       "      <td>(Vascular and Endovascular Surgery At the Moun...</td>\n",
       "      <td>I had a wonderful experience with the staff. V...</td>\n",
       "    </tr>\n",
       "    <tr>\n",
       "      <th>122</th>\n",
       "      <td>Dr. Gustavo Guandalini, MD</td>\n",
       "      <td>Cardiology*</td>\n",
       "      <td>Male</td>\n",
       "      <td>41</td>\n",
       "      <td>5.0</td>\n",
       "      <td>2</td>\n",
       "      <td>(NewYork-Presbyterian Brooklyn Methodist Hospi...</td>\n",
       "      <td>The experience was friendly, but the appointme...</td>\n",
       "    </tr>\n",
       "    <tr>\n",
       "      <th>370</th>\n",
       "      <td>Dr. Arti Shah, MD</td>\n",
       "      <td>No speciality available</td>\n",
       "      <td>Male</td>\n",
       "      <td>42</td>\n",
       "      <td>0.0</td>\n",
       "      <td>0</td>\n",
       "      <td>(Weill Cornell Imaging at NewYork-Presbyterian...</td>\n",
       "      <td>I was not fully satisfied with the treatment; ...</td>\n",
       "    </tr>\n",
       "    <tr>\n",
       "      <th>381</th>\n",
       "      <td>Dr. Claude Simon, MD</td>\n",
       "      <td>Cardiology*</td>\n",
       "      <td>Male</td>\n",
       "      <td>68</td>\n",
       "      <td>0.0</td>\n",
       "      <td>0</td>\n",
       "      <td>(Office3455 Boston RdBronx,NY10469, Office5816...</td>\n",
       "      <td>Although the wait time was long, the overall s...</td>\n",
       "    </tr>\n",
       "    <tr>\n",
       "      <th>423</th>\n",
       "      <td>Dr. Ythan Goldberg, MD</td>\n",
       "      <td>Cardiology*</td>\n",
       "      <td>Male</td>\n",
       "      <td>49</td>\n",
       "      <td>0.0</td>\n",
       "      <td>0</td>\n",
       "      <td>(Northwell Health Physician Partners Cardiolog...</td>\n",
       "      <td>Although the wait time was long, the overall s...</td>\n",
       "    </tr>\n",
       "    <tr>\n",
       "      <th>294</th>\n",
       "      <td>Dr. Demetrios Georgiou, MD</td>\n",
       "      <td>Cardiology*</td>\n",
       "      <td>Male</td>\n",
       "      <td>71</td>\n",
       "      <td>4.0</td>\n",
       "      <td>8</td>\n",
       "      <td>(Newport Medical Associates; Dungo Reddy Leyso...</td>\n",
       "      <td>I had a wonderful experience with the staff. V...</td>\n",
       "    </tr>\n",
       "    <tr>\n",
       "      <th>166</th>\n",
       "      <td>Dr. David Lau, MD</td>\n",
       "      <td>Internal Medicine*</td>\n",
       "      <td>Male</td>\n",
       "      <td>58</td>\n",
       "      <td>5.0</td>\n",
       "      <td>6</td>\n",
       "      <td>(-, Medman Primary Care Medicine PC2035 Lakevi...</td>\n",
       "      <td>The care provided was exceptional and made me ...</td>\n",
       "    </tr>\n",
       "    <tr>\n",
       "      <th>237</th>\n",
       "      <td>Dr. William Cole, MD</td>\n",
       "      <td>Internal Medicine*</td>\n",
       "      <td>Male</td>\n",
       "      <td>68</td>\n",
       "      <td>4.0</td>\n",
       "      <td>29</td>\n",
       "      <td>-</td>\n",
       "      <td>I was not fully satisfied with the treatment; ...</td>\n",
       "    </tr>\n",
       "    <tr>\n",
       "      <th>208</th>\n",
       "      <td>Dr. Eitan Klein, MD</td>\n",
       "      <td>Cardiology*</td>\n",
       "      <td>Male</td>\n",
       "      <td>47</td>\n",
       "      <td>5.0</td>\n",
       "      <td>9</td>\n",
       "      <td>(Niagara Family Medicine Associates PC7300 Por...</td>\n",
       "      <td>Although the wait time was long, the overall s...</td>\n",
       "    </tr>\n",
       "    <tr>\n",
       "      <th>242</th>\n",
       "      <td>Dr. Luciano Del Guzzo, MD</td>\n",
       "      <td>Internal Medicine*</td>\n",
       "      <td>Male</td>\n",
       "      <td>74</td>\n",
       "      <td>4.2</td>\n",
       "      <td>22</td>\n",
       "      <td>(-, Cobble Hill Gynecology FPP186 Joralemon St...</td>\n",
       "      <td>The treatment I received was excellent, and I ...</td>\n",
       "    </tr>\n",
       "    <tr>\n",
       "      <th>16</th>\n",
       "      <td>Dr. Shudhanshu Alishetti, MD</td>\n",
       "      <td>No speciality available</td>\n",
       "      <td>Male</td>\n",
       "      <td>47</td>\n",
       "      <td>0.0</td>\n",
       "      <td>0</td>\n",
       "      <td>(ColumbiaDoctors - Midtown51 W 51st StNew York...</td>\n",
       "      <td>The care provided was exceptional and made me ...</td>\n",
       "    </tr>\n",
       "    <tr>\n",
       "      <th>357</th>\n",
       "      <td>Dr. Edward Bernaski, MD</td>\n",
       "      <td>Cardiology*</td>\n",
       "      <td>Male</td>\n",
       "      <td>65</td>\n",
       "      <td>2.4</td>\n",
       "      <td>17</td>\n",
       "      <td>-</td>\n",
       "      <td>I was not fully satisfied with the treatment; ...</td>\n",
       "    </tr>\n",
       "    <tr>\n",
       "      <th>331</th>\n",
       "      <td>Dr. Edward Gibbons III, MD</td>\n",
       "      <td>Cardiology*</td>\n",
       "      <td>Male</td>\n",
       "      <td>74</td>\n",
       "      <td>3.7</td>\n",
       "      <td>3</td>\n",
       "      <td>(Rothman Orthopaedics-Jersey City, Nj1 Journal...</td>\n",
       "      <td>The experience was friendly, but the appointme...</td>\n",
       "    </tr>\n",
       "  </tbody>\n",
       "</table>\n",
       "</div>"
      ],
      "text/plain": [
       "             Health Provider Name               speciality  Gender  Age  \\\n",
       "54       Dr. Geoffrey Bergman, MD              Cardiology*    Male   58   \n",
       "126           Dr. John Nobile, MD              Cardiology*    Male   72   \n",
       "76         Dr. Gargi Bajpayee, MD              Cardiology*  Female   40   \n",
       "197             Dr. Steve Tam, MD              Cardiology*    Male   68   \n",
       "190           Dr. Martin Post, MD              Cardiology*    Male   81   \n",
       "229   Dr. Frederick Feuerbach, MD              Cardiology*    Male   63   \n",
       "379          Dr. Quynh Truong, MD              Cardiology*  Female   50   \n",
       "70              Dr. Anuj Shah, MD              Cardiology*    Male   44   \n",
       "122    Dr. Gustavo Guandalini, MD              Cardiology*    Male   41   \n",
       "370             Dr. Arti Shah, MD  No speciality available    Male   42   \n",
       "381          Dr. Claude Simon, MD              Cardiology*    Male   68   \n",
       "423        Dr. Ythan Goldberg, MD              Cardiology*    Male   49   \n",
       "294    Dr. Demetrios Georgiou, MD              Cardiology*    Male   71   \n",
       "166             Dr. David Lau, MD       Internal Medicine*    Male   58   \n",
       "237          Dr. William Cole, MD       Internal Medicine*    Male   68   \n",
       "208           Dr. Eitan Klein, MD              Cardiology*    Male   47   \n",
       "242     Dr. Luciano Del Guzzo, MD       Internal Medicine*    Male   74   \n",
       "16   Dr. Shudhanshu Alishetti, MD  No speciality available    Male   47   \n",
       "357       Dr. Edward Bernaski, MD              Cardiology*    Male   65   \n",
       "331    Dr. Edward Gibbons III, MD              Cardiology*    Male   74   \n",
       "\n",
       "     Rating  Number of Reviews  \\\n",
       "54      4.9                116   \n",
       "126     0.0                  0   \n",
       "76      4.7                 34   \n",
       "197     4.0                 10   \n",
       "190     4.7                 20   \n",
       "229     5.0                  6   \n",
       "379     0.0                  0   \n",
       "70      4.7                171   \n",
       "122     5.0                  2   \n",
       "370     0.0                  0   \n",
       "381     0.0                  0   \n",
       "423     0.0                  0   \n",
       "294     4.0                  8   \n",
       "166     5.0                  6   \n",
       "237     4.0                 29   \n",
       "208     5.0                  9   \n",
       "242     4.2                 22   \n",
       "16      0.0                  0   \n",
       "357     2.4                 17   \n",
       "331     3.7                  3   \n",
       "\n",
       "                                              Location  \\\n",
       "54   (Mount Sinai Doctors-West 14TH Street226 W 14T...   \n",
       "126  (Heart Failure & Advanced Cardiac Therapeutics...   \n",
       "76   (Apex Heart an Vascular Care Vein Clinic143 Pa...   \n",
       "197  (GP2 West1190 5th AveNew York,NY10029, Donna C...   \n",
       "190  (Northwell Health Physician Partners Cardiolog...   \n",
       "229  (Nyc Health Hospitals \\ Bellevue462 1st AveNew...   \n",
       "379  (Weill Cornell Imaging at New York Presbyteria...   \n",
       "70   (Vascular and Endovascular Surgery At the Moun...   \n",
       "122  (NewYork-Presbyterian Brooklyn Methodist Hospi...   \n",
       "370  (Weill Cornell Imaging at NewYork-Presbyterian...   \n",
       "381  (Office3455 Boston RdBronx,NY10469, Office5816...   \n",
       "423  (Northwell Health Physician Partners Cardiolog...   \n",
       "294  (Newport Medical Associates; Dungo Reddy Leyso...   \n",
       "166  (-, Medman Primary Care Medicine PC2035 Lakevi...   \n",
       "237                                                  -   \n",
       "208  (Niagara Family Medicine Associates PC7300 Por...   \n",
       "242  (-, Cobble Hill Gynecology FPP186 Joralemon St...   \n",
       "16   (ColumbiaDoctors - Midtown51 W 51st StNew York...   \n",
       "357                                                  -   \n",
       "331  (Rothman Orthopaedics-Jersey City, Nj1 Journal...   \n",
       "\n",
       "                                      Patient Comments  \n",
       "54   The care provided was exceptional and made me ...  \n",
       "126  I was not fully satisfied with the treatment; ...  \n",
       "76   Although the wait time was long, the overall s...  \n",
       "197  I was not fully satisfied with the treatment; ...  \n",
       "190  I was not fully satisfied with the treatment; ...  \n",
       "229  The treatment I received was excellent, and I ...  \n",
       "379  The experience was friendly, but the appointme...  \n",
       "70   I had a wonderful experience with the staff. V...  \n",
       "122  The experience was friendly, but the appointme...  \n",
       "370  I was not fully satisfied with the treatment; ...  \n",
       "381  Although the wait time was long, the overall s...  \n",
       "423  Although the wait time was long, the overall s...  \n",
       "294  I had a wonderful experience with the staff. V...  \n",
       "166  The care provided was exceptional and made me ...  \n",
       "237  I was not fully satisfied with the treatment; ...  \n",
       "208  Although the wait time was long, the overall s...  \n",
       "242  The treatment I received was excellent, and I ...  \n",
       "16   The care provided was exceptional and made me ...  \n",
       "357  I was not fully satisfied with the treatment; ...  \n",
       "331  The experience was friendly, but the appointme...  "
      ]
     },
     "execution_count": 172,
     "metadata": {},
     "output_type": "execute_result"
    }
   ],
   "source": [
    "df.sample(20)"
   ]
  },
  {
   "cell_type": "markdown",
   "id": "914485ff-8763-45c6-8593-2cba04e9e731",
   "metadata": {},
   "source": [
    "<h3 style=\"list-style-type: circle,\"font-family: Times New Roman, serif;\">\n",
    "    <li>Fill null values in the data</li>"
   ]
  },
  {
   "cell_type": "code",
   "execution_count": 173,
   "id": "48b8076a-f90f-44fa-8d58-8c27f3a9a083",
   "metadata": {},
   "outputs": [
    {
     "name": "stderr",
     "output_type": "stream",
     "text": [
      "C:\\Users\\MR.Jadam\\AppData\\Local\\Temp\\ipykernel_126280\\353815245.py:1: FutureWarning:\n",
      "\n",
      "Series.fillna with 'method' is deprecated and will raise in a future version. Use obj.ffill() or obj.bfill() instead.\n",
      "\n",
      "C:\\Users\\MR.Jadam\\AppData\\Local\\Temp\\ipykernel_126280\\353815245.py:2: FutureWarning:\n",
      "\n",
      "Series.fillna with 'method' is deprecated and will raise in a future version. Use obj.ffill() or obj.bfill() instead.\n",
      "\n"
     ]
    }
   ],
   "source": [
    "df['Gender'] = df['Gender'].fillna(method=\"bfill\")\n",
    "df['Age'] = df['Age'].fillna(method=\"bfill\")\n",
    "df['Number of Reviews'] = df['Number of Reviews'].fillna(0)\n",
    "df['Rating'] = df['Rating'].fillna(0)"
   ]
  },
  {
   "cell_type": "markdown",
   "id": "5f1fe27f-aecf-4354-854f-8f78a9980f74",
   "metadata": {},
   "source": [
    "## 3. Exploratory Data Analysis (EDA)"
   ]
  },
  {
   "cell_type": "markdown",
   "id": "84d68017-e72f-49ae-94ec-212a597ba438",
   "metadata": {},
   "source": [
    "<h3 style=\"list-style-type: circle,\"font-family: Times New Roman, serif;\">\n",
    "    <li>Checked null values</li>"
   ]
  },
  {
   "cell_type": "code",
   "execution_count": 174,
   "id": "1015618d-ed94-43ec-bf5d-f88be4694a9e",
   "metadata": {},
   "outputs": [
    {
     "data": {
      "text/plain": [
       "Health Provider Name    0\n",
       "speciality              0\n",
       "Gender                  0\n",
       "Age                     0\n",
       "Rating                  0\n",
       "Number of Reviews       0\n",
       "Location                0\n",
       "Patient Comments        0\n",
       "dtype: int64"
      ]
     },
     "execution_count": 174,
     "metadata": {},
     "output_type": "execute_result"
    }
   ],
   "source": [
    "df.isnull().sum()"
   ]
  },
  {
   "cell_type": "markdown",
   "id": "259f1f83-bbdc-4847-b672-b3bf6a61f429",
   "metadata": {},
   "source": [
    "<h3 style=\"list-style-type: circle,\"font-family: Times New Roman, serif;\">\n",
    "    <li>Checked data information</li>"
   ]
  },
  {
   "cell_type": "code",
   "execution_count": 175,
   "id": "252356b9-53f6-4e14-b972-f857c44c4e38",
   "metadata": {},
   "outputs": [
    {
     "name": "stdout",
     "output_type": "stream",
     "text": [
      "<class 'pandas.core.frame.DataFrame'>\n",
      "RangeIndex: 444 entries, 0 to 443\n",
      "Data columns (total 8 columns):\n",
      " #   Column                Non-Null Count  Dtype  \n",
      "---  ------                --------------  -----  \n",
      " 0   Health Provider Name  444 non-null    object \n",
      " 1   speciality            444 non-null    object \n",
      " 2   Gender                444 non-null    object \n",
      " 3   Age                   444 non-null    int32  \n",
      " 4   Rating                444 non-null    float64\n",
      " 5   Number of Reviews     444 non-null    int32  \n",
      " 6   Location              444 non-null    object \n",
      " 7   Patient Comments      444 non-null    object \n",
      "dtypes: float64(1), int32(2), object(5)\n",
      "memory usage: 24.4+ KB\n"
     ]
    }
   ],
   "source": [
    "df.info()"
   ]
  },
  {
   "cell_type": "markdown",
   "id": "b1f6a719-20aa-4524-b20e-d33acc035ec5",
   "metadata": {},
   "source": [
    "<h3 style=\"list-style-type: circle,\"font-family: Times New Roman, serif;\">\n",
    "    <li>Descriptive analysis of data</li>"
   ]
  },
  {
   "cell_type": "code",
   "execution_count": 195,
   "id": "31ea7c5c-0adb-4d95-b3e0-66683c5a9993",
   "metadata": {},
   "outputs": [
    {
     "data": {
      "text/html": [
       "<div>\n",
       "<style scoped>\n",
       "    .dataframe tbody tr th:only-of-type {\n",
       "        vertical-align: middle;\n",
       "    }\n",
       "\n",
       "    .dataframe tbody tr th {\n",
       "        vertical-align: top;\n",
       "    }\n",
       "\n",
       "    .dataframe thead th {\n",
       "        text-align: right;\n",
       "    }\n",
       "</style>\n",
       "<table border=\"1\" class=\"dataframe\">\n",
       "  <thead>\n",
       "    <tr style=\"text-align: right;\">\n",
       "      <th></th>\n",
       "      <th>Age</th>\n",
       "      <th>Rating</th>\n",
       "      <th>Number of Reviews</th>\n",
       "      <th>Polarity</th>\n",
       "      <th>Subjectivity</th>\n",
       "    </tr>\n",
       "  </thead>\n",
       "  <tbody>\n",
       "    <tr>\n",
       "      <th>count</th>\n",
       "      <td>444.000000</td>\n",
       "      <td>444.00000</td>\n",
       "      <td>444.000000</td>\n",
       "      <td>444.000000</td>\n",
       "      <td>444.000000</td>\n",
       "    </tr>\n",
       "    <tr>\n",
       "      <th>mean</th>\n",
       "      <td>55.867117</td>\n",
       "      <td>3.43536</td>\n",
       "      <td>16.029279</td>\n",
       "      <td>0.395501</td>\n",
       "      <td>0.589227</td>\n",
       "    </tr>\n",
       "    <tr>\n",
       "      <th>std</th>\n",
       "      <td>12.663126</td>\n",
       "      <td>1.88025</td>\n",
       "      <td>38.512483</td>\n",
       "      <td>0.306023</td>\n",
       "      <td>0.303406</td>\n",
       "    </tr>\n",
       "    <tr>\n",
       "      <th>min</th>\n",
       "      <td>24.000000</td>\n",
       "      <td>0.00000</td>\n",
       "      <td>0.000000</td>\n",
       "      <td>0.037500</td>\n",
       "      <td>0.100000</td>\n",
       "    </tr>\n",
       "    <tr>\n",
       "      <th>25%</th>\n",
       "      <td>46.000000</td>\n",
       "      <td>3.00000</td>\n",
       "      <td>2.000000</td>\n",
       "      <td>0.100000</td>\n",
       "      <td>0.333333</td>\n",
       "    </tr>\n",
       "    <tr>\n",
       "      <th>50%</th>\n",
       "      <td>54.000000</td>\n",
       "      <td>4.30000</td>\n",
       "      <td>8.000000</td>\n",
       "      <td>0.433333</td>\n",
       "      <td>0.550000</td>\n",
       "    </tr>\n",
       "    <tr>\n",
       "      <th>75%</th>\n",
       "      <td>67.000000</td>\n",
       "      <td>4.80000</td>\n",
       "      <td>16.000000</td>\n",
       "      <td>0.593333</td>\n",
       "      <td>1.000000</td>\n",
       "    </tr>\n",
       "    <tr>\n",
       "      <th>max</th>\n",
       "      <td>90.000000</td>\n",
       "      <td>5.00000</td>\n",
       "      <td>470.000000</td>\n",
       "      <td>1.000000</td>\n",
       "      <td>1.000000</td>\n",
       "    </tr>\n",
       "  </tbody>\n",
       "</table>\n",
       "</div>"
      ],
      "text/plain": [
       "              Age     Rating  Number of Reviews    Polarity  Subjectivity\n",
       "count  444.000000  444.00000         444.000000  444.000000    444.000000\n",
       "mean    55.867117    3.43536          16.029279    0.395501      0.589227\n",
       "std     12.663126    1.88025          38.512483    0.306023      0.303406\n",
       "min     24.000000    0.00000           0.000000    0.037500      0.100000\n",
       "25%     46.000000    3.00000           2.000000    0.100000      0.333333\n",
       "50%     54.000000    4.30000           8.000000    0.433333      0.550000\n",
       "75%     67.000000    4.80000          16.000000    0.593333      1.000000\n",
       "max     90.000000    5.00000         470.000000    1.000000      1.000000"
      ]
     },
     "execution_count": 195,
     "metadata": {},
     "output_type": "execute_result"
    }
   ],
   "source": [
    "df.describe()"
   ]
  },
  {
   "cell_type": "markdown",
   "id": "2d953742-52ab-4b7a-9241-c47731591264",
   "metadata": {},
   "source": [
    "<h3 style=\"list-style-type: circle,\"font-family: Times New Roman, serif;\">\n",
    "    <li>Changing datatype of some columns</li>"
   ]
  },
  {
   "cell_type": "code",
   "execution_count": 176,
   "id": "ee7dc63c-c500-42fe-ac80-489bcd039f41",
   "metadata": {},
   "outputs": [],
   "source": [
    "# Convert 'Number of Reviews' to float\n",
    "df['Rating'] = df['Rating'].astype(float)\n",
    "\n",
    "# Convert 'Number of Reviews' to integer\n",
    "df['Number of Reviews'] = df['Number of Reviews'].astype(int)\n",
    "df['Age'] = df['Age'].astype(int)"
   ]
  },
  {
   "cell_type": "code",
   "execution_count": 177,
   "id": "86fd091f-dff9-46e8-aa45-23c72e268345",
   "metadata": {},
   "outputs": [
    {
     "name": "stdout",
     "output_type": "stream",
     "text": [
      "<class 'pandas.core.frame.DataFrame'>\n",
      "RangeIndex: 444 entries, 0 to 443\n",
      "Data columns (total 8 columns):\n",
      " #   Column                Non-Null Count  Dtype  \n",
      "---  ------                --------------  -----  \n",
      " 0   Health Provider Name  444 non-null    object \n",
      " 1   speciality            444 non-null    object \n",
      " 2   Gender                444 non-null    object \n",
      " 3   Age                   444 non-null    int32  \n",
      " 4   Rating                444 non-null    float64\n",
      " 5   Number of Reviews     444 non-null    int32  \n",
      " 6   Location              444 non-null    object \n",
      " 7   Patient Comments      444 non-null    object \n",
      "dtypes: float64(1), int32(2), object(5)\n",
      "memory usage: 24.4+ KB\n"
     ]
    }
   ],
   "source": [
    "df.info()"
   ]
  },
  {
   "cell_type": "markdown",
   "id": "8df36e48-c1d4-4522-90a9-33562cae4ad7",
   "metadata": {},
   "source": [
    "<h3 style=\"list-style-type: circle,\"font-family: Times New Roman, serif;\">\n",
    "    <li>Check values count</li>"
   ]
  },
  {
   "cell_type": "code",
   "execution_count": 178,
   "id": "a344a834-000d-46cf-a628-4def6ee811e9",
   "metadata": {},
   "outputs": [
    {
     "data": {
      "text/plain": [
       "speciality\n",
       "Cardiology*                   382\n",
       "Internal Medicine*             24\n",
       "Interventional Cardiology*     22\n",
       "No speciality available        14\n",
       "Pediatric Cardiology*           1\n",
       "Ear, Nose, and Throat*          1\n",
       "Name: count, dtype: int64"
      ]
     },
     "execution_count": 178,
     "metadata": {},
     "output_type": "execute_result"
    }
   ],
   "source": [
    "df['speciality'].value_counts()"
   ]
  },
  {
   "cell_type": "code",
   "execution_count": 179,
   "id": "5073ebfb-1144-44e1-aeda-ffd2f0558007",
   "metadata": {},
   "outputs": [],
   "source": [
    "Total_reviews = pd.pivot_table(df, values='Number of Reviews', columns='speciality', aggfunc='sum', fill_value=0)"
   ]
  },
  {
   "cell_type": "markdown",
   "id": "e18539b0-e33e-4177-85b2-a520eb6a00eb",
   "metadata": {},
   "source": [
    "## 4. Visualization"
   ]
  },
  {
   "cell_type": "markdown",
   "id": "d8e730a2-b99b-45d7-ba1c-82682ea76ffd",
   "metadata": {},
   "source": [
    "<h3 style=\"list-style-type: circle,\"font-family: Times New Roman, serif;\">\n",
    "    <li>Visualize data Total Reviews by Speciality</li>"
   ]
  },
  {
   "cell_type": "code",
   "execution_count": 198,
   "id": "4611dc1b-d03e-4fb9-b27a-df3b325b94ae",
   "metadata": {},
   "outputs": [
    {
     "data": {
      "application/vnd.plotly.v1+json": {
       "config": {
        "plotlyServerURL": "https://plot.ly"
       },
       "data": [
        {
         "domain": {
          "x": [
           0,
           1
          ],
          "y": [
           0,
           1
          ]
         },
         "hovertemplate": "speciality=%{label}<br>Number of Reviews=%{value}<extra></extra>",
         "labels": [
          "Cardiology*",
          "Cardiology*",
          "Cardiology*",
          "Cardiology*",
          "Cardiology*",
          "Cardiology*",
          "Interventional Cardiology*",
          "Interventional Cardiology*",
          "Interventional Cardiology*",
          "Cardiology*",
          "Interventional Cardiology*",
          "Cardiology*",
          "Cardiology*",
          "Cardiology*",
          "Cardiology*",
          "Cardiology*",
          "No speciality available",
          "Cardiology*",
          "Cardiology*",
          "Cardiology*",
          "Cardiology*",
          "Interventional Cardiology*",
          "Cardiology*",
          "Interventional Cardiology*",
          "Cardiology*",
          "Cardiology*",
          "Internal Medicine*",
          "Cardiology*",
          "Cardiology*",
          "Cardiology*",
          "Cardiology*",
          "Cardiology*",
          "No speciality available",
          "Cardiology*",
          "Cardiology*",
          "Cardiology*",
          "Cardiology*",
          "Cardiology*",
          "Cardiology*",
          "Cardiology*",
          "Cardiology*",
          "Interventional Cardiology*",
          "Cardiology*",
          "Cardiology*",
          "Cardiology*",
          "Cardiology*",
          "Cardiology*",
          "Cardiology*",
          "Cardiology*",
          "Cardiology*",
          "Cardiology*",
          "Internal Medicine*",
          "Cardiology*",
          "Cardiology*",
          "Cardiology*",
          "Cardiology*",
          "Cardiology*",
          "Cardiology*",
          "Cardiology*",
          "Internal Medicine*",
          "Cardiology*",
          "Cardiology*",
          "Cardiology*",
          "Cardiology*",
          "Cardiology*",
          "Cardiology*",
          "Cardiology*",
          "Cardiology*",
          "Pediatric Cardiology*",
          "Internal Medicine*",
          "Cardiology*",
          "Cardiology*",
          "Cardiology*",
          "Cardiology*",
          "Cardiology*",
          "Cardiology*",
          "Cardiology*",
          "Cardiology*",
          "Cardiology*",
          "Cardiology*",
          "Cardiology*",
          "Cardiology*",
          "Cardiology*",
          "Cardiology*",
          "Cardiology*",
          "Cardiology*",
          "Interventional Cardiology*",
          "Cardiology*",
          "Cardiology*",
          "Cardiology*",
          "Cardiology*",
          "Cardiology*",
          "Cardiology*",
          "Interventional Cardiology*",
          "Cardiology*",
          "Cardiology*",
          "Cardiology*",
          "Cardiology*",
          "Cardiology*",
          "Cardiology*",
          "Cardiology*",
          "Cardiology*",
          "Cardiology*",
          "No speciality available",
          "Cardiology*",
          "Cardiology*",
          "Internal Medicine*",
          "Cardiology*",
          "Cardiology*",
          "Cardiology*",
          "Cardiology*",
          "Cardiology*",
          "Cardiology*",
          "Cardiology*",
          "Cardiology*",
          "Cardiology*",
          "Cardiology*",
          "Cardiology*",
          "Cardiology*",
          "Cardiology*",
          "Cardiology*",
          "Cardiology*",
          "Cardiology*",
          "Cardiology*",
          "Cardiology*",
          "Internal Medicine*",
          "Cardiology*",
          "Cardiology*",
          "Cardiology*",
          "Cardiology*",
          "Cardiology*",
          "Cardiology*",
          "Cardiology*",
          "Cardiology*",
          "Cardiology*",
          "Cardiology*",
          "Cardiology*",
          "Cardiology*",
          "Cardiology*",
          "Cardiology*",
          "Cardiology*",
          "Cardiology*",
          "Cardiology*",
          "Cardiology*",
          "Cardiology*",
          "No speciality available",
          "Cardiology*",
          "Cardiology*",
          "Cardiology*",
          "Cardiology*",
          "Cardiology*",
          "Cardiology*",
          "Cardiology*",
          "Cardiology*",
          "Cardiology*",
          "Cardiology*",
          "Cardiology*",
          "Cardiology*",
          "Internal Medicine*",
          "Cardiology*",
          "Internal Medicine*",
          "Cardiology*",
          "Cardiology*",
          "Internal Medicine*",
          "Cardiology*",
          "Cardiology*",
          "Internal Medicine*",
          "Cardiology*",
          "Cardiology*",
          "Cardiology*",
          "Cardiology*",
          "No speciality available",
          "No speciality available",
          "Cardiology*",
          "Interventional Cardiology*",
          "Cardiology*",
          "Cardiology*",
          "Cardiology*",
          "Cardiology*",
          "Cardiology*",
          "Cardiology*",
          "Cardiology*",
          "Cardiology*",
          "Interventional Cardiology*",
          "Cardiology*",
          "Cardiology*",
          "Cardiology*",
          "Cardiology*",
          "Cardiology*",
          "Cardiology*",
          "Cardiology*",
          "Cardiology*",
          "Cardiology*",
          "Cardiology*",
          "Cardiology*",
          "Cardiology*",
          "Cardiology*",
          "Cardiology*",
          "Cardiology*",
          "Cardiology*",
          "Cardiology*",
          "Internal Medicine*",
          "Cardiology*",
          "Cardiology*",
          "Cardiology*",
          "Cardiology*",
          "Cardiology*",
          "Internal Medicine*",
          "Cardiology*",
          "Cardiology*",
          "Cardiology*",
          "Cardiology*",
          "Cardiology*",
          "Interventional Cardiology*",
          "Interventional Cardiology*",
          "Cardiology*",
          "Cardiology*",
          "Cardiology*",
          "Cardiology*",
          "Cardiology*",
          "Cardiology*",
          "Cardiology*",
          "Cardiology*",
          "Cardiology*",
          "Cardiology*",
          "Cardiology*",
          "Cardiology*",
          "Cardiology*",
          "Cardiology*",
          "Cardiology*",
          "Cardiology*",
          "Cardiology*",
          "Cardiology*",
          "Interventional Cardiology*",
          "Cardiology*",
          "Cardiology*",
          "Cardiology*",
          "Internal Medicine*",
          "Cardiology*",
          "Cardiology*",
          "Interventional Cardiology*",
          "Cardiology*",
          "Internal Medicine*",
          "No speciality available",
          "Cardiology*",
          "Cardiology*",
          "Cardiology*",
          "Cardiology*",
          "Cardiology*",
          "Cardiology*",
          "Cardiology*",
          "Cardiology*",
          "Cardiology*",
          "Cardiology*",
          "Cardiology*",
          "Cardiology*",
          "Cardiology*",
          "Internal Medicine*",
          "Cardiology*",
          "Internal Medicine*",
          "Cardiology*",
          "Interventional Cardiology*",
          "Interventional Cardiology*",
          "Cardiology*",
          "Internal Medicine*",
          "Cardiology*",
          "Cardiology*",
          "Cardiology*",
          "Cardiology*",
          "Cardiology*",
          "Cardiology*",
          "Cardiology*",
          "Cardiology*",
          "Cardiology*",
          "Cardiology*",
          "Cardiology*",
          "Cardiology*",
          "Cardiology*",
          "Cardiology*",
          "Cardiology*",
          "Cardiology*",
          "Internal Medicine*",
          "Cardiology*",
          "Cardiology*",
          "Internal Medicine*",
          "Cardiology*",
          "Cardiology*",
          "Cardiology*",
          "Cardiology*",
          "Cardiology*",
          "Cardiology*",
          "Cardiology*",
          "Cardiology*",
          "Interventional Cardiology*",
          "Cardiology*",
          "Cardiology*",
          "Cardiology*",
          "Cardiology*",
          "Cardiology*",
          "Cardiology*",
          "Cardiology*",
          "Cardiology*",
          "Cardiology*",
          "No speciality available",
          "Cardiology*",
          "Cardiology*",
          "Cardiology*",
          "Cardiology*",
          "Cardiology*",
          "Cardiology*",
          "Cardiology*",
          "Cardiology*",
          "Cardiology*",
          "Cardiology*",
          "Cardiology*",
          "Cardiology*",
          "Cardiology*",
          "Cardiology*",
          "Cardiology*",
          "Cardiology*",
          "Cardiology*",
          "Cardiology*",
          "Cardiology*",
          "Cardiology*",
          "Cardiology*",
          "Cardiology*",
          "Cardiology*",
          "Cardiology*",
          "Cardiology*",
          "Interventional Cardiology*",
          "Cardiology*",
          "Cardiology*",
          "Cardiology*",
          "Cardiology*",
          "Cardiology*",
          "Internal Medicine*",
          "Interventional Cardiology*",
          "Cardiology*",
          "Cardiology*",
          "Cardiology*",
          "Internal Medicine*",
          "Cardiology*",
          "Cardiology*",
          "Cardiology*",
          "Cardiology*",
          "Cardiology*",
          "Cardiology*",
          "Internal Medicine*",
          "No speciality available",
          "Cardiology*",
          "Cardiology*",
          "Cardiology*",
          "Cardiology*",
          "Cardiology*",
          "Cardiology*",
          "Cardiology*",
          "Ear, Nose, and Throat*",
          "Cardiology*",
          "Cardiology*",
          "Cardiology*",
          "Cardiology*",
          "Cardiology*",
          "No speciality available",
          "Internal Medicine*",
          "Cardiology*",
          "Cardiology*",
          "Cardiology*",
          "Internal Medicine*",
          "Cardiology*",
          "Cardiology*",
          "No speciality available",
          "Cardiology*",
          "Cardiology*",
          "No speciality available",
          "Cardiology*",
          "Cardiology*",
          "Cardiology*",
          "Cardiology*",
          "Cardiology*",
          "Cardiology*",
          "Cardiology*",
          "Cardiology*",
          "Cardiology*",
          "Interventional Cardiology*",
          "Cardiology*",
          "Cardiology*",
          "Cardiology*",
          "Cardiology*",
          "Cardiology*",
          "Cardiology*",
          "Cardiology*",
          "Cardiology*",
          "Cardiology*",
          "Cardiology*",
          "Cardiology*",
          "Cardiology*",
          "Cardiology*",
          "Cardiology*",
          "Cardiology*",
          "Cardiology*",
          "Cardiology*",
          "Cardiology*",
          "Cardiology*",
          "Cardiology*",
          "Cardiology*",
          "Cardiology*",
          "Cardiology*",
          "Cardiology*",
          "Cardiology*",
          "Cardiology*",
          "Cardiology*",
          "Cardiology*",
          "Cardiology*",
          "Cardiology*",
          "Cardiology*",
          "Cardiology*",
          "Cardiology*",
          "Cardiology*",
          "No speciality available",
          "Cardiology*",
          "Cardiology*",
          "Cardiology*",
          "Cardiology*",
          "Cardiology*",
          "Cardiology*",
          "Cardiology*",
          "Cardiology*",
          "Interventional Cardiology*",
          "Cardiology*",
          "Cardiology*",
          "Cardiology*",
          "Cardiology*",
          "Cardiology*",
          "Cardiology*",
          "Cardiology*",
          "Cardiology*",
          "No speciality available",
          "Cardiology*",
          "Cardiology*",
          "Cardiology*",
          "Cardiology*",
          "Cardiology*",
          "Cardiology*",
          "Cardiology*"
         ],
         "legendgroup": "",
         "name": "",
         "showlegend": true,
         "type": "pie",
         "values": [
          10,
          18,
          12,
          15,
          21,
          23,
          11,
          28,
          4,
          32,
          0,
          21,
          0,
          5,
          3,
          14,
          0,
          9,
          0,
          7,
          10,
          2,
          138,
          12,
          470,
          30,
          31,
          80,
          30,
          19,
          112,
          11,
          13,
          27,
          19,
          9,
          7,
          32,
          11,
          15,
          29,
          4,
          28,
          59,
          17,
          35,
          59,
          5,
          31,
          63,
          80,
          328,
          17,
          0,
          116,
          27,
          19,
          37,
          25,
          343,
          11,
          44,
          14,
          36,
          27,
          33,
          14,
          15,
          4,
          13,
          171,
          59,
          57,
          48,
          30,
          38,
          34,
          86,
          45,
          74,
          43,
          20,
          148,
          43,
          59,
          32,
          30,
          21,
          12,
          19,
          19,
          12,
          16,
          49,
          88,
          21,
          19,
          19,
          11,
          12,
          11,
          42,
          18,
          22,
          29,
          9,
          11,
          0,
          16,
          41,
          3,
          17,
          19,
          14,
          4,
          6,
          0,
          0,
          2,
          0,
          3,
          3,
          2,
          9,
          12,
          4,
          0,
          4,
          0,
          2,
          7,
          2,
          16,
          17,
          0,
          4,
          0,
          6,
          7,
          4,
          6,
          0,
          2,
          0,
          3,
          4,
          2,
          0,
          3,
          2,
          2,
          0,
          8,
          2,
          0,
          0,
          9,
          3,
          29,
          16,
          14,
          11,
          7,
          13,
          15,
          2,
          6,
          4,
          0,
          2,
          15,
          6,
          3,
          2,
          5,
          0,
          9,
          3,
          5,
          4,
          3,
          22,
          9,
          19,
          12,
          8,
          9,
          9,
          11,
          38,
          20,
          15,
          15,
          6,
          15,
          24,
          11,
          10,
          24,
          20,
          4,
          7,
          3,
          2,
          19,
          19,
          10,
          7,
          9,
          3,
          6,
          7,
          2,
          293,
          5,
          4,
          5,
          0,
          12,
          11,
          4,
          13,
          25,
          0,
          9,
          10,
          22,
          12,
          9,
          6,
          12,
          14,
          15,
          6,
          8,
          13,
          47,
          29,
          27,
          41,
          20,
          12,
          22,
          11,
          15,
          14,
          5,
          6,
          0,
          8,
          9,
          0,
          8,
          23,
          0,
          12,
          4,
          6,
          0,
          26,
          0,
          0,
          5,
          6,
          10,
          10,
          9,
          4,
          5,
          5,
          5,
          19,
          12,
          0,
          12,
          13,
          7,
          9,
          18,
          9,
          6,
          9,
          6,
          5,
          23,
          15,
          4,
          9,
          27,
          4,
          3,
          3,
          4,
          4,
          8,
          11,
          11,
          6,
          2,
          13,
          23,
          7,
          9,
          9,
          8,
          38,
          5,
          8,
          12,
          27,
          12,
          7,
          10,
          21,
          6,
          11,
          3,
          12,
          3,
          3,
          6,
          16,
          3,
          6,
          36,
          10,
          16,
          28,
          18,
          4,
          4,
          3,
          10,
          5,
          5,
          17,
          3,
          3,
          6,
          4,
          7,
          4,
          4,
          3,
          7,
          9,
          7,
          5,
          9,
          2,
          4,
          15,
          4,
          6,
          8,
          8,
          9,
          17,
          5,
          8,
          2,
          8,
          3,
          9,
          8,
          2,
          0,
          2,
          0,
          0,
          0,
          0,
          0,
          0,
          0,
          0,
          6,
          0,
          0,
          0,
          0,
          0,
          0,
          0,
          0,
          0,
          0,
          0,
          0,
          0,
          0,
          0,
          0,
          0,
          0,
          0,
          0,
          0,
          0,
          0,
          0,
          0,
          0,
          0,
          0,
          0,
          0,
          0,
          0,
          0,
          0,
          0,
          0,
          0,
          0,
          0,
          0,
          0,
          0,
          0,
          0,
          0,
          0,
          0,
          0,
          0,
          0,
          22,
          0,
          14,
          0,
          20,
          4,
          10,
          21,
          22,
          6,
          17,
          4,
          0,
          8,
          2,
          0,
          5
         ]
        }
       ],
       "layout": {
        "height": 600,
        "legend": {
         "tracegroupgap": 0
        },
        "template": {
         "data": {
          "bar": [
           {
            "error_x": {
             "color": "#2a3f5f"
            },
            "error_y": {
             "color": "#2a3f5f"
            },
            "marker": {
             "line": {
              "color": "#E5ECF6",
              "width": 0.5
             },
             "pattern": {
              "fillmode": "overlay",
              "size": 10,
              "solidity": 0.2
             }
            },
            "type": "bar"
           }
          ],
          "barpolar": [
           {
            "marker": {
             "line": {
              "color": "#E5ECF6",
              "width": 0.5
             },
             "pattern": {
              "fillmode": "overlay",
              "size": 10,
              "solidity": 0.2
             }
            },
            "type": "barpolar"
           }
          ],
          "carpet": [
           {
            "aaxis": {
             "endlinecolor": "#2a3f5f",
             "gridcolor": "white",
             "linecolor": "white",
             "minorgridcolor": "white",
             "startlinecolor": "#2a3f5f"
            },
            "baxis": {
             "endlinecolor": "#2a3f5f",
             "gridcolor": "white",
             "linecolor": "white",
             "minorgridcolor": "white",
             "startlinecolor": "#2a3f5f"
            },
            "type": "carpet"
           }
          ],
          "choropleth": [
           {
            "colorbar": {
             "outlinewidth": 0,
             "ticks": ""
            },
            "type": "choropleth"
           }
          ],
          "contour": [
           {
            "colorbar": {
             "outlinewidth": 0,
             "ticks": ""
            },
            "colorscale": [
             [
              0,
              "#0d0887"
             ],
             [
              0.1111111111111111,
              "#46039f"
             ],
             [
              0.2222222222222222,
              "#7201a8"
             ],
             [
              0.3333333333333333,
              "#9c179e"
             ],
             [
              0.4444444444444444,
              "#bd3786"
             ],
             [
              0.5555555555555556,
              "#d8576b"
             ],
             [
              0.6666666666666666,
              "#ed7953"
             ],
             [
              0.7777777777777778,
              "#fb9f3a"
             ],
             [
              0.8888888888888888,
              "#fdca26"
             ],
             [
              1,
              "#f0f921"
             ]
            ],
            "type": "contour"
           }
          ],
          "contourcarpet": [
           {
            "colorbar": {
             "outlinewidth": 0,
             "ticks": ""
            },
            "type": "contourcarpet"
           }
          ],
          "heatmap": [
           {
            "colorbar": {
             "outlinewidth": 0,
             "ticks": ""
            },
            "colorscale": [
             [
              0,
              "#0d0887"
             ],
             [
              0.1111111111111111,
              "#46039f"
             ],
             [
              0.2222222222222222,
              "#7201a8"
             ],
             [
              0.3333333333333333,
              "#9c179e"
             ],
             [
              0.4444444444444444,
              "#bd3786"
             ],
             [
              0.5555555555555556,
              "#d8576b"
             ],
             [
              0.6666666666666666,
              "#ed7953"
             ],
             [
              0.7777777777777778,
              "#fb9f3a"
             ],
             [
              0.8888888888888888,
              "#fdca26"
             ],
             [
              1,
              "#f0f921"
             ]
            ],
            "type": "heatmap"
           }
          ],
          "heatmapgl": [
           {
            "colorbar": {
             "outlinewidth": 0,
             "ticks": ""
            },
            "colorscale": [
             [
              0,
              "#0d0887"
             ],
             [
              0.1111111111111111,
              "#46039f"
             ],
             [
              0.2222222222222222,
              "#7201a8"
             ],
             [
              0.3333333333333333,
              "#9c179e"
             ],
             [
              0.4444444444444444,
              "#bd3786"
             ],
             [
              0.5555555555555556,
              "#d8576b"
             ],
             [
              0.6666666666666666,
              "#ed7953"
             ],
             [
              0.7777777777777778,
              "#fb9f3a"
             ],
             [
              0.8888888888888888,
              "#fdca26"
             ],
             [
              1,
              "#f0f921"
             ]
            ],
            "type": "heatmapgl"
           }
          ],
          "histogram": [
           {
            "marker": {
             "pattern": {
              "fillmode": "overlay",
              "size": 10,
              "solidity": 0.2
             }
            },
            "type": "histogram"
           }
          ],
          "histogram2d": [
           {
            "colorbar": {
             "outlinewidth": 0,
             "ticks": ""
            },
            "colorscale": [
             [
              0,
              "#0d0887"
             ],
             [
              0.1111111111111111,
              "#46039f"
             ],
             [
              0.2222222222222222,
              "#7201a8"
             ],
             [
              0.3333333333333333,
              "#9c179e"
             ],
             [
              0.4444444444444444,
              "#bd3786"
             ],
             [
              0.5555555555555556,
              "#d8576b"
             ],
             [
              0.6666666666666666,
              "#ed7953"
             ],
             [
              0.7777777777777778,
              "#fb9f3a"
             ],
             [
              0.8888888888888888,
              "#fdca26"
             ],
             [
              1,
              "#f0f921"
             ]
            ],
            "type": "histogram2d"
           }
          ],
          "histogram2dcontour": [
           {
            "colorbar": {
             "outlinewidth": 0,
             "ticks": ""
            },
            "colorscale": [
             [
              0,
              "#0d0887"
             ],
             [
              0.1111111111111111,
              "#46039f"
             ],
             [
              0.2222222222222222,
              "#7201a8"
             ],
             [
              0.3333333333333333,
              "#9c179e"
             ],
             [
              0.4444444444444444,
              "#bd3786"
             ],
             [
              0.5555555555555556,
              "#d8576b"
             ],
             [
              0.6666666666666666,
              "#ed7953"
             ],
             [
              0.7777777777777778,
              "#fb9f3a"
             ],
             [
              0.8888888888888888,
              "#fdca26"
             ],
             [
              1,
              "#f0f921"
             ]
            ],
            "type": "histogram2dcontour"
           }
          ],
          "mesh3d": [
           {
            "colorbar": {
             "outlinewidth": 0,
             "ticks": ""
            },
            "type": "mesh3d"
           }
          ],
          "parcoords": [
           {
            "line": {
             "colorbar": {
              "outlinewidth": 0,
              "ticks": ""
             }
            },
            "type": "parcoords"
           }
          ],
          "pie": [
           {
            "automargin": true,
            "type": "pie"
           }
          ],
          "scatter": [
           {
            "fillpattern": {
             "fillmode": "overlay",
             "size": 10,
             "solidity": 0.2
            },
            "type": "scatter"
           }
          ],
          "scatter3d": [
           {
            "line": {
             "colorbar": {
              "outlinewidth": 0,
              "ticks": ""
             }
            },
            "marker": {
             "colorbar": {
              "outlinewidth": 0,
              "ticks": ""
             }
            },
            "type": "scatter3d"
           }
          ],
          "scattercarpet": [
           {
            "marker": {
             "colorbar": {
              "outlinewidth": 0,
              "ticks": ""
             }
            },
            "type": "scattercarpet"
           }
          ],
          "scattergeo": [
           {
            "marker": {
             "colorbar": {
              "outlinewidth": 0,
              "ticks": ""
             }
            },
            "type": "scattergeo"
           }
          ],
          "scattergl": [
           {
            "marker": {
             "colorbar": {
              "outlinewidth": 0,
              "ticks": ""
             }
            },
            "type": "scattergl"
           }
          ],
          "scattermapbox": [
           {
            "marker": {
             "colorbar": {
              "outlinewidth": 0,
              "ticks": ""
             }
            },
            "type": "scattermapbox"
           }
          ],
          "scatterpolar": [
           {
            "marker": {
             "colorbar": {
              "outlinewidth": 0,
              "ticks": ""
             }
            },
            "type": "scatterpolar"
           }
          ],
          "scatterpolargl": [
           {
            "marker": {
             "colorbar": {
              "outlinewidth": 0,
              "ticks": ""
             }
            },
            "type": "scatterpolargl"
           }
          ],
          "scatterternary": [
           {
            "marker": {
             "colorbar": {
              "outlinewidth": 0,
              "ticks": ""
             }
            },
            "type": "scatterternary"
           }
          ],
          "surface": [
           {
            "colorbar": {
             "outlinewidth": 0,
             "ticks": ""
            },
            "colorscale": [
             [
              0,
              "#0d0887"
             ],
             [
              0.1111111111111111,
              "#46039f"
             ],
             [
              0.2222222222222222,
              "#7201a8"
             ],
             [
              0.3333333333333333,
              "#9c179e"
             ],
             [
              0.4444444444444444,
              "#bd3786"
             ],
             [
              0.5555555555555556,
              "#d8576b"
             ],
             [
              0.6666666666666666,
              "#ed7953"
             ],
             [
              0.7777777777777778,
              "#fb9f3a"
             ],
             [
              0.8888888888888888,
              "#fdca26"
             ],
             [
              1,
              "#f0f921"
             ]
            ],
            "type": "surface"
           }
          ],
          "table": [
           {
            "cells": {
             "fill": {
              "color": "#EBF0F8"
             },
             "line": {
              "color": "white"
             }
            },
            "header": {
             "fill": {
              "color": "#C8D4E3"
             },
             "line": {
              "color": "white"
             }
            },
            "type": "table"
           }
          ]
         },
         "layout": {
          "annotationdefaults": {
           "arrowcolor": "#2a3f5f",
           "arrowhead": 0,
           "arrowwidth": 1
          },
          "autotypenumbers": "strict",
          "coloraxis": {
           "colorbar": {
            "outlinewidth": 0,
            "ticks": ""
           }
          },
          "colorscale": {
           "diverging": [
            [
             0,
             "#8e0152"
            ],
            [
             0.1,
             "#c51b7d"
            ],
            [
             0.2,
             "#de77ae"
            ],
            [
             0.3,
             "#f1b6da"
            ],
            [
             0.4,
             "#fde0ef"
            ],
            [
             0.5,
             "#f7f7f7"
            ],
            [
             0.6,
             "#e6f5d0"
            ],
            [
             0.7,
             "#b8e186"
            ],
            [
             0.8,
             "#7fbc41"
            ],
            [
             0.9,
             "#4d9221"
            ],
            [
             1,
             "#276419"
            ]
           ],
           "sequential": [
            [
             0,
             "#0d0887"
            ],
            [
             0.1111111111111111,
             "#46039f"
            ],
            [
             0.2222222222222222,
             "#7201a8"
            ],
            [
             0.3333333333333333,
             "#9c179e"
            ],
            [
             0.4444444444444444,
             "#bd3786"
            ],
            [
             0.5555555555555556,
             "#d8576b"
            ],
            [
             0.6666666666666666,
             "#ed7953"
            ],
            [
             0.7777777777777778,
             "#fb9f3a"
            ],
            [
             0.8888888888888888,
             "#fdca26"
            ],
            [
             1,
             "#f0f921"
            ]
           ],
           "sequentialminus": [
            [
             0,
             "#0d0887"
            ],
            [
             0.1111111111111111,
             "#46039f"
            ],
            [
             0.2222222222222222,
             "#7201a8"
            ],
            [
             0.3333333333333333,
             "#9c179e"
            ],
            [
             0.4444444444444444,
             "#bd3786"
            ],
            [
             0.5555555555555556,
             "#d8576b"
            ],
            [
             0.6666666666666666,
             "#ed7953"
            ],
            [
             0.7777777777777778,
             "#fb9f3a"
            ],
            [
             0.8888888888888888,
             "#fdca26"
            ],
            [
             1,
             "#f0f921"
            ]
           ]
          },
          "colorway": [
           "#636efa",
           "#EF553B",
           "#00cc96",
           "#ab63fa",
           "#FFA15A",
           "#19d3f3",
           "#FF6692",
           "#B6E880",
           "#FF97FF",
           "#FECB52"
          ],
          "font": {
           "color": "#2a3f5f"
          },
          "geo": {
           "bgcolor": "white",
           "lakecolor": "white",
           "landcolor": "#E5ECF6",
           "showlakes": true,
           "showland": true,
           "subunitcolor": "white"
          },
          "hoverlabel": {
           "align": "left"
          },
          "hovermode": "closest",
          "mapbox": {
           "style": "light"
          },
          "paper_bgcolor": "white",
          "plot_bgcolor": "#E5ECF6",
          "polar": {
           "angularaxis": {
            "gridcolor": "white",
            "linecolor": "white",
            "ticks": ""
           },
           "bgcolor": "#E5ECF6",
           "radialaxis": {
            "gridcolor": "white",
            "linecolor": "white",
            "ticks": ""
           }
          },
          "scene": {
           "xaxis": {
            "backgroundcolor": "#E5ECF6",
            "gridcolor": "white",
            "gridwidth": 2,
            "linecolor": "white",
            "showbackground": true,
            "ticks": "",
            "zerolinecolor": "white"
           },
           "yaxis": {
            "backgroundcolor": "#E5ECF6",
            "gridcolor": "white",
            "gridwidth": 2,
            "linecolor": "white",
            "showbackground": true,
            "ticks": "",
            "zerolinecolor": "white"
           },
           "zaxis": {
            "backgroundcolor": "#E5ECF6",
            "gridcolor": "white",
            "gridwidth": 2,
            "linecolor": "white",
            "showbackground": true,
            "ticks": "",
            "zerolinecolor": "white"
           }
          },
          "shapedefaults": {
           "line": {
            "color": "#2a3f5f"
           }
          },
          "ternary": {
           "aaxis": {
            "gridcolor": "white",
            "linecolor": "white",
            "ticks": ""
           },
           "baxis": {
            "gridcolor": "white",
            "linecolor": "white",
            "ticks": ""
           },
           "bgcolor": "#E5ECF6",
           "caxis": {
            "gridcolor": "white",
            "linecolor": "white",
            "ticks": ""
           }
          },
          "title": {
           "x": 0.05
          },
          "xaxis": {
           "automargin": true,
           "gridcolor": "white",
           "linecolor": "white",
           "ticks": "",
           "title": {
            "standoff": 15
           },
           "zerolinecolor": "white",
           "zerolinewidth": 2
          },
          "yaxis": {
           "automargin": true,
           "gridcolor": "white",
           "linecolor": "white",
           "ticks": "",
           "title": {
            "standoff": 15
           },
           "zerolinecolor": "white",
           "zerolinewidth": 2
          }
         }
        },
        "title": {
         "text": "Total Reviews by Speciality"
        },
        "width": 800
       }
      },
      "image/png": "[encoded data removed]",
      "text/html": [
       "<div>                            <div id=\"407dbb39-fe26-41cd-af74-7bd28dbe668f\" class=\"plotly-graph-div\" style=\"height:600px; width:800px;\"></div>            <script type=\"text/javascript\">                require([\"plotly\"], function(Plotly) {                    window.PLOTLYENV=window.PLOTLYENV || {};                                    if (document.getElementById(\"407dbb39-fe26-41cd-af74-7bd28dbe668f\")) {                    Plotly.newPlot(                        \"407dbb39-fe26-41cd-af74-7bd28dbe668f\",                        [{\"domain\":{\"x\":[0.0,1.0],\"y\":[0.0,1.0]},\"hovertemplate\":\"speciality=%{label}<br>Number of Reviews=%{value}<extra></extra>\",\"labels\":[\"Cardiology*\",\"Cardiology*\",\"Cardiology*\",\"Cardiology*\",\"Cardiology*\",\"Cardiology*\",\"Interventional Cardiology*\",\"Interventional Cardiology*\",\"Interventional Cardiology*\",\"Cardiology*\",\"Interventional Cardiology*\",\"Cardiology*\",\"Cardiology*\",\"Cardiology*\",\"Cardiology*\",\"Cardiology*\",\"No speciality available\",\"Cardiology*\",\"Cardiology*\",\"Cardiology*\",\"Cardiology*\",\"Interventional Cardiology*\",\"Cardiology*\",\"Interventional Cardiology*\",\"Cardiology*\",\"Cardiology*\",\"Internal Medicine*\",\"Cardiology*\",\"Cardiology*\",\"Cardiology*\",\"Cardiology*\",\"Cardiology*\",\"No speciality available\",\"Cardiology*\",\"Cardiology*\",\"Cardiology*\",\"Cardiology*\",\"Cardiology*\",\"Cardiology*\",\"Cardiology*\",\"Cardiology*\",\"Interventional Cardiology*\",\"Cardiology*\",\"Cardiology*\",\"Cardiology*\",\"Cardiology*\",\"Cardiology*\",\"Cardiology*\",\"Cardiology*\",\"Cardiology*\",\"Cardiology*\",\"Internal Medicine*\",\"Cardiology*\",\"Cardiology*\",\"Cardiology*\",\"Cardiology*\",\"Cardiology*\",\"Cardiology*\",\"Cardiology*\",\"Internal Medicine*\",\"Cardiology*\",\"Cardiology*\",\"Cardiology*\",\"Cardiology*\",\"Cardiology*\",\"Cardiology*\",\"Cardiology*\",\"Cardiology*\",\"Pediatric Cardiology*\",\"Internal Medicine*\",\"Cardiology*\",\"Cardiology*\",\"Cardiology*\",\"Cardiology*\",\"Cardiology*\",\"Cardiology*\",\"Cardiology*\",\"Cardiology*\",\"Cardiology*\",\"Cardiology*\",\"Cardiology*\",\"Cardiology*\",\"Cardiology*\",\"Cardiology*\",\"Cardiology*\",\"Cardiology*\",\"Interventional Cardiology*\",\"Cardiology*\",\"Cardiology*\",\"Cardiology*\",\"Cardiology*\",\"Cardiology*\",\"Cardiology*\",\"Interventional Cardiology*\",\"Cardiology*\",\"Cardiology*\",\"Cardiology*\",\"Cardiology*\",\"Cardiology*\",\"Cardiology*\",\"Cardiology*\",\"Cardiology*\",\"Cardiology*\",\"No speciality available\",\"Cardiology*\",\"Cardiology*\",\"Internal Medicine*\",\"Cardiology*\",\"Cardiology*\",\"Cardiology*\",\"Cardiology*\",\"Cardiology*\",\"Cardiology*\",\"Cardiology*\",\"Cardiology*\",\"Cardiology*\",\"Cardiology*\",\"Cardiology*\",\"Cardiology*\",\"Cardiology*\",\"Cardiology*\",\"Cardiology*\",\"Cardiology*\",\"Cardiology*\",\"Cardiology*\",\"Internal Medicine*\",\"Cardiology*\",\"Cardiology*\",\"Cardiology*\",\"Cardiology*\",\"Cardiology*\",\"Cardiology*\",\"Cardiology*\",\"Cardiology*\",\"Cardiology*\",\"Cardiology*\",\"Cardiology*\",\"Cardiology*\",\"Cardiology*\",\"Cardiology*\",\"Cardiology*\",\"Cardiology*\",\"Cardiology*\",\"Cardiology*\",\"Cardiology*\",\"No speciality available\",\"Cardiology*\",\"Cardiology*\",\"Cardiology*\",\"Cardiology*\",\"Cardiology*\",\"Cardiology*\",\"Cardiology*\",\"Cardiology*\",\"Cardiology*\",\"Cardiology*\",\"Cardiology*\",\"Cardiology*\",\"Internal Medicine*\",\"Cardiology*\",\"Internal Medicine*\",\"Cardiology*\",\"Cardiology*\",\"Internal Medicine*\",\"Cardiology*\",\"Cardiology*\",\"Internal Medicine*\",\"Cardiology*\",\"Cardiology*\",\"Cardiology*\",\"Cardiology*\",\"No speciality available\",\"No speciality available\",\"Cardiology*\",\"Interventional Cardiology*\",\"Cardiology*\",\"Cardiology*\",\"Cardiology*\",\"Cardiology*\",\"Cardiology*\",\"Cardiology*\",\"Cardiology*\",\"Cardiology*\",\"Interventional Cardiology*\",\"Cardiology*\",\"Cardiology*\",\"Cardiology*\",\"Cardiology*\",\"Cardiology*\",\"Cardiology*\",\"Cardiology*\",\"Cardiology*\",\"Cardiology*\",\"Cardiology*\",\"Cardiology*\",\"Cardiology*\",\"Cardiology*\",\"Cardiology*\",\"Cardiology*\",\"Cardiology*\",\"Cardiology*\",\"Internal Medicine*\",\"Cardiology*\",\"Cardiology*\",\"Cardiology*\",\"Cardiology*\",\"Cardiology*\",\"Internal Medicine*\",\"Cardiology*\",\"Cardiology*\",\"Cardiology*\",\"Cardiology*\",\"Cardiology*\",\"Interventional Cardiology*\",\"Interventional Cardiology*\",\"Cardiology*\",\"Cardiology*\",\"Cardiology*\",\"Cardiology*\",\"Cardiology*\",\"Cardiology*\",\"Cardiology*\",\"Cardiology*\",\"Cardiology*\",\"Cardiology*\",\"Cardiology*\",\"Cardiology*\",\"Cardiology*\",\"Cardiology*\",\"Cardiology*\",\"Cardiology*\",\"Cardiology*\",\"Cardiology*\",\"Interventional Cardiology*\",\"Cardiology*\",\"Cardiology*\",\"Cardiology*\",\"Internal Medicine*\",\"Cardiology*\",\"Cardiology*\",\"Interventional Cardiology*\",\"Cardiology*\",\"Internal Medicine*\",\"No speciality available\",\"Cardiology*\",\"Cardiology*\",\"Cardiology*\",\"Cardiology*\",\"Cardiology*\",\"Cardiology*\",\"Cardiology*\",\"Cardiology*\",\"Cardiology*\",\"Cardiology*\",\"Cardiology*\",\"Cardiology*\",\"Cardiology*\",\"Internal Medicine*\",\"Cardiology*\",\"Internal Medicine*\",\"Cardiology*\",\"Interventional Cardiology*\",\"Interventional Cardiology*\",\"Cardiology*\",\"Internal Medicine*\",\"Cardiology*\",\"Cardiology*\",\"Cardiology*\",\"Cardiology*\",\"Cardiology*\",\"Cardiology*\",\"Cardiology*\",\"Cardiology*\",\"Cardiology*\",\"Cardiology*\",\"Cardiology*\",\"Cardiology*\",\"Cardiology*\",\"Cardiology*\",\"Cardiology*\",\"Cardiology*\",\"Internal Medicine*\",\"Cardiology*\",\"Cardiology*\",\"Internal Medicine*\",\"Cardiology*\",\"Cardiology*\",\"Cardiology*\",\"Cardiology*\",\"Cardiology*\",\"Cardiology*\",\"Cardiology*\",\"Cardiology*\",\"Interventional Cardiology*\",\"Cardiology*\",\"Cardiology*\",\"Cardiology*\",\"Cardiology*\",\"Cardiology*\",\"Cardiology*\",\"Cardiology*\",\"Cardiology*\",\"Cardiology*\",\"No speciality available\",\"Cardiology*\",\"Cardiology*\",\"Cardiology*\",\"Cardiology*\",\"Cardiology*\",\"Cardiology*\",\"Cardiology*\",\"Cardiology*\",\"Cardiology*\",\"Cardiology*\",\"Cardiology*\",\"Cardiology*\",\"Cardiology*\",\"Cardiology*\",\"Cardiology*\",\"Cardiology*\",\"Cardiology*\",\"Cardiology*\",\"Cardiology*\",\"Cardiology*\",\"Cardiology*\",\"Cardiology*\",\"Cardiology*\",\"Cardiology*\",\"Cardiology*\",\"Interventional Cardiology*\",\"Cardiology*\",\"Cardiology*\",\"Cardiology*\",\"Cardiology*\",\"Cardiology*\",\"Internal Medicine*\",\"Interventional Cardiology*\",\"Cardiology*\",\"Cardiology*\",\"Cardiology*\",\"Internal Medicine*\",\"Cardiology*\",\"Cardiology*\",\"Cardiology*\",\"Cardiology*\",\"Cardiology*\",\"Cardiology*\",\"Internal Medicine*\",\"No speciality available\",\"Cardiology*\",\"Cardiology*\",\"Cardiology*\",\"Cardiology*\",\"Cardiology*\",\"Cardiology*\",\"Cardiology*\",\"Ear, Nose, and Throat*\",\"Cardiology*\",\"Cardiology*\",\"Cardiology*\",\"Cardiology*\",\"Cardiology*\",\"No speciality available\",\"Internal Medicine*\",\"Cardiology*\",\"Cardiology*\",\"Cardiology*\",\"Internal Medicine*\",\"Cardiology*\",\"Cardiology*\",\"No speciality available\",\"Cardiology*\",\"Cardiology*\",\"No speciality available\",\"Cardiology*\",\"Cardiology*\",\"Cardiology*\",\"Cardiology*\",\"Cardiology*\",\"Cardiology*\",\"Cardiology*\",\"Cardiology*\",\"Cardiology*\",\"Interventional Cardiology*\",\"Cardiology*\",\"Cardiology*\",\"Cardiology*\",\"Cardiology*\",\"Cardiology*\",\"Cardiology*\",\"Cardiology*\",\"Cardiology*\",\"Cardiology*\",\"Cardiology*\",\"Cardiology*\",\"Cardiology*\",\"Cardiology*\",\"Cardiology*\",\"Cardiology*\",\"Cardiology*\",\"Cardiology*\",\"Cardiology*\",\"Cardiology*\",\"Cardiology*\",\"Cardiology*\",\"Cardiology*\",\"Cardiology*\",\"Cardiology*\",\"Cardiology*\",\"Cardiology*\",\"Cardiology*\",\"Cardiology*\",\"Cardiology*\",\"Cardiology*\",\"Cardiology*\",\"Cardiology*\",\"Cardiology*\",\"Cardiology*\",\"No speciality available\",\"Cardiology*\",\"Cardiology*\",\"Cardiology*\",\"Cardiology*\",\"Cardiology*\",\"Cardiology*\",\"Cardiology*\",\"Cardiology*\",\"Interventional Cardiology*\",\"Cardiology*\",\"Cardiology*\",\"Cardiology*\",\"Cardiology*\",\"Cardiology*\",\"Cardiology*\",\"Cardiology*\",\"Cardiology*\",\"No speciality available\",\"Cardiology*\",\"Cardiology*\",\"Cardiology*\",\"Cardiology*\",\"Cardiology*\",\"Cardiology*\",\"Cardiology*\"],\"legendgroup\":\"\",\"name\":\"\",\"showlegend\":true,\"values\":[10,18,12,15,21,23,11,28,4,32,0,21,0,5,3,14,0,9,0,7,10,2,138,12,470,30,31,80,30,19,112,11,13,27,19,9,7,32,11,15,29,4,28,59,17,35,59,5,31,63,80,328,17,0,116,27,19,37,25,343,11,44,14,36,27,33,14,15,4,13,171,59,57,48,30,38,34,86,45,74,43,20,148,43,59,32,30,21,12,19,19,12,16,49,88,21,19,19,11,12,11,42,18,22,29,9,11,0,16,41,3,17,19,14,4,6,0,0,2,0,3,3,2,9,12,4,0,4,0,2,7,2,16,17,0,4,0,6,7,4,6,0,2,0,3,4,2,0,3,2,2,0,8,2,0,0,9,3,29,16,14,11,7,13,15,2,6,4,0,2,15,6,3,2,5,0,9,3,5,4,3,22,9,19,12,8,9,9,11,38,20,15,15,6,15,24,11,10,24,20,4,7,3,2,19,19,10,7,9,3,6,7,2,293,5,4,5,0,12,11,4,13,25,0,9,10,22,12,9,6,12,14,15,6,8,13,47,29,27,41,20,12,22,11,15,14,5,6,0,8,9,0,8,23,0,12,4,6,0,26,0,0,5,6,10,10,9,4,5,5,5,19,12,0,12,13,7,9,18,9,6,9,6,5,23,15,4,9,27,4,3,3,4,4,8,11,11,6,2,13,23,7,9,9,8,38,5,8,12,27,12,7,10,21,6,11,3,12,3,3,6,16,3,6,36,10,16,28,18,4,4,3,10,5,5,17,3,3,6,4,7,4,4,3,7,9,7,5,9,2,4,15,4,6,8,8,9,17,5,8,2,8,3,9,8,2,0,2,0,0,0,0,0,0,0,0,6,0,0,0,0,0,0,0,0,0,0,0,0,0,0,0,0,0,0,0,0,0,0,0,0,0,0,0,0,0,0,0,0,0,0,0,0,0,0,0,0,0,0,0,0,0,0,0,0,0,0,22,0,14,0,20,4,10,21,22,6,17,4,0,8,2,0,5],\"type\":\"pie\"}],                        {\"template\":{\"data\":{\"histogram2dcontour\":[{\"type\":\"histogram2dcontour\",\"colorbar\":{\"outlinewidth\":0,\"ticks\":\"\"},\"colorscale\":[[0.0,\"#0d0887\"],[0.1111111111111111,\"#46039f\"],[0.2222222222222222,\"#7201a8\"],[0.3333333333333333,\"#9c179e\"],[0.4444444444444444,\"#bd3786\"],[0.5555555555555556,\"#d8576b\"],[0.6666666666666666,\"#ed7953\"],[0.7777777777777778,\"#fb9f3a\"],[0.8888888888888888,\"#fdca26\"],[1.0,\"#f0f921\"]]}],\"choropleth\":[{\"type\":\"choropleth\",\"colorbar\":{\"outlinewidth\":0,\"ticks\":\"\"}}],\"histogram2d\":[{\"type\":\"histogram2d\",\"colorbar\":{\"outlinewidth\":0,\"ticks\":\"\"},\"colorscale\":[[0.0,\"#0d0887\"],[0.1111111111111111,\"#46039f\"],[0.2222222222222222,\"#7201a8\"],[0.3333333333333333,\"#9c179e\"],[0.4444444444444444,\"#bd3786\"],[0.5555555555555556,\"#d8576b\"],[0.6666666666666666,\"#ed7953\"],[0.7777777777777778,\"#fb9f3a\"],[0.8888888888888888,\"#fdca26\"],[1.0,\"#f0f921\"]]}],\"heatmap\":[{\"type\":\"heatmap\",\"colorbar\":{\"outlinewidth\":0,\"ticks\":\"\"},\"colorscale\":[[0.0,\"#0d0887\"],[0.1111111111111111,\"#46039f\"],[0.2222222222222222,\"#7201a8\"],[0.3333333333333333,\"#9c179e\"],[0.4444444444444444,\"#bd3786\"],[0.5555555555555556,\"#d8576b\"],[0.6666666666666666,\"#ed7953\"],[0.7777777777777778,\"#fb9f3a\"],[0.8888888888888888,\"#fdca26\"],[1.0,\"#f0f921\"]]}],\"heatmapgl\":[{\"type\":\"heatmapgl\",\"colorbar\":{\"outlinewidth\":0,\"ticks\":\"\"},\"colorscale\":[[0.0,\"#0d0887\"],[0.1111111111111111,\"#46039f\"],[0.2222222222222222,\"#7201a8\"],[0.3333333333333333,\"#9c179e\"],[0.4444444444444444,\"#bd3786\"],[0.5555555555555556,\"#d8576b\"],[0.6666666666666666,\"#ed7953\"],[0.7777777777777778,\"#fb9f3a\"],[0.8888888888888888,\"#fdca26\"],[1.0,\"#f0f921\"]]}],\"contourcarpet\":[{\"type\":\"contourcarpet\",\"colorbar\":{\"outlinewidth\":0,\"ticks\":\"\"}}],\"contour\":[{\"type\":\"contour\",\"colorbar\":{\"outlinewidth\":0,\"ticks\":\"\"},\"colorscale\":[[0.0,\"#0d0887\"],[0.1111111111111111,\"#46039f\"],[0.2222222222222222,\"#7201a8\"],[0.3333333333333333,\"#9c179e\"],[0.4444444444444444,\"#bd3786\"],[0.5555555555555556,\"#d8576b\"],[0.6666666666666666,\"#ed7953\"],[0.7777777777777778,\"#fb9f3a\"],[0.8888888888888888,\"#fdca26\"],[1.0,\"#f0f921\"]]}],\"surface\":[{\"type\":\"surface\",\"colorbar\":{\"outlinewidth\":0,\"ticks\":\"\"},\"colorscale\":[[0.0,\"#0d0887\"],[0.1111111111111111,\"#46039f\"],[0.2222222222222222,\"#7201a8\"],[0.3333333333333333,\"#9c179e\"],[0.4444444444444444,\"#bd3786\"],[0.5555555555555556,\"#d8576b\"],[0.6666666666666666,\"#ed7953\"],[0.7777777777777778,\"#fb9f3a\"],[0.8888888888888888,\"#fdca26\"],[1.0,\"#f0f921\"]]}],\"mesh3d\":[{\"type\":\"mesh3d\",\"colorbar\":{\"outlinewidth\":0,\"ticks\":\"\"}}],\"scatter\":[{\"fillpattern\":{\"fillmode\":\"overlay\",\"size\":10,\"solidity\":0.2},\"type\":\"scatter\"}],\"parcoords\":[{\"type\":\"parcoords\",\"line\":{\"colorbar\":{\"outlinewidth\":0,\"ticks\":\"\"}}}],\"scatterpolargl\":[{\"type\":\"scatterpolargl\",\"marker\":{\"colorbar\":{\"outlinewidth\":0,\"ticks\":\"\"}}}],\"bar\":[{\"error_x\":{\"color\":\"#2a3f5f\"},\"error_y\":{\"color\":\"#2a3f5f\"},\"marker\":{\"line\":{\"color\":\"#E5ECF6\",\"width\":0.5},\"pattern\":{\"fillmode\":\"overlay\",\"size\":10,\"solidity\":0.2}},\"type\":\"bar\"}],\"scattergeo\":[{\"type\":\"scattergeo\",\"marker\":{\"colorbar\":{\"outlinewidth\":0,\"ticks\":\"\"}}}],\"scatterpolar\":[{\"type\":\"scatterpolar\",\"marker\":{\"colorbar\":{\"outlinewidth\":0,\"ticks\":\"\"}}}],\"histogram\":[{\"marker\":{\"pattern\":{\"fillmode\":\"overlay\",\"size\":10,\"solidity\":0.2}},\"type\":\"histogram\"}],\"scattergl\":[{\"type\":\"scattergl\",\"marker\":{\"colorbar\":{\"outlinewidth\":0,\"ticks\":\"\"}}}],\"scatter3d\":[{\"type\":\"scatter3d\",\"line\":{\"colorbar\":{\"outlinewidth\":0,\"ticks\":\"\"}},\"marker\":{\"colorbar\":{\"outlinewidth\":0,\"ticks\":\"\"}}}],\"scattermapbox\":[{\"type\":\"scattermapbox\",\"marker\":{\"colorbar\":{\"outlinewidth\":0,\"ticks\":\"\"}}}],\"scatterternary\":[{\"type\":\"scatterternary\",\"marker\":{\"colorbar\":{\"outlinewidth\":0,\"ticks\":\"\"}}}],\"scattercarpet\":[{\"type\":\"scattercarpet\",\"marker\":{\"colorbar\":{\"outlinewidth\":0,\"ticks\":\"\"}}}],\"carpet\":[{\"aaxis\":{\"endlinecolor\":\"#2a3f5f\",\"gridcolor\":\"white\",\"linecolor\":\"white\",\"minorgridcolor\":\"white\",\"startlinecolor\":\"#2a3f5f\"},\"baxis\":{\"endlinecolor\":\"#2a3f5f\",\"gridcolor\":\"white\",\"linecolor\":\"white\",\"minorgridcolor\":\"white\",\"startlinecolor\":\"#2a3f5f\"},\"type\":\"carpet\"}],\"table\":[{\"cells\":{\"fill\":{\"color\":\"#EBF0F8\"},\"line\":{\"color\":\"white\"}},\"header\":{\"fill\":{\"color\":\"#C8D4E3\"},\"line\":{\"color\":\"white\"}},\"type\":\"table\"}],\"barpolar\":[{\"marker\":{\"line\":{\"color\":\"#E5ECF6\",\"width\":0.5},\"pattern\":{\"fillmode\":\"overlay\",\"size\":10,\"solidity\":0.2}},\"type\":\"barpolar\"}],\"pie\":[{\"automargin\":true,\"type\":\"pie\"}]},\"layout\":{\"autotypenumbers\":\"strict\",\"colorway\":[\"#636efa\",\"#EF553B\",\"#00cc96\",\"#ab63fa\",\"#FFA15A\",\"#19d3f3\",\"#FF6692\",\"#B6E880\",\"#FF97FF\",\"#FECB52\"],\"font\":{\"color\":\"#2a3f5f\"},\"hovermode\":\"closest\",\"hoverlabel\":{\"align\":\"left\"},\"paper_bgcolor\":\"white\",\"plot_bgcolor\":\"#E5ECF6\",\"polar\":{\"bgcolor\":\"#E5ECF6\",\"angularaxis\":{\"gridcolor\":\"white\",\"linecolor\":\"white\",\"ticks\":\"\"},\"radialaxis\":{\"gridcolor\":\"white\",\"linecolor\":\"white\",\"ticks\":\"\"}},\"ternary\":{\"bgcolor\":\"#E5ECF6\",\"aaxis\":{\"gridcolor\":\"white\",\"linecolor\":\"white\",\"ticks\":\"\"},\"baxis\":{\"gridcolor\":\"white\",\"linecolor\":\"white\",\"ticks\":\"\"},\"caxis\":{\"gridcolor\":\"white\",\"linecolor\":\"white\",\"ticks\":\"\"}},\"coloraxis\":{\"colorbar\":{\"outlinewidth\":0,\"ticks\":\"\"}},\"colorscale\":{\"sequential\":[[0.0,\"#0d0887\"],[0.1111111111111111,\"#46039f\"],[0.2222222222222222,\"#7201a8\"],[0.3333333333333333,\"#9c179e\"],[0.4444444444444444,\"#bd3786\"],[0.5555555555555556,\"#d8576b\"],[0.6666666666666666,\"#ed7953\"],[0.7777777777777778,\"#fb9f3a\"],[0.8888888888888888,\"#fdca26\"],[1.0,\"#f0f921\"]],\"sequentialminus\":[[0.0,\"#0d0887\"],[0.1111111111111111,\"#46039f\"],[0.2222222222222222,\"#7201a8\"],[0.3333333333333333,\"#9c179e\"],[0.4444444444444444,\"#bd3786\"],[0.5555555555555556,\"#d8576b\"],[0.6666666666666666,\"#ed7953\"],[0.7777777777777778,\"#fb9f3a\"],[0.8888888888888888,\"#fdca26\"],[1.0,\"#f0f921\"]],\"diverging\":[[0,\"#8e0152\"],[0.1,\"#c51b7d\"],[0.2,\"#de77ae\"],[0.3,\"#f1b6da\"],[0.4,\"#fde0ef\"],[0.5,\"#f7f7f7\"],[0.6,\"#e6f5d0\"],[0.7,\"#b8e186\"],[0.8,\"#7fbc41\"],[0.9,\"#4d9221\"],[1,\"#276419\"]]},\"xaxis\":{\"gridcolor\":\"white\",\"linecolor\":\"white\",\"ticks\":\"\",\"title\":{\"standoff\":15},\"zerolinecolor\":\"white\",\"automargin\":true,\"zerolinewidth\":2},\"yaxis\":{\"gridcolor\":\"white\",\"linecolor\":\"white\",\"ticks\":\"\",\"title\":{\"standoff\":15},\"zerolinecolor\":\"white\",\"automargin\":true,\"zerolinewidth\":2},\"scene\":{\"xaxis\":{\"backgroundcolor\":\"#E5ECF6\",\"gridcolor\":\"white\",\"linecolor\":\"white\",\"showbackground\":true,\"ticks\":\"\",\"zerolinecolor\":\"white\",\"gridwidth\":2},\"yaxis\":{\"backgroundcolor\":\"#E5ECF6\",\"gridcolor\":\"white\",\"linecolor\":\"white\",\"showbackground\":true,\"ticks\":\"\",\"zerolinecolor\":\"white\",\"gridwidth\":2},\"zaxis\":{\"backgroundcolor\":\"#E5ECF6\",\"gridcolor\":\"white\",\"linecolor\":\"white\",\"showbackground\":true,\"ticks\":\"\",\"zerolinecolor\":\"white\",\"gridwidth\":2}},\"shapedefaults\":{\"line\":{\"color\":\"#2a3f5f\"}},\"annotationdefaults\":{\"arrowcolor\":\"#2a3f5f\",\"arrowhead\":0,\"arrowwidth\":1},\"geo\":{\"bgcolor\":\"white\",\"landcolor\":\"#E5ECF6\",\"subunitcolor\":\"white\",\"showland\":true,\"showlakes\":true,\"lakecolor\":\"white\"},\"title\":{\"x\":0.05},\"mapbox\":{\"style\":\"light\"}}},\"legend\":{\"tracegroupgap\":0},\"title\":{\"text\":\"Total Reviews by Speciality\"},\"height\":600,\"width\":800},                        {\"responsive\": true}                    ).then(function(){\n",
       "                            \n",
       "var gd = document.getElementById('407dbb39-fe26-41cd-af74-7bd28dbe668f');\n",
       "var x = new MutationObserver(function (mutations, observer) {{\n",
       "        var display = window.getComputedStyle(gd).display;\n",
       "        if (!display || display === 'none') {{\n",
       "            console.log([gd, 'removed!']);\n",
       "            Plotly.purge(gd);\n",
       "            observer.disconnect();\n",
       "        }}\n",
       "}});\n",
       "\n",
       "// Listen for the removal of the full notebook cells\n",
       "var notebookContainer = gd.closest('#notebook-container');\n",
       "if (notebookContainer) {{\n",
       "    x.observe(notebookContainer, {childList: true});\n",
       "}}\n",
       "\n",
       "// Listen for the clearing of the current output cell\n",
       "var outputEl = gd.closest('.output');\n",
       "if (outputEl) {{\n",
       "    x.observe(outputEl, {childList: true});\n",
       "}}\n",
       "\n",
       "                        })                };                });            </script>        </div>"
      ]
     },
     "metadata": {},
     "output_type": "display_data"
    }
   ],
   "source": [
    "import plotly.express as px\n",
    "\n",
    "fig = px.pie(df, \n",
    "             names='speciality', \n",
    "             values='Number of Reviews', \n",
    "             title='Total Reviews by Speciality',\n",
    "             width=800,   # Set the width of the plot\n",
    "             height=600)  # Set the height of the plot\n",
    "\n",
    "# Show the pie chart\n",
    "fig.show()"
   ]
  },
  {
   "cell_type": "markdown",
   "id": "3fd21149-28a2-462d-84ee-777c0717a335",
   "metadata": {},
   "source": [
    "<h3 style=\"list-style-type: circle,\"font-family: Times New Roman, serif;\">\n",
    "    <li>Correlate data of Number of reviews and ratings</li>"
   ]
  },
  {
   "cell_type": "code",
   "execution_count": 181,
   "id": "a885879a-d4a2-4d84-bdec-f61a9638ad82",
   "metadata": {},
   "outputs": [
    {
     "data": {
      "text/plain": [
       "0.23911412286997089"
      ]
     },
     "execution_count": 181,
     "metadata": {},
     "output_type": "execute_result"
    }
   ],
   "source": [
    "correlation = df['Number of Reviews'].corr(df['Rating'])\n",
    "correlation"
   ]
  },
  {
   "cell_type": "markdown",
   "id": "ef9ac750-e5cc-44ea-a23e-7aa1027e2553",
   "metadata": {},
   "source": [
    "<h3 style=\"list-style-type: circle,\"font-family: Times New Roman, serif;\">\n",
    "    <li>Analysis on patient comments from\n",
    "common complaints and praises using textblob</li>"
   ]
  },
  {
   "cell_type": "code",
   "execution_count": 188,
   "id": "8c7bdfcf-891d-4221-8b93-db4b1a5c36a8",
   "metadata": {},
   "outputs": [],
   "source": [
    "# pip install pandas textblob matplotlib"
   ]
  },
  {
   "cell_type": "code",
   "execution_count": 190,
   "id": "cf61094c-44b6-44d3-a502-25dfca0360e2",
   "metadata": {},
   "outputs": [
    {
     "name": "stdout",
     "output_type": "stream",
     "text": [
      "       Health Provider Name   speciality  Gender  Age  Rating  \\\n",
      "0     Dr. Ephron Shohat, MD  Cardiology*    Male   52     5.0   \n",
      "1     Dr. Manish Parikh, MD  Cardiology*    Male   57     4.6   \n",
      "2    Dr. Manuel Morlote, MD  Cardiology*    Male   57     4.8   \n",
      "3      Dr. Sonia Tolani, MD  Cardiology*  Female   57     4.5   \n",
      "4     Dr. Allison Spatz, MD  Cardiology*  Female   57     5.0   \n",
      "..                      ...          ...     ...  ...     ...   \n",
      "439     Dr. Linda Koshy, MD  Cardiology*  Female   35     0.0   \n",
      "440  Dr. Eugenia Gianos, MD  Cardiology*  Female   49     5.0   \n",
      "441    Dr. Caroline Ong, MD  Cardiology*  Female   41     5.0   \n",
      "442      Dr. Bani Azari, MD  Cardiology*  Female   46     0.0   \n",
      "443      Dr. Esad Vucic, MD  Cardiology*    Male   51     5.0   \n",
      "\n",
      "     Number of Reviews                                           Location  \\\n",
      "0                   10  (Ephron Z Shohat MD LLC1763 E 12th StBrooklyn,...   \n",
      "1                   18  (Center for Community Health at NewYork-Presby...   \n",
      "2                   12  (NewYork-Presbyterian Brooklyn Methodist Hospi...   \n",
      "3                   15  (9317 Medical Office PC9317 Roosevelt AveJacks...   \n",
      "4                   21  (New York Cardiovascular Associates275 7th Ave...   \n",
      "..                 ...                                                ...   \n",
      "439                  0  (Nyc Health Hospitals \\ Bellevue462 1st AveNew...   \n",
      "440                  8  (Manhattan Minimally Invasive and Bariatric Su...   \n",
      "441                  2  (Office7 7th AveNew York,NY10011, Northwell He...   \n",
      "442                  0  (Northwell Health Physician Partners Cardiolog...   \n",
      "443                  5  (Northwell Health Physician Partners at Greenw...   \n",
      "\n",
      "                                      Patient Comments  Polarity  Subjectivity  \n",
      "0    I had a wonderful experience with the staff. V...  0.433333      0.466667  \n",
      "1    The service was average. I expected more atten...  0.083333      0.433333  \n",
      "2    The staff was very knowledgeable and explained...  0.200000      0.300000  \n",
      "3    The staff was very knowledgeable and explained...  0.200000      0.300000  \n",
      "4    The experience was friendly, but the appointme...  0.037500      0.550000  \n",
      "..                                                 ...       ...           ...  \n",
      "439  The staff was very knowledgeable and explained...  0.200000      0.300000  \n",
      "440  The staff was professional, but the appointmen...  0.100000      0.100000  \n",
      "441  I had a wonderful experience with the staff. V...  0.433333      0.466667  \n",
      "442  Although the wait time was long, the overall s...  0.216667      0.333333  \n",
      "443  The care provided was exceptional and made me ...  0.593333      1.000000  \n",
      "\n",
      "[444 rows x 10 columns]\n"
     ]
    },
    {
     "data": {
      "image/png": "[encoded data removed]",
      "text/plain": [
       "<Figure size 1400x600 with 2 Axes>"
      ]
     },
     "metadata": {},
     "output_type": "display_data"
    }
   ],
   "source": [
    "from textblob import TextBlob\n",
    "def analyze_sentiment(comment):\n",
    "    analysis = TextBlob(comment)\n",
    "    return analysis.sentiment.polarity, analysis.sentiment.subjectivity\n",
    "\n",
    "# Apply the sentiment analysis function to each comment\n",
    "df[['Polarity', 'Subjectivity']] = df['Patient Comments'].apply(lambda x: pd.Series(analyze_sentiment(x)))\n",
    "\n",
    "# Print the DataFrame with sentiment scores\n",
    "print(df)\n",
    "\n",
    "# Plotting sentiment analysis results\n",
    "plt.figure(figsize=(14, 6))\n",
    "\n",
    "# Plot for Polarity\n",
    "plt.subplot(1, 2, 1)\n",
    "plt.hist(df['Polarity'], bins=20, color='skyblue', edgecolor='black')\n",
    "plt.title('Polarity Distribution')\n",
    "plt.xlabel('Polarity')\n",
    "plt.ylabel('Frequency')\n",
    "\n",
    "# Plot for Subjectivity\n",
    "plt.subplot(1, 2, 2)\n",
    "plt.hist(df['Subjectivity'], bins=20, color='salmon', edgecolor='black')\n",
    "plt.title('Subjectivity Distribution')\n",
    "plt.xlabel('Subjectivity')\n",
    "plt.ylabel('Frequency')\n",
    "\n",
    "plt.tight_layout()\n",
    "plt.show()\n"
   ]
  },
  {
   "cell_type": "markdown",
   "id": "b22e7866-9886-4b4f-a0ac-e0e59cc7af31",
   "metadata": {},
   "source": [
    "<h3 style=\"list-style-type: circle,\"font-family: Times New Roman, serif;\">\n",
    "    <li>Analyzed Reviews Score vs Rating using scatter plot</li>"
   ]
  },
  {
   "cell_type": "code",
   "execution_count": 182,
   "id": "26f7c1ef-30ce-49ea-b1cd-2eb9710fb7e8",
   "metadata": {},
   "outputs": [
    {
     "data": {
      "image/png": "[encoded data removed]",
      "text/plain": [
       "<Figure size 640x480 with 1 Axes>"
      ]
     },
     "metadata": {},
     "output_type": "display_data"
    }
   ],
   "source": [
    "import matplotlib.pyplot as plt\n",
    "\n",
    "plt.scatter(df['Rating'],df['Number of Reviews'])\n",
    "plt.ylabel('Number of Reviews')\n",
    "plt.xlabel('Rating')\n",
    "plt.title('Scatter Plot of Reviews Score vs Rating')\n",
    "plt.show()\n"
   ]
  },
  {
   "cell_type": "markdown",
   "id": "c372ac24-6362-443e-903a-539ba017d86f",
   "metadata": {},
   "source": [
    "<h3 style=\"list-style-type: circle,\"font-family: Times New Roman, serif;\">\n",
    "    <li>Analyzed Speciality vs Rating</li>"
   ]
  },
  {
   "cell_type": "code",
   "execution_count": 183,
   "id": "b3166b61-0443-491c-9ed4-8d80abc32d48",
   "metadata": {},
   "outputs": [
    {
     "data": {
      "image/png": "[encoded data removed]",
      "text/plain": [
       "<Figure size 1000x600 with 1 Axes>"
      ]
     },
     "metadata": {},
     "output_type": "display_data"
    }
   ],
   "source": [
    "import seaborn as sns\n",
    "avg_ratings = df.groupby('speciality')['Rating'].mean().reset_index()\n",
    "\n",
    "# Create a bar plot\n",
    "plt.figure(figsize=(10, 6))\n",
    "sns.barplot(x='speciality', y='Rating', data=avg_ratings, palette='viridis')\n",
    "plt.xlabel('Specialty')\n",
    "plt.ylabel('Average Rating')\n",
    "plt.title('Average Ratings by Specialty')\n",
    "plt.xticks(rotation=45)\n",
    "plt.show()"
   ]
  },
  {
   "cell_type": "markdown",
   "id": "af6bfc7e-6120-4859-af19-6e6e707cd1bc",
   "metadata": {},
   "source": [
    "<h3 style=\"list-style-type: circle,\"font-family: Times New Roman, serif;\">\n",
    "    <li>Analyzed patient comments using Word clouds</li>"
   ]
  },
  {
   "cell_type": "code",
   "execution_count": 185,
   "id": "fadadaa4-de8c-45fe-ac16-8857f32699aa",
   "metadata": {},
   "outputs": [],
   "source": [
    "# !pip install wordcloud"
   ]
  },
  {
   "cell_type": "code",
   "execution_count": 184,
   "id": "93c7d177-9cca-40d6-8d50-9aa2653506c6",
   "metadata": {},
   "outputs": [
    {
     "data": {
      "image/png": "[encoded data removed]",
      "text/plain": [
       "<Figure size 1200x600 with 1 Axes>"
      ]
     },
     "metadata": {},
     "output_type": "display_data"
    }
   ],
   "source": [
    "from wordcloud import WordCloud\n",
    "\n",
    "text = ' '.join(df['Patient Comments'])\n",
    "\n",
    "# Generate the word cloud\n",
    "wordcloud = WordCloud(width=800, height=400, background_color='white').generate(text)\n",
    "\n",
    "# Plot the word cloud\n",
    "plt.figure(figsize=(12, 6))\n",
    "plt.imshow(wordcloud, interpolation='bilinear')\n",
    "plt.axis('off')\n",
    "plt.title('Word Cloud from Patient Comments')\n",
    "plt.show()"
   ]
  },
  {
   "cell_type": "markdown",
   "id": "64574a8a-ecb2-4763-a519-8638e58a37e5",
   "metadata": {},
   "source": [
    "<h3 style=\"list-style-type: circle,\"font-family: Times New Roman, serif;\">\n",
    "    <li>Analyzed Number of counts on the basis of age, gender and speciality</li>"
   ]
  },
  {
   "cell_type": "code",
   "execution_count": 206,
   "id": "0de490a5-4bb5-4c96-bc4f-74945beab50f",
   "metadata": {},
   "outputs": [
    {
     "data": {
      "text/plain": [
       "<matplotlib.legend.Legend at 0x28526acae10>"
      ]
     },
     "execution_count": 206,
     "metadata": {},
     "output_type": "execute_result"
    },
    {
     "data": {
      "image/png": "[encoded data removed]",
      "text/plain": [
       "<Figure size 1200x600 with 1 Axes>"
      ]
     },
     "metadata": {},
     "output_type": "display_data"
    }
   ],
   "source": [
    "count_data = df.groupby(['Gender', 'speciality']).size().reset_index(name='Count')\n",
    "\n",
    "# Create a bar plot\n",
    "plt.figure(figsize=(12, 6))\n",
    "sns.barplot(data=count_data, x='speciality', y='Count', hue='Gender', dodge=True)\n",
    "\n",
    "# Customize the plot\n",
    "plt.title('Count of Gender, and Specialty')\n",
    "plt.xlabel('Specialty')\n",
    "plt.xticks(rotation=45)\n",
    "plt.ylabel('Count')\n",
    "plt.legend(title='Gender')"
   ]
  },
  {
   "cell_type": "code",
   "execution_count": 212,
   "id": "b7ba0be2-067d-44cf-80cf-896a8a9a9645",
   "metadata": {},
   "outputs": [
    {
     "data": {
      "image/png": "[encoded data removed]",
      "text/plain": [
       "<Figure size 1200x600 with 1 Axes>"
      ]
     },
     "metadata": {},
     "output_type": "display_data"
    }
   ],
   "source": [
    "# Group by specialty and calculate the mean age\n",
    "count_data2 = df.groupby(['speciality'])['Age'].mean().reset_index(name='Average Age')\n",
    "\n",
    "# Create a bar plot\n",
    "plt.figure(figsize=(12, 6))\n",
    "sns.barplot(data=count_data2, x='speciality', y='Average Age')\n",
    "\n",
    "# Customize the plot\n",
    "plt.title('Average Age by Specialty')\n",
    "plt.xlabel('Specialty')\n",
    "plt.xticks(rotation=45)\n",
    "plt.ylabel('Average Age')\n",
    "plt.tight_layout()\n",
    "\n",
    "# Show the plot\n",
    "plt.show()\n",
    "\n"
   ]
  },
  {
   "cell_type": "code",
   "execution_count": 213,
   "id": "3bbaa7a2-c0b6-4555-8d5f-240d73d15e02",
   "metadata": {},
   "outputs": [],
   "source": [
    "df.to_excel(\"healgradedata.xlsx\",index= False)"
   ]
  },
  {
   "cell_type": "code",
   "execution_count": null,
   "id": "cfef26f0-9c5e-410a-ac11-85c5ed520873",
   "metadata": {},
   "outputs": [],
   "source": []
  }
 ],
 "metadata": {
  "kernelspec": {
   "display_name": "Python 3 (ipykernel)",
   "language": "python",
   "name": "python3"
  },
  "language_info": {
   "codemirror_mode": {
    "name": "ipython",
    "version": 3
   },
   "file_extension": ".py",
   "mimetype": "text/x-python",
   "name": "python",
   "nbconvert_exporter": "python",
   "pygments_lexer": "ipython3",
   "version": "3.11.7"
  }
 },
 "nbformat": 4,
 "nbformat_minor": 5
}
